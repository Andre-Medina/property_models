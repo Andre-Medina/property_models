{
 "cells": [
  {
   "cell_type": "code",
   "execution_count": 1,
   "metadata": {},
   "outputs": [],
   "source": [
    "import polars as pl\n",
    "import pyarrow.compute as pc"
   ]
  },
  {
   "cell_type": "markdown",
   "metadata": {},
   "source": [
    "### Country codes and names"
   ]
  },
  {
   "cell_type": "code",
   "execution_count": 3,
   "metadata": {},
   "outputs": [
    {
     "data": {
      "text/html": [
       "<div><style>\n",
       ".dataframe > thead > tr,\n",
       ".dataframe > tbody > tr {\n",
       "  text-align: right;\n",
       "  white-space: pre-wrap;\n",
       "}\n",
       "</style>\n",
       "<small>shape: (249, 4)</small><table border=\"1\" class=\"dataframe\"><thead><tr><th>country_name</th><th>alpha-2</th><th>alpha-3</th><th>clean_name</th></tr><tr><td>str</td><td>str</td><td>str</td><td>str</td></tr></thead><tbody><tr><td>&quot;Afghanistan&quot;</td><td>&quot;AF&quot;</td><td>&quot;AFG&quot;</td><td>&quot;afghanistan&quot;</td></tr><tr><td>&quot;Åland Islands&quot;</td><td>&quot;AX&quot;</td><td>&quot;ALA&quot;</td><td>&quot;åland_islands&quot;</td></tr><tr><td>&quot;Albania&quot;</td><td>&quot;AL&quot;</td><td>&quot;ALB&quot;</td><td>&quot;albania&quot;</td></tr><tr><td>&quot;Algeria&quot;</td><td>&quot;DZ&quot;</td><td>&quot;DZA&quot;</td><td>&quot;algeria&quot;</td></tr><tr><td>&quot;American Samoa&quot;</td><td>&quot;AS&quot;</td><td>&quot;ASM&quot;</td><td>&quot;american_samoa&quot;</td></tr><tr><td>&hellip;</td><td>&hellip;</td><td>&hellip;</td><td>&hellip;</td></tr><tr><td>&quot;Wallis and Futuna&quot;</td><td>&quot;WF&quot;</td><td>&quot;WLF&quot;</td><td>&quot;wallis_and_futuna&quot;</td></tr><tr><td>&quot;Western Sahara&quot;</td><td>&quot;EH&quot;</td><td>&quot;ESH&quot;</td><td>&quot;western_sahara&quot;</td></tr><tr><td>&quot;Yemen&quot;</td><td>&quot;YE&quot;</td><td>&quot;YEM&quot;</td><td>&quot;yemen&quot;</td></tr><tr><td>&quot;Zambia&quot;</td><td>&quot;ZM&quot;</td><td>&quot;ZMB&quot;</td><td>&quot;zambia&quot;</td></tr><tr><td>&quot;Zimbabwe&quot;</td><td>&quot;ZW&quot;</td><td>&quot;ZWE&quot;</td><td>&quot;zimbabwe&quot;</td></tr></tbody></table></div>"
      ],
      "text/plain": [
       "shape: (249, 4)\n",
       "┌───────────────────┬─────────┬─────────┬───────────────────┐\n",
       "│ country_name      ┆ alpha-2 ┆ alpha-3 ┆ clean_name        │\n",
       "│ ---               ┆ ---     ┆ ---     ┆ ---               │\n",
       "│ str               ┆ str     ┆ str     ┆ str               │\n",
       "╞═══════════════════╪═════════╪═════════╪═══════════════════╡\n",
       "│ Afghanistan       ┆ AF      ┆ AFG     ┆ afghanistan       │\n",
       "│ Åland Islands     ┆ AX      ┆ ALA     ┆ åland_islands     │\n",
       "│ Albania           ┆ AL      ┆ ALB     ┆ albania           │\n",
       "│ Algeria           ┆ DZ      ┆ DZA     ┆ algeria           │\n",
       "│ American Samoa    ┆ AS      ┆ ASM     ┆ american_samoa    │\n",
       "│ …                 ┆ …       ┆ …       ┆ …                 │\n",
       "│ Wallis and Futuna ┆ WF      ┆ WLF     ┆ wallis_and_futuna │\n",
       "│ Western Sahara    ┆ EH      ┆ ESH     ┆ western_sahara    │\n",
       "│ Yemen             ┆ YE      ┆ YEM     ┆ yemen             │\n",
       "│ Zambia            ┆ ZM      ┆ ZMB     ┆ zambia            │\n",
       "│ Zimbabwe          ┆ ZW      ┆ ZWE     ┆ zimbabwe          │\n",
       "└───────────────────┴─────────┴─────────┴───────────────────┘"
      ]
     },
     "execution_count": 3,
     "metadata": {},
     "output_type": "execute_result"
    }
   ],
   "source": [
    "country_codes = \"https://raw.githubusercontent.com/lukes/ISO-3166-Countries-with-Regional-Codes/refs/heads/master/all/all.csv\"\n",
    "raw_country_codes = pl.read_csv(country_codes)\n",
    "\n",
    "country_codes = raw_country_codes.select(\n",
    "    pl.col(\"name\").alias(\"country_name\"), 'alpha-2', 'alpha-3',\n",
    "    pl.col('name').str.to_lowercase().str.strip_chars().str.replace(\" \", \"_\", n=-1).alias('clean_name'),\n",
    ").with_columns(\n",
    "    # Attempting to remove accesnts. doesnt work too well\n",
    "    # https://github.com/pola-rs/polars/issues/11455\n",
    "    pl.col(\"clean_name\").map_batches(lambda x: pl.from_arrow(pc.utf8_normalize(x.to_arrow(), \"NFKD\")))\n",
    ")\n",
    "\n",
    "country_codes.write_csv(\"../../data/processed/country_codes.csv\")\n",
    "country_codes"
   ]
  },
  {
   "cell_type": "markdown",
   "metadata": {},
   "source": [
    "### Australian post codes"
   ]
  },
  {
   "cell_type": "code",
   "execution_count": 2,
   "metadata": {},
   "outputs": [
    {
     "data": {
      "text/html": [
       "<div><style>\n",
       ".dataframe > thead > tr,\n",
       ".dataframe > tbody > tr {\n",
       "  text-align: right;\n",
       "  white-space: pre-wrap;\n",
       "}\n",
       "</style>\n",
       "<small>shape: (16_875, 2)</small><table border=\"1\" class=\"dataframe\"><thead><tr><th>postcode</th><th>suburb</th></tr><tr><td>i64</td><td>str</td></tr></thead><tbody><tr><td>200</td><td>&quot;australian_national_university&quot;</td></tr><tr><td>221</td><td>&quot;barton&quot;</td></tr><tr><td>2540</td><td>&quot;wreck_bay&quot;</td></tr><tr><td>2540</td><td>&quot;hmas_creswell&quot;</td></tr><tr><td>2540</td><td>&quot;jervis_bay&quot;</td></tr><tr><td>&hellip;</td><td>&hellip;</td></tr><tr><td>6989</td><td>&quot;maddington&quot;</td></tr><tr><td>6990</td><td>&quot;gosnells&quot;</td></tr><tr><td>6991</td><td>&quot;kelmscott&quot;</td></tr><tr><td>6992</td><td>&quot;armadale&quot;</td></tr><tr><td>6997</td><td>&quot;kelmscott_dc&quot;</td></tr></tbody></table></div>"
      ],
      "text/plain": [
       "shape: (16_875, 2)\n",
       "┌──────────┬────────────────────────────────┐\n",
       "│ postcode ┆ suburb                         │\n",
       "│ ---      ┆ ---                            │\n",
       "│ i64      ┆ str                            │\n",
       "╞══════════╪════════════════════════════════╡\n",
       "│ 200      ┆ australian_national_university │\n",
       "│ 221      ┆ barton                         │\n",
       "│ 2540     ┆ wreck_bay                      │\n",
       "│ 2540     ┆ hmas_creswell                  │\n",
       "│ 2540     ┆ jervis_bay                     │\n",
       "│ …        ┆ …                              │\n",
       "│ 6989     ┆ maddington                     │\n",
       "│ 6990     ┆ gosnells                       │\n",
       "│ 6991     ┆ kelmscott                      │\n",
       "│ 6992     ┆ armadale                       │\n",
       "│ 6997     ┆ kelmscott_dc                   │\n",
       "└──────────┴────────────────────────────────┘"
      ]
     },
     "execution_count": 2,
     "metadata": {},
     "output_type": "execute_result"
    }
   ],
   "source": [
    "australian_postcodes = \"https://raw.githubusercontent.com/Elkfox/Australian-Postcode-Data/refs/heads/master/au_postcodes.csv\"\n",
    "raw_post_codes = pl.read_csv(australian_postcodes)\n",
    "post_codes = raw_post_codes.select(\n",
    "    pl.col(\"postcode\"),\n",
    "    pl.col('place_name').str.to_lowercase().str.strip_chars().str.replace(\" \", \"_\", n=-1).alias('suburb'),\n",
    ")\n",
    "post_codes.write_csv(\"../../data/processed/AUS/postcodes.csv\")\n",
    "post_codes"
   ]
  }
 ],
 "metadata": {
  "kernelspec": {
   "display_name": "Python 3",
   "language": "python",
   "name": "python3"
  },
  "language_info": {
   "codemirror_mode": {
    "name": "ipython",
    "version": 3
   },
   "file_extension": ".py",
   "mimetype": "text/x-python",
   "name": "python",
   "nbconvert_exporter": "python",
   "pygments_lexer": "ipython3",
   "version": "3.12.7"
  }
 },
 "nbformat": 4,
 "nbformat_minor": 2
}
