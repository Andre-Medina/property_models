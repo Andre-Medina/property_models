{
 "cells": [
  {
   "cell_type": "code",
   "execution_count": 20,
   "metadata": {},
   "outputs": [
    {
     "name": "stdout",
     "output_type": "stream",
     "text": [
      "The autoreload extension is already loaded. To reload it, use:\n",
      "  %reload_ext autoreload\n"
     ]
    }
   ],
   "source": [
    "%load_ext autoreload\n",
    "%autoreload 2\n",
    "from datetime import date\n",
    "\n",
    "import polars as pl\n",
    "\n",
    "from property_models.constants import DATA_DIR, POSTCODE_CSV_FILE, PropertyType, RecordType\n",
    "from property_models.models import Address, HistoricalPrice, PropertyInfo"
   ]
  },
  {
   "cell_type": "code",
   "execution_count": 21,
   "metadata": {},
   "outputs": [
    {
     "ename": "NotImplementedError",
     "evalue": "",
     "output_type": "error",
     "traceback": [
      "\u001b[0;31m---------------------------------------------------------------------------\u001b[0m",
      "\u001b[0;31mAttributeError\u001b[0m                            Traceback (most recent call last)",
      "File \u001b[0;32m~/git/private/property_models/property_models/constants.py:197\u001b[0m, in \u001b[0;36mPropertyType.parse\u001b[0;34m(cls, property_type, errors)\u001b[0m\n\u001b[1;32m    196\u001b[0m \u001b[38;5;28;01mtry\u001b[39;00m:\n\u001b[0;32m--> 197\u001b[0m     parsed \u001b[38;5;241m=\u001b[39m \u001b[38;5;28mcls\u001b[39m(\u001b[43mproperty_type\u001b[49m\u001b[38;5;241;43m.\u001b[39;49m\u001b[43mvalue\u001b[49m)\n\u001b[1;32m    198\u001b[0m     \u001b[38;5;28;01mreturn\u001b[39;00m parsed\n",
      "\u001b[0;31mAttributeError\u001b[0m: 'tuple' object has no attribute 'value'",
      "\nDuring handling of the above exception, another exception occurred:\n",
      "\u001b[0;31mNotImplementedError\u001b[0m                       Traceback (most recent call last)",
      "Cell \u001b[0;32mIn[21], line 1\u001b[0m\n\u001b[0;32m----> 1\u001b[0m \u001b[43mPropertyType\u001b[49m\u001b[38;5;241;43m.\u001b[39;49m\u001b[43mparse\u001b[49m\u001b[43m(\u001b[49m\u001b[43mPropertyType\u001b[49m\u001b[38;5;241;43m.\u001b[39;49m\u001b[43mAPARTMENT\u001b[49m\u001b[38;5;241;43m.\u001b[39;49m\u001b[43mSIXTIES_BRICK\u001b[49m\u001b[38;5;241;43m.\u001b[39;49m\u001b[43mvalue\u001b[49m\u001b[43m)\u001b[49m\n",
      "File \u001b[0;32m~/git/private/property_models/property_models/constants.py:200\u001b[0m, in \u001b[0;36mPropertyType.parse\u001b[0;34m(cls, property_type, errors)\u001b[0m\n\u001b[1;32m    198\u001b[0m     \u001b[38;5;28;01mreturn\u001b[39;00m parsed\n\u001b[1;32m    199\u001b[0m \u001b[38;5;28;01mexcept\u001b[39;00m \u001b[38;5;167;01mException\u001b[39;00m:  \u001b[38;5;66;03m# noqa: B904\u001b[39;00m\n\u001b[0;32m--> 200\u001b[0m     \u001b[38;5;28;01mraise\u001b[39;00m \u001b[38;5;167;01mNotImplementedError\u001b[39;00m\n",
      "\u001b[0;31mNotImplementedError\u001b[0m: "
     ]
    }
   ],
   "source": [
    "PropertyType.parse(PropertyType.APARTMENT.SIXTIES_BRICK.value)"
   ]
  },
  {
   "cell_type": "code",
   "execution_count": 23,
   "metadata": {},
   "outputs": [
    {
     "data": {
      "text/plain": [
       "('a', 'b')"
      ]
     },
     "execution_count": 23,
     "metadata": {},
     "output_type": "execute_result"
    }
   ],
   "source": []
  },
  {
   "cell_type": "code",
   "execution_count": 16,
   "metadata": {},
   "outputs": [
    {
     "data": {
      "text/plain": [
       "PropertyInfo(address=Address(unit_number=None, street_number=80, street_name='ROSEBERRY STREET', suburb='NORTH MELBOURNE', post_code=3032, state='VIC', country='australia'), bed=10, bath=10, car=10, property_size_m2=304.4, land_size_m2=100.3, condition=None, property_type=('apartment', 'sixties_brick'), date_of_construction=datetime.date(2000, 1, 1), floor_count=10)"
      ]
     },
     "execution_count": 16,
     "metadata": {},
     "output_type": "execute_result"
    }
   ],
   "source": [
    "PropertyInfo(\n",
    "    property_type=PropertyType.parse(PropertyType.APARTMENT.SIXTIES_BRICK),\n",
    "    address=Address.parse(\"80 ROSEBERRY STREET, NORTH MELBOURNE, VIC 3032\", country=\"australia\"),\n",
    "    condition=None,\n",
    "    bed=10,\n",
    "    car=10,\n",
    "    bath=10,\n",
    "    floor_count=10,\n",
    "    land_size_m2=100.3,\n",
    "    property_size_m2=304.4,\n",
    "    date_of_construction=date(2000, 1, 1),\n",
    ")"
   ]
  }
 ],
 "metadata": {
  "kernelspec": {
   "display_name": "Python 3",
   "language": "python",
   "name": "python3"
  },
  "language_info": {
   "codemirror_mode": {
    "name": "ipython",
    "version": 3
   },
   "file_extension": ".py",
   "mimetype": "text/x-python",
   "name": "python",
   "nbconvert_exporter": "python",
   "pygments_lexer": "ipython3",
   "version": "3.12.7"
  }
 },
 "nbformat": 4,
 "nbformat_minor": 2
}
