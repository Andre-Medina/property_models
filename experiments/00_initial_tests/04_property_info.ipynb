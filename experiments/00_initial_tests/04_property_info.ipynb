{
 "cells": [
  {
   "cell_type": "code",
   "execution_count": 43,
   "metadata": {},
   "outputs": [
    {
     "name": "stdout",
     "output_type": "stream",
     "text": [
      "The autoreload extension is already loaded. To reload it, use:\n",
      "  %reload_ext autoreload\n"
     ]
    }
   ],
   "source": [
    "%load_ext autoreload\n",
    "%autoreload 2\n",
    "import json\n",
    "from datetime import date\n",
    "\n",
    "import polars as pl\n",
    "\n",
    "from property_models.constants import ADDRESS_SCHEMA, DATA_DIR, POSTCODE_CSV_FILE, PropertyType, RecordType\n",
    "from property_models.models import Address, PriceRecord, PropertyInfo"
   ]
  },
  {
   "cell_type": "code",
   "execution_count": 53,
   "metadata": {},
   "outputs": [
    {
     "data": {
      "text/html": [
       "<div><style>\n",
       ".dataframe > thead > tr,\n",
       ".dataframe > tbody > tr {\n",
       "  text-align: right;\n",
       "  white-space: pre-wrap;\n",
       "}\n",
       "</style>\n",
       "<small>shape: (1, 10)</small><table border=\"1\" class=\"dataframe\"><thead><tr><th>address</th><th>beds</th><th>baths</th><th>cars</th><th>property_size_m2</th><th>land_size_m2</th><th>condition</th><th>property_type</th><th>construction_date</th><th>floors</th></tr><tr><td>struct[7]</td><td>u8</td><td>u8</td><td>u8</td><td>f32</td><td>f32</td><td>str</td><td>list[str]</td><td>date</td><td>u8</td></tr></thead><tbody><tr><td>{22,42,&quot;FDF STREET&quot;,&quot;WEST MELBOURNE&quot;,3032,&quot;VIC&quot;,&quot;australia&quot;}</td><td>10</td><td>10</td><td>10</td><td>304.399994</td><td>100.300003</td><td>null</td><td>[&quot;apartment&quot;, &quot;sixties_brick&quot;]</td><td>2000-01-01</td><td>null</td></tr></tbody></table></div>"
      ],
      "text/plain": [
       "shape: (1, 10)\n",
       "┌─────────────────┬──────┬───────┬──────┬───┬───────────┬────────────────┬────────────────┬────────┐\n",
       "│ address         ┆ beds ┆ baths ┆ cars ┆ … ┆ condition ┆ property_type  ┆ construction_d ┆ floors │\n",
       "│ ---             ┆ ---  ┆ ---   ┆ ---  ┆   ┆ ---       ┆ ---            ┆ ate            ┆ ---    │\n",
       "│ struct[7]       ┆ u8   ┆ u8    ┆ u8   ┆   ┆ str       ┆ list[str]      ┆ ---            ┆ u8     │\n",
       "│                 ┆      ┆       ┆      ┆   ┆           ┆                ┆ date           ┆        │\n",
       "╞═════════════════╪══════╪═══════╪══════╪═══╪═══════════╪════════════════╪════════════════╪════════╡\n",
       "│ {22,42,\"FDF     ┆ 10   ┆ 10    ┆ 10   ┆ … ┆ null      ┆ [\"apartment\",  ┆ 2000-01-01     ┆ null   │\n",
       "│ STREET\",\"WEST   ┆      ┆       ┆      ┆   ┆           ┆ \"sixties_brick ┆                ┆        │\n",
       "│ MELB…           ┆      ┆       ┆      ┆   ┆           ┆ \"]             ┆                ┆        │\n",
       "└─────────────────┴──────┴───────┴──────┴───┴───────────┴────────────────┴────────────────┴────────┘"
      ]
     },
     "execution_count": 53,
     "metadata": {},
     "output_type": "execute_result"
    }
   ],
   "source": [
    "data.filter(pl.col(\"address\") == data[\"address\"].item(1))"
   ]
  },
  {
   "cell_type": "code",
   "execution_count": 2,
   "metadata": {},
   "outputs": [
    {
     "data": {
      "text/plain": [
       "('apartment', 'sixties_brick')"
      ]
     },
     "execution_count": 2,
     "metadata": {},
     "output_type": "execute_result"
    }
   ],
   "source": [
    "PropertyType.APARTMENT.SIXTIES_BRICK.value"
   ]
  },
  {
   "cell_type": "code",
   "execution_count": null,
   "metadata": {},
   "outputs": [],
   "source": []
  },
  {
   "cell_type": "code",
   "execution_count": 3,
   "metadata": {},
   "outputs": [
    {
     "data": {
      "text/plain": [
       "PropertyInfo(address=Address(unit_number=None, street_number=80, street_name='ROSEBERRY STREET', suburb='NORTH MELBOURNE', postcode=3032, state='VIC', country='australia'), beds=10, baths=10, cars=10, property_size_m2=304.4, land_size_m2=100.3, condition=None, property_type=('apartment', 'sixties_brick'), construction_date=datetime.date(2000, 1, 1), floors=10)"
      ]
     },
     "execution_count": 3,
     "metadata": {},
     "output_type": "execute_result"
    }
   ],
   "source": [
    "property_info = PropertyInfo(\n",
    "    property_type=PropertyType.parse(PropertyType.APARTMENT.SIXTIES_BRICK),\n",
    "    address=Address.parse(\"80 ROSEBERRY STREET, NORTH MELBOURNE, VIC 3032\", country=\"australia\"),\n",
    "    condition=None,\n",
    "    beds=10,\n",
    "    cars=10,\n",
    "    baths=10,\n",
    "    floors=10,\n",
    "    land_size_m2=100.3,\n",
    "    property_size_m2=304.4,\n",
    "    construction_date=date(2000, 1, 1),\n",
    ")\n",
    "property_info"
   ]
  },
  {
   "cell_type": "code",
   "execution_count": 4,
   "metadata": {},
   "outputs": [
    {
     "data": {
      "text/html": [
       "<div><style>\n",
       ".dataframe > thead > tr,\n",
       ".dataframe > tbody > tr {\n",
       "  text-align: right;\n",
       "  white-space: pre-wrap;\n",
       "}\n",
       "</style>\n",
       "<small>shape: (1, 2)</small><table border=\"1\" class=\"dataframe\"><thead><tr><th>property_type_general</th><th>property_type_specific</th></tr><tr><td>str</td><td>str</td></tr></thead><tbody><tr><td>&quot;apartment&quot;</td><td>&quot;sixties_brick&quot;</td></tr></tbody></table></div>"
      ],
      "text/plain": [
       "shape: (1, 2)\n",
       "┌───────────────────────┬────────────────────────┐\n",
       "│ property_type_general ┆ property_type_specific │\n",
       "│ ---                   ┆ ---                    │\n",
       "│ str                   ┆ str                    │\n",
       "╞═══════════════════════╪════════════════════════╡\n",
       "│ apartment             ┆ sixties_brick          │\n",
       "└───────────────────────┴────────────────────────┘"
      ]
     },
     "execution_count": 4,
     "metadata": {},
     "output_type": "execute_result"
    }
   ],
   "source": [
    "pl.DataFrame([property_info]).select(pl.col(\"address\").struct.unnest())\n",
    "pl.DataFrame([property_info]).select(\n",
    "    # pl.col('property_type')\n",
    "    # .list.to_struct(fields = [\"property_type_1\",\"property_type_2\"])\n",
    "    # .struct['property_type_1']\n",
    "    # .struct.unnest()\n",
    "    property_type_general=pl.col(\"property_type\").list[0],\n",
    "    property_type_specific=pl.col(\"property_type\").list[1],\n",
    ")  # .rows(named= True)"
   ]
  },
  {
   "cell_type": "code",
   "execution_count": 5,
   "metadata": {},
   "outputs": [],
   "source": [
    "# (\n",
    "#     pl.DataFrame([property_info]).join(\n",
    "#         pl.DataFrame([property_info]).select(\"address\", pl.lit(\"asdf\")),\n",
    "#         on=\"address\",\n",
    "#         how=\"inner\",\n",
    "#     )\n",
    "# )"
   ]
  },
  {
   "cell_type": "code",
   "execution_count": 6,
   "metadata": {},
   "outputs": [],
   "source": [
    "data_json = property_info.model_dump()\n",
    "data_string = json.dumps(data_json, default=str)"
   ]
  },
  {
   "cell_type": "code",
   "execution_count": 7,
   "metadata": {},
   "outputs": [
    {
     "data": {
      "text/plain": [
       "{'address': {'unit_number': None,\n",
       "  'street_number': 80,\n",
       "  'street_name': 'ROSEBERRY STREET',\n",
       "  'suburb': 'NORTH MELBOURNE',\n",
       "  'postcode': 3032,\n",
       "  'state': 'VIC',\n",
       "  'country': 'australia'},\n",
       " 'beds': 10,\n",
       " 'baths': 10,\n",
       " 'cars': 10,\n",
       " 'property_size_m2': 304.4,\n",
       " 'land_size_m2': 100.3,\n",
       " 'condition': None,\n",
       " 'property_type': ['apartment', 'sixties_brick'],\n",
       " 'construction_date': '2000-01-01',\n",
       " 'floors': 10}"
      ]
     },
     "execution_count": 7,
     "metadata": {},
     "output_type": "execute_result"
    }
   ],
   "source": [
    "data_loaded = json.loads(data_string)\n",
    "data_loaded"
   ]
  },
  {
   "cell_type": "code",
   "execution_count": 8,
   "metadata": {},
   "outputs": [
    {
     "data": {
      "text/plain": [
       "PropertyInfo(address=Address(unit_number=None, street_number=80, street_name='ROSEBERRY STREET', suburb='NORTH MELBOURNE', postcode=3032, state='VIC', country='australia'), beds=10, baths=10, cars=10, property_size_m2=304.4, land_size_m2=100.3, condition=None, property_type=('apartment', 'sixties_brick'), construction_date=datetime.date(2000, 1, 1), floors=10)"
      ]
     },
     "execution_count": 8,
     "metadata": {},
     "output_type": "execute_result"
    }
   ],
   "source": [
    "data_loaded = json.loads(data_string)\n",
    "data_loaded\n",
    "\n",
    "property_info_reloaded = PropertyInfo(\n",
    "    address=Address(**data_loaded.pop(\"address\")),\n",
    "    property_type=PropertyType(data_loaded.pop(\"property_type\")),\n",
    "    construction_date=date.fromisoformat(data_loaded.pop(\"construction_date\")),\n",
    "    **data_loaded,\n",
    ")\n",
    "property_info_reloaded"
   ]
  },
  {
   "cell_type": "code",
   "execution_count": 9,
   "metadata": {},
   "outputs": [
    {
     "data": {
      "text/plain": [
       "True"
      ]
     },
     "execution_count": 9,
     "metadata": {},
     "output_type": "execute_result"
    }
   ],
   "source": [
    "property_info_reloaded == property_info"
   ]
  },
  {
   "cell_type": "code",
   "execution_count": 10,
   "metadata": {},
   "outputs": [
    {
     "data": {
      "text/plain": [
       "PropertyInfo(address=Address(unit_number=None, street_number=80, street_name='ROSEBERRY STREET', suburb='NORTH MELBOURNE', postcode=3032, state='VIC', country='australia'), beds=None, baths=10, cars=10, property_size_m2=304.4, land_size_m2=100.3, condition=None, property_type=('apartment', 'sixties_brick'), construction_date=datetime.date(2000, 1, 1), floors=10)"
      ]
     },
     "execution_count": 10,
     "metadata": {},
     "output_type": "execute_result"
    }
   ],
   "source": [
    "data_loaded = json.loads(data_string)\n",
    "\n",
    "property_info_reloaded = PropertyInfo(\n",
    "    address=Address(**data_loaded.pop(\"address\")),\n",
    "    property_type=PropertyType(data_loaded.pop(\"property_type\")),\n",
    "    construction_date=date.fromisoformat(data_loaded.pop(\"construction_date\")),\n",
    "    **data_loaded | {\"beds\": None},\n",
    ")\n",
    "property_info_reloaded"
   ]
  },
  {
   "cell_type": "code",
   "execution_count": 11,
   "metadata": {},
   "outputs": [
    {
     "data": {
      "text/plain": [
       "False"
      ]
     },
     "execution_count": 11,
     "metadata": {},
     "output_type": "execute_result"
    }
   ],
   "source": [
    "property_info_reloaded == property_info"
   ]
  },
  {
   "cell_type": "code",
   "execution_count": 12,
   "metadata": {},
   "outputs": [],
   "source": [
    "properties_info_json = b\"\"\"[\n",
    "{\"address\": {\"unit_number\": null, \"street_number\": 80, \"street_name\": \"ROSEBERRY STREET\", \"suburb\": \"NORTH MELBOURNE\", \"postcode\": 3032, \"state\": \"VIC\", \"country\": \"australia\"}, \"beds\": 10, \"baths\": 10, \"cars\": 10, \"property_size_m2\": 304.4, \"land_size_m2\": 100.3, \"condition\": null, \"property_type\": [\"apartment\", \"sixties_brick\"], \"construction_date\": \"2000-01-01\", \"floors\": 10},\n",
    "{\"address\": {\"unit_number\": 22, \"street_number\": 42, \"street_name\": \"FDF STREET\", \"suburb\": \"WEST MELBOURNE\", \"postcode\": 3032, \"state\": \"VIC\", \"country\": \"australia\"}, \"beds\": 10, \"baths\": 10, \"cars\": 10, \"property_size_m2\": 304.4, \"land_size_m2\": 100.3, \"condition\": null, \"property_type\": [\"apartment\", \"sixties_brick\"], \"construction_date\": \"2000-01-01\", \"floors\": 1000},\n",
    "{\"address\": {\"unit_number\": null, \"street_number\": 80, \"street_name\": \"ROSEBERRY STREET\", \"suburb\": \"NORTH MELBOURNE\", \"postcode\": 3032, \"state\": \"VIC\", \"country\": \"australia\"}, \"beds\": 10, \"baths\": 10, \"cars\": 10, \"property_size_m2\": 304.4, \"land_size_m2\": 100.3, \"condition\": null, \"property_type\": [\"apartment\", \"None\"], \"construction_date\": null, \"floors\": 100}\n",
    "]\"\"\""
   ]
  },
  {
   "cell_type": "code",
   "execution_count": 13,
   "metadata": {},
   "outputs": [],
   "source": [
    "from property_models.constants import PRICE_RECORDS_SCHEMA, PROPERTIES_INFO_SCHEMA"
   ]
  },
  {
   "cell_type": "code",
   "execution_count": 14,
   "metadata": {},
   "outputs": [
    {
     "name": "stderr",
     "output_type": "stream",
     "text": [
      "Validating properties: 100%|██████████| 3/3 [00:00<00:00, 17924.38it/s]\n"
     ]
    },
    {
     "data": {
      "text/html": [
       "<div><style>\n",
       ".dataframe > thead > tr,\n",
       ".dataframe > tbody > tr {\n",
       "  text-align: right;\n",
       "  white-space: pre-wrap;\n",
       "}\n",
       "</style>\n",
       "<small>shape: (3, 10)</small><table border=\"1\" class=\"dataframe\"><thead><tr><th>address</th><th>beds</th><th>baths</th><th>cars</th><th>property_size_m2</th><th>land_size_m2</th><th>condition</th><th>property_type</th><th>construction_date</th><th>floors</th></tr><tr><td>struct[7]</td><td>u8</td><td>u8</td><td>u8</td><td>f32</td><td>f32</td><td>str</td><td>list[str]</td><td>date</td><td>u8</td></tr></thead><tbody><tr><td>{null,80,&quot;ROSEBERRY STREET&quot;,&quot;NORTH MELBOURNE&quot;,3032,&quot;VIC&quot;,&quot;australia&quot;}</td><td>10</td><td>10</td><td>10</td><td>304.399994</td><td>100.300003</td><td>null</td><td>[&quot;apartment&quot;, &quot;sixties_brick&quot;]</td><td>2000-01-01</td><td>10</td></tr><tr><td>{22,42,&quot;FDF STREET&quot;,&quot;WEST MELBOURNE&quot;,3032,&quot;VIC&quot;,&quot;australia&quot;}</td><td>10</td><td>10</td><td>10</td><td>304.399994</td><td>100.300003</td><td>null</td><td>[&quot;apartment&quot;, &quot;sixties_brick&quot;]</td><td>2000-01-01</td><td>null</td></tr><tr><td>{null,80,&quot;ROSEBERRY STREET&quot;,&quot;NORTH MELBOURNE&quot;,3032,&quot;VIC&quot;,&quot;australia&quot;}</td><td>10</td><td>10</td><td>10</td><td>304.399994</td><td>100.300003</td><td>null</td><td>[&quot;apartment&quot;, &quot;None&quot;]</td><td>null</td><td>100</td></tr></tbody></table></div>"
      ],
      "text/plain": [
       "shape: (3, 10)\n",
       "┌─────────────────┬──────┬───────┬──────┬───┬───────────┬────────────────┬────────────────┬────────┐\n",
       "│ address         ┆ beds ┆ baths ┆ cars ┆ … ┆ condition ┆ property_type  ┆ construction_d ┆ floors │\n",
       "│ ---             ┆ ---  ┆ ---   ┆ ---  ┆   ┆ ---       ┆ ---            ┆ ate            ┆ ---    │\n",
       "│ struct[7]       ┆ u8   ┆ u8    ┆ u8   ┆   ┆ str       ┆ list[str]      ┆ ---            ┆ u8     │\n",
       "│                 ┆      ┆       ┆      ┆   ┆           ┆                ┆ date           ┆        │\n",
       "╞═════════════════╪══════╪═══════╪══════╪═══╪═══════════╪════════════════╪════════════════╪════════╡\n",
       "│ {null,80,\"ROSEB ┆ 10   ┆ 10    ┆ 10   ┆ … ┆ null      ┆ [\"apartment\",  ┆ 2000-01-01     ┆ 10     │\n",
       "│ ERRY            ┆      ┆       ┆      ┆   ┆           ┆ \"sixties_brick ┆                ┆        │\n",
       "│ STREET\",\"N…     ┆      ┆       ┆      ┆   ┆           ┆ \"]             ┆                ┆        │\n",
       "│ {22,42,\"FDF     ┆ 10   ┆ 10    ┆ 10   ┆ … ┆ null      ┆ [\"apartment\",  ┆ 2000-01-01     ┆ null   │\n",
       "│ STREET\",\"WEST   ┆      ┆       ┆      ┆   ┆           ┆ \"sixties_brick ┆                ┆        │\n",
       "│ MELB…           ┆      ┆       ┆      ┆   ┆           ┆ \"]             ┆                ┆        │\n",
       "│ {null,80,\"ROSEB ┆ 10   ┆ 10    ┆ 10   ┆ … ┆ null      ┆ [\"apartment\",  ┆ null           ┆ 100    │\n",
       "│ ERRY            ┆      ┆       ┆      ┆   ┆           ┆ \"None\"]        ┆                ┆        │\n",
       "│ STREET\",\"N…     ┆      ┆       ┆      ┆   ┆           ┆                ┆                ┆        │\n",
       "└─────────────────┴──────┴───────┴──────┴───┴───────────┴────────────────┴────────────────┴────────┘"
      ]
     },
     "execution_count": 14,
     "metadata": {},
     "output_type": "execute_result"
    }
   ],
   "source": [
    "import tempfile\n",
    "\n",
    "with tempfile.NamedTemporaryFile(delete=True) as temp_file:\n",
    "    temp_file.write(properties_info_json)\n",
    "    temp_file.seek(0)\n",
    "    # data = pl.read_json(properties_info_json,schema=PROPERTY_INFO_PL_SCHEMA | {\"date_of_construction\": pl.String})\n",
    "    data = PropertyInfo.read_json(temp_file)\n",
    "data"
   ]
  },
  {
   "cell_type": "code",
   "execution_count": 42,
   "metadata": {},
   "outputs": [
    {
     "data": {
      "text/html": [
       "<div><style>\n",
       ".dataframe > thead > tr,\n",
       ".dataframe > tbody > tr {\n",
       "  text-align: right;\n",
       "  white-space: pre-wrap;\n",
       "}\n",
       "</style>\n",
       "<small>shape: (3, 16)</small><table border=\"1\" class=\"dataframe\"><thead><tr><th>beds</th><th>baths</th><th>cars</th><th>property_size_m2</th><th>land_size_m2</th><th>condition</th><th>property_type</th><th>construction_date</th><th>floors</th><th>unit_number</th><th>street_number</th><th>street_name</th><th>suburb</th><th>postcode</th><th>state</th><th>country</th></tr><tr><td>u8</td><td>u8</td><td>u8</td><td>f32</td><td>f32</td><td>str</td><td>list[str]</td><td>date</td><td>u8</td><td>u16</td><td>u16</td><td>str</td><td>str</td><td>u16</td><td>str</td><td>str</td></tr></thead><tbody><tr><td>10</td><td>10</td><td>10</td><td>304.399994</td><td>100.300003</td><td>null</td><td>[&quot;apartment&quot;, &quot;sixties_brick&quot;]</td><td>2000-01-01</td><td>10</td><td>null</td><td>80</td><td>&quot;ROSEBERRY STREET&quot;</td><td>&quot;NORTH MELBOURNE&quot;</td><td>3032</td><td>&quot;VIC&quot;</td><td>&quot;australia&quot;</td></tr><tr><td>10</td><td>10</td><td>10</td><td>304.399994</td><td>100.300003</td><td>null</td><td>[&quot;apartment&quot;, &quot;sixties_brick&quot;]</td><td>2000-01-01</td><td>null</td><td>22</td><td>42</td><td>&quot;FDF STREET&quot;</td><td>&quot;WEST MELBOURNE&quot;</td><td>3032</td><td>&quot;VIC&quot;</td><td>&quot;australia&quot;</td></tr><tr><td>10</td><td>10</td><td>10</td><td>304.399994</td><td>100.300003</td><td>null</td><td>[&quot;apartment&quot;, &quot;None&quot;]</td><td>null</td><td>100</td><td>null</td><td>80</td><td>&quot;ROSEBERRY STREET&quot;</td><td>&quot;NORTH MELBOURNE&quot;</td><td>3032</td><td>&quot;VIC&quot;</td><td>&quot;australia&quot;</td></tr></tbody></table></div>"
      ],
      "text/plain": [
       "shape: (3, 16)\n",
       "┌──────┬───────┬──────┬──────────────────┬───┬─────────────────┬──────────┬───────┬───────────┐\n",
       "│ beds ┆ baths ┆ cars ┆ property_size_m2 ┆ … ┆ suburb          ┆ postcode ┆ state ┆ country   │\n",
       "│ ---  ┆ ---   ┆ ---  ┆ ---              ┆   ┆ ---             ┆ ---      ┆ ---   ┆ ---       │\n",
       "│ u8   ┆ u8    ┆ u8   ┆ f32              ┆   ┆ str             ┆ u16      ┆ str   ┆ str       │\n",
       "╞══════╪═══════╪══════╪══════════════════╪═══╪═════════════════╪══════════╪═══════╪═══════════╡\n",
       "│ 10   ┆ 10    ┆ 10   ┆ 304.399994       ┆ … ┆ NORTH MELBOURNE ┆ 3032     ┆ VIC   ┆ australia │\n",
       "│ 10   ┆ 10    ┆ 10   ┆ 304.399994       ┆ … ┆ WEST MELBOURNE  ┆ 3032     ┆ VIC   ┆ australia │\n",
       "│ 10   ┆ 10    ┆ 10   ┆ 304.399994       ┆ … ┆ NORTH MELBOURNE ┆ 3032     ┆ VIC   ┆ australia │\n",
       "└──────┴───────┴──────┴──────────────────┴───┴─────────────────┴──────────┴───────┴───────────┘"
      ]
     },
     "execution_count": 42,
     "metadata": {},
     "output_type": "execute_result"
    }
   ],
   "source": []
  },
  {
   "cell_type": "code",
   "execution_count": 15,
   "metadata": {},
   "outputs": [
    {
     "data": {
      "text/plain": [
       "{'address': [{'unit_number': None,\n",
       "   'street_number': 80,\n",
       "   'street_name': 'ROSEBERRY STREET',\n",
       "   'suburb': 'NORTH MELBOURNE',\n",
       "   'postcode': 3032,\n",
       "   'state': 'VIC',\n",
       "   'country': 'australia'},\n",
       "  {'unit_number': 22,\n",
       "   'street_number': 42,\n",
       "   'street_name': 'FDF STREET',\n",
       "   'suburb': 'WEST MELBOURNE',\n",
       "   'postcode': 3032,\n",
       "   'state': 'VIC',\n",
       "   'country': 'australia'},\n",
       "  {'unit_number': None,\n",
       "   'street_number': 80,\n",
       "   'street_name': 'ROSEBERRY STREET',\n",
       "   'suburb': 'NORTH MELBOURNE',\n",
       "   'postcode': 3032,\n",
       "   'state': 'VIC',\n",
       "   'country': 'australia'}],\n",
       " 'beds': [10, 10, 10],\n",
       " 'baths': [10, 10, 10],\n",
       " 'cars': [10, 10, 10],\n",
       " 'property_size_m2': [304.3999938964844, 304.3999938964844, 304.3999938964844],\n",
       " 'land_size_m2': [100.30000305175781, 100.30000305175781, 100.30000305175781],\n",
       " 'condition': [None, None, None],\n",
       " 'property_type': [['apartment', 'sixties_brick'],\n",
       "  ['apartment', 'sixties_brick'],\n",
       "  ['apartment', 'None']],\n",
       " 'construction_date': [datetime.date(2000, 1, 1),\n",
       "  datetime.date(2000, 1, 1),\n",
       "  None],\n",
       " 'floors': [10, None, 100]}"
      ]
     },
     "execution_count": 15,
     "metadata": {},
     "output_type": "execute_result"
    }
   ],
   "source": [
    "data.to_dict(as_series=False)"
   ]
  },
  {
   "cell_type": "code",
   "execution_count": 39,
   "metadata": {},
   "outputs": [
    {
     "name": "stderr",
     "output_type": "stream",
     "text": [
      "[autoreload of property_models.models failed: Traceback (most recent call last):\n",
      "  File \"/home/andre/git/private/property_models/.pixi/envs/default/lib/python3.12/site-packages/IPython/extensions/autoreload.py\", line 276, in check\n",
      "    superreload(m, reload, self.old_objects)\n",
      "  File \"/home/andre/git/private/property_models/.pixi/envs/default/lib/python3.12/site-packages/IPython/extensions/autoreload.py\", line 475, in superreload\n",
      "    module = reload(module)\n",
      "             ^^^^^^^^^^^^^^\n",
      "  File \"/home/andre/git/private/property_models/.pixi/envs/default/lib/python3.12/importlib/__init__.py\", line 131, in reload\n",
      "    _bootstrap._exec(spec, module)\n",
      "  File \"<frozen importlib._bootstrap>\", line 866, in _exec\n",
      "  File \"<frozen importlib._bootstrap_external>\", line 991, in exec_module\n",
      "  File \"<frozen importlib._bootstrap_external>\", line 1129, in get_code\n",
      "  File \"<frozen importlib._bootstrap_external>\", line 1059, in source_to_code\n",
      "  File \"<frozen importlib._bootstrap>\", line 488, in _call_with_frames_removed\n",
      "  File \"/home/andre/git/private/property_models/property_models/models.py\", line 125\n",
      "    except pl.exceptions.ColumnNotFoundError:\n",
      "IndentationError: expected an indented block after 'if' statement on line 123\n",
      "]\n"
     ]
    },
    {
     "ename": "ColumnNotFoundError",
     "evalue": "\"sd\" not found",
     "output_type": "error",
     "traceback": [
      "\u001b[0;31m---------------------------------------------------------------------------\u001b[0m",
      "\u001b[0;31mColumnNotFoundError\u001b[0m                       Traceback (most recent call last)",
      "\u001b[0;32m/tmp/ipykernel_6529/2331285090.py\u001b[0m in \u001b[0;36m?\u001b[0;34m()\u001b[0m\n\u001b[0;32m----> 1\u001b[0;31m \u001b[0misinstance\u001b[0m\u001b[0;34m(\u001b[0m\u001b[0mdata\u001b[0m\u001b[0;34m[\u001b[0m\u001b[0;34m'sd'\u001b[0m\u001b[0;34m]\u001b[0m\u001b[0;34m.\u001b[0m\u001b[0mdtype\u001b[0m\u001b[0;34m,\u001b[0m \u001b[0mpl\u001b[0m\u001b[0;34m.\u001b[0m\u001b[0mStruct\u001b[0m\u001b[0;34m)\u001b[0m\u001b[0;34m\u001b[0m\u001b[0;34m\u001b[0m\u001b[0m\n\u001b[0m",
      "\u001b[0;32m~/git/private/property_models/.pixi/envs/default/lib/python3.12/site-packages/polars/dataframe/frame.py\u001b[0m in \u001b[0;36m?\u001b[0;34m(self, key)\u001b[0m\n\u001b[1;32m   1349\u001b[0m         \u001b[0m│\u001b[0m \u001b[0;36m2\u001b[0m   \u001b[0m┆\u001b[0m \u001b[0;36m5\u001b[0m   \u001b[0m┆\u001b[0m \u001b[0;36m3\u001b[0m   \u001b[0m│\u001b[0m\u001b[0;34m\u001b[0m\u001b[0;34m\u001b[0m\u001b[0m\n\u001b[1;32m   1350\u001b[0m         \u001b[0m│\u001b[0m \u001b[0;36m3\u001b[0m   \u001b[0m┆\u001b[0m \u001b[0;36m6\u001b[0m   \u001b[0m┆\u001b[0m \u001b[0;36m2\u001b[0m   \u001b[0m│\u001b[0m\u001b[0;34m\u001b[0m\u001b[0;34m\u001b[0m\u001b[0m\n\u001b[1;32m   1351\u001b[0m         \u001b[0m└─────┴─────┴─────┘\u001b[0m\u001b[0;34m\u001b[0m\u001b[0;34m\u001b[0m\u001b[0m\n\u001b[1;32m   1352\u001b[0m         \"\"\"\n\u001b[0;32m-> 1353\u001b[0;31m         \u001b[0;32mreturn\u001b[0m \u001b[0mget_df_item_by_key\u001b[0m\u001b[0;34m(\u001b[0m\u001b[0mself\u001b[0m\u001b[0;34m,\u001b[0m \u001b[0mkey\u001b[0m\u001b[0;34m)\u001b[0m\u001b[0;34m\u001b[0m\u001b[0;34m\u001b[0m\u001b[0m\n\u001b[0m",
      "\u001b[0;32m~/git/private/property_models/.pixi/envs/default/lib/python3.12/site-packages/polars/_utils/getitem.py\u001b[0m in \u001b[0;36m?\u001b[0;34m(df, key)\u001b[0m\n\u001b[1;32m    159\u001b[0m     \u001b[0;31m# Single string input, e.g. df[\"a\"]\u001b[0m\u001b[0;34m\u001b[0m\u001b[0;34m\u001b[0m\u001b[0m\n\u001b[1;32m    160\u001b[0m     \u001b[0;32mif\u001b[0m \u001b[0misinstance\u001b[0m\u001b[0;34m(\u001b[0m\u001b[0mkey\u001b[0m\u001b[0;34m,\u001b[0m \u001b[0mstr\u001b[0m\u001b[0;34m)\u001b[0m\u001b[0;34m:\u001b[0m\u001b[0;34m\u001b[0m\u001b[0;34m\u001b[0m\u001b[0m\n\u001b[1;32m    161\u001b[0m         \u001b[0;31m# This case is required because empty strings are otherwise treated\u001b[0m\u001b[0;34m\u001b[0m\u001b[0;34m\u001b[0m\u001b[0m\n\u001b[1;32m    162\u001b[0m         \u001b[0;31m# as an empty Sequence in `_select_rows`\u001b[0m\u001b[0;34m\u001b[0m\u001b[0;34m\u001b[0m\u001b[0m\n\u001b[0;32m--> 163\u001b[0;31m         \u001b[0;32mreturn\u001b[0m \u001b[0mdf\u001b[0m\u001b[0;34m.\u001b[0m\u001b[0mget_column\u001b[0m\u001b[0;34m(\u001b[0m\u001b[0mkey\u001b[0m\u001b[0;34m)\u001b[0m\u001b[0;34m\u001b[0m\u001b[0;34m\u001b[0m\u001b[0m\n\u001b[0m\u001b[1;32m    164\u001b[0m \u001b[0;34m\u001b[0m\u001b[0m\n\u001b[1;32m    165\u001b[0m     \u001b[0;31m# Single input - df[1] - or multiple inputs - df[\"a\", \"b\", \"c\"]\u001b[0m\u001b[0;34m\u001b[0m\u001b[0;34m\u001b[0m\u001b[0m\n\u001b[1;32m    166\u001b[0m     \u001b[0;32mtry\u001b[0m\u001b[0;34m:\u001b[0m\u001b[0;34m\u001b[0m\u001b[0;34m\u001b[0m\u001b[0m\n",
      "\u001b[0;32m~/git/private/property_models/.pixi/envs/default/lib/python3.12/site-packages/polars/dataframe/frame.py\u001b[0m in \u001b[0;36m?\u001b[0;34m(self, name, default)\u001b[0m\n\u001b[1;32m   7907\u001b[0m         \u001b[0;32mtry\u001b[0m\u001b[0;34m:\u001b[0m\u001b[0;34m\u001b[0m\u001b[0;34m\u001b[0m\u001b[0m\n\u001b[1;32m   7908\u001b[0m             \u001b[0;32mreturn\u001b[0m \u001b[0mwrap_s\u001b[0m\u001b[0;34m(\u001b[0m\u001b[0mself\u001b[0m\u001b[0;34m.\u001b[0m\u001b[0m_df\u001b[0m\u001b[0;34m.\u001b[0m\u001b[0mget_column\u001b[0m\u001b[0;34m(\u001b[0m\u001b[0mname\u001b[0m\u001b[0;34m)\u001b[0m\u001b[0;34m)\u001b[0m\u001b[0;34m\u001b[0m\u001b[0;34m\u001b[0m\u001b[0m\n\u001b[1;32m   7909\u001b[0m         \u001b[0;32mexcept\u001b[0m \u001b[0mColumnNotFoundError\u001b[0m\u001b[0;34m:\u001b[0m\u001b[0;34m\u001b[0m\u001b[0;34m\u001b[0m\u001b[0m\n\u001b[1;32m   7910\u001b[0m             \u001b[0;32mif\u001b[0m \u001b[0mdefault\u001b[0m \u001b[0;32mis\u001b[0m \u001b[0mno_default\u001b[0m\u001b[0;34m:\u001b[0m\u001b[0;34m\u001b[0m\u001b[0;34m\u001b[0m\u001b[0m\n\u001b[0;32m-> 7911\u001b[0;31m                 \u001b[0;32mraise\u001b[0m\u001b[0;34m\u001b[0m\u001b[0;34m\u001b[0m\u001b[0m\n\u001b[0m\u001b[1;32m   7912\u001b[0m             \u001b[0;32mreturn\u001b[0m \u001b[0mdefault\u001b[0m\u001b[0;34m\u001b[0m\u001b[0;34m\u001b[0m\u001b[0m\n",
      "\u001b[0;31mColumnNotFoundError\u001b[0m: \"sd\" not found"
     ]
    }
   ],
   "source": [
    "isinstance(data[\"sd\"].dtype, pl.Struct)"
   ]
  },
  {
   "cell_type": "code",
   "execution_count": 16,
   "metadata": {},
   "outputs": [],
   "source": [
    "properties_info_json = {\n",
    "    \"address\": [\n",
    "        {\n",
    "            \"unit_number\": None,\n",
    "            \"street_number\": 80,\n",
    "            \"street_name\": \"ROSEBERRY STREET\",\n",
    "            \"suburb\": \"NORTH MELBOURNE\",\n",
    "            \"postcode\": 3032,\n",
    "            \"state\": \"VIC\",\n",
    "            \"country\": \"australia\",\n",
    "        },\n",
    "        {\n",
    "            \"unit_number\": None,\n",
    "            \"street_number\": 80,\n",
    "            \"street_name\": \"ROSEBERRY STREET\",\n",
    "            \"suburb\": \"NORTH MELBOURNE\",\n",
    "            \"postcode\": 3032,\n",
    "            \"state\": \"VIC\",\n",
    "            \"country\": \"australia\",\n",
    "        },\n",
    "        {\n",
    "            \"unit_number\": None,\n",
    "            \"street_number\": 80,\n",
    "            \"street_name\": \"ROSEBERRY STREET\",\n",
    "            \"suburb\": \"NORTH MELBOURNE\",\n",
    "            \"postcode\": 3032,\n",
    "            \"state\": \"VIC\",\n",
    "            \"country\": \"australia\",\n",
    "        },\n",
    "    ],\n",
    "    \"beds\": [10, 10, 10],\n",
    "    \"baths\": [10, 10, 10],\n",
    "    \"cars\": [10, 10, 10],\n",
    "    \"property_size_m2\": [304.3999938964844, 304.3999938964844, 304.3999938964844],\n",
    "    \"land_size_m2\": [100.30000305175781, 100.30000305175781, 100.30000305175781],\n",
    "    \"condition\": [None, None, None],\n",
    "    \"property_type\": [[\"apartment\", \"sixties_brick\"], [\"apartment\", \"sixties_brick\"], [\"apartment\", \"sixties_brick\"]],\n",
    "    \"construction_date\": [date(2000, 1, 1), date(2000, 1, 1), date(2000, 1, 1)],\n",
    "    \"floors\": [10, 10, 10],\n",
    "}"
   ]
  },
  {
   "cell_type": "code",
   "execution_count": 17,
   "metadata": {},
   "outputs": [
    {
     "name": "stderr",
     "output_type": "stream",
     "text": [
      "/tmp/ipykernel_6529/611870955.py:1: MapWithoutReturnDtypeWarning: Calling `map_elements` without specifying `return_dtype` can lead to unpredictable results. Specify `return_dtype` to silence this warning.\n",
      "  data[\"address\"].map_elements(lambda row: Address(**row))\n"
     ]
    },
    {
     "data": {
      "text/html": [
       "<div><style>\n",
       ".dataframe > thead > tr,\n",
       ".dataframe > tbody > tr {\n",
       "  text-align: right;\n",
       "  white-space: pre-wrap;\n",
       "}\n",
       "</style>\n",
       "<small>shape: (3,)</small><table border=\"1\" class=\"dataframe\"><thead><tr><th>address</th></tr><tr><td>object</td></tr></thead><tbody><tr><td>unit_number=None street_number=80 street_name=&#x27;ROSEBERRY STREET&#x27; suburb=&#x27;NORTH MELBOURNE&#x27; postcode=3032 state=&#x27;VIC&#x27; country=&#x27;australia&#x27;</td></tr><tr><td>unit_number=22 street_number=42 street_name=&#x27;FDF STREET&#x27; suburb=&#x27;WEST MELBOURNE&#x27; postcode=3032 state=&#x27;VIC&#x27; country=&#x27;australia&#x27;</td></tr><tr><td>unit_number=None street_number=80 street_name=&#x27;ROSEBERRY STREET&#x27; suburb=&#x27;NORTH MELBOURNE&#x27; postcode=3032 state=&#x27;VIC&#x27; country=&#x27;australia&#x27;</td></tr></tbody></table></div>"
      ],
      "text/plain": [
       "shape: (3,)\n",
       "Series: 'address' [o][object]\n",
       "[\n",
       "\tunit_number=None street_number=80 street_name='ROSEBERRY STREET' suburb='NORTH MELBOURNE' postcode=3032 state='VIC' country='australia'\n",
       "\tunit_number=22 street_number=42 street_name='FDF STREET' suburb='WEST MELBOURNE' postcode=3032 state='VIC' country='australia'\n",
       "\tunit_number=None street_number=80 street_name='ROSEBERRY STREET' suburb='NORTH MELBOURNE' postcode=3032 state='VIC' country='australia'\n",
       "]"
      ]
     },
     "execution_count": 17,
     "metadata": {},
     "output_type": "execute_result"
    }
   ],
   "source": [
    "data[\"address\"].map_elements(lambda row: Address(**row))"
   ]
  },
  {
   "cell_type": "code",
   "execution_count": 18,
   "metadata": {},
   "outputs": [
    {
     "name": "stderr",
     "output_type": "stream",
     "text": [
      "100%|██████████| 30000/30000 [00:00<00:00, 191562.13it/s]\n"
     ]
    }
   ],
   "source": [
    "# %%timeit\n",
    "from tqdm import tqdm\n",
    "\n",
    "# 35us for 3 rows\n",
    "# 60ms for 3k rows\n",
    "# 4s for 30k rows\n",
    "# fast enough this is fine\n",
    "\n",
    "\n",
    "# def pro(row):\n",
    "#     PropertyInfo.from_stringified_dict(row)\n",
    "\n",
    "# data.map_rows(pro)\n",
    "for item in tqdm(pl.concat([data] * 10000).to_dicts()):\n",
    "    PropertyInfo.from_stringified_dict(item)"
   ]
  },
  {
   "cell_type": "code",
   "execution_count": 21,
   "metadata": {},
   "outputs": [],
   "source": [
    "# properties_info_json"
   ]
  }
 ],
 "metadata": {
  "kernelspec": {
   "display_name": "Python 3",
   "language": "python",
   "name": "python3"
  },
  "language_info": {
   "codemirror_mode": {
    "name": "ipython",
    "version": 3
   },
   "file_extension": ".py",
   "mimetype": "text/x-python",
   "name": "python",
   "nbconvert_exporter": "python",
   "pygments_lexer": "ipython3",
   "version": "3.12.7"
  }
 },
 "nbformat": 4,
 "nbformat_minor": 2
}
