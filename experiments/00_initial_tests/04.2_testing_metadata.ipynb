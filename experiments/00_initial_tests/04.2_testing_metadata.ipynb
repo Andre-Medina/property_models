{
 "cells": [
  {
   "cell_type": "code",
   "execution_count": 1,
   "metadata": {},
   "outputs": [
    {
     "name": "stdout",
     "output_type": "stream",
     "text": [
      "shape: (4, 3)\n",
      "┌─────────┬───────┬────────┐\n",
      "│ integer ┆ float ┆ string │\n",
      "│ ---     ┆ ---   ┆ ---    │\n",
      "│ i64     ┆ f64   ┆ str    │\n",
      "╞═════════╪═══════╪════════╡\n",
      "│ 1       ┆ 4.0   ┆ d      │\n",
      "│ 2       ┆ null  ┆ e      │\n",
      "│ 3       ┆ 1.2   ┆ f      │\n",
      "│ null    ┆ 4.2   ┆ null   │\n",
      "└─────────┴───────┴────────┘\n",
      "{'foo': 'Foo', 'bar': 'bar'}\n"
     ]
    }
   ],
   "source": [
    "import polars as pl\n",
    "\n",
    "\n",
    "@pl.api.register_dataframe_namespace(\"metadata\")\n",
    "class MetaDataFrame:\n",
    "    def __init__(self, df: pl.DataFrame):\n",
    "        self._df = df\n",
    "        self._metadata = {}\n",
    "\n",
    "    def with_metadata(self, **kwargs):\n",
    "        new_df = self._df.clone()\n",
    "        new_df.metadata._metadata.update(kwargs)\n",
    "        return new_df\n",
    "\n",
    "    def get(self):\n",
    "        return self._metadata"
   ]
  },
  {
   "cell_type": "code",
   "execution_count": 2,
   "metadata": {},
   "outputs": [
    {
     "name": "stdout",
     "output_type": "stream",
     "text": [
      "shape: (4, 3)\n",
      "┌─────────┬───────┬────────┐\n",
      "│ integer ┆ float ┆ string │\n",
      "│ ---     ┆ ---   ┆ ---    │\n",
      "│ i64     ┆ f64   ┆ str    │\n",
      "╞═════════╪═══════╪════════╡\n",
      "│ 1       ┆ 4.0   ┆ d      │\n",
      "│ 2       ┆ null  ┆ e      │\n",
      "│ 3       ┆ 1.2   ┆ f      │\n",
      "│ null    ┆ 4.2   ┆ null   │\n",
      "└─────────┴───────┴────────┘\n",
      "{'foo': 'Foo', 'bar': 'bar'}\n"
     ]
    }
   ],
   "source": [
    "df = pl.DataFrame(\n",
    "    {\n",
    "        \"integer\": [1, 2, 3, None],\n",
    "        \"float\": [4.0, None, 1.2, 4.2],\n",
    "        \"string\": [\"d\", \"e\", \"f\", None],\n",
    "    },\n",
    ").metadata.with_metadata(foo=\"Foo\", bar=\"bar\")\n",
    "\n",
    "print(df)\n",
    "print(df.metadata.get())  # {'foo': 'Foo', 'bar': 'bar'}"
   ]
  },
  {
   "cell_type": "code",
   "execution_count": 5,
   "metadata": {},
   "outputs": [
    {
     "name": "stdout",
     "output_type": "stream",
     "text": [
      "shape: (4, 3)\n",
      "┌─────────┬───────┬────────┐\n",
      "│ integer ┆ float ┆ string │\n",
      "│ ---     ┆ ---   ┆ ---    │\n",
      "│ i64     ┆ f64   ┆ str    │\n",
      "╞═════════╪═══════╪════════╡\n",
      "│ 2       ┆ 4.0   ┆ d      │\n",
      "│ 4       ┆ null  ┆ e      │\n",
      "│ 6       ┆ 1.2   ┆ f      │\n",
      "│ null    ┆ 4.2   ┆ null   │\n",
      "└─────────┴───────┴────────┘\n",
      "{}\n"
     ]
    }
   ],
   "source": [
    "df_ = df.with_columns(pl.col(\"integer\").mul(2))\n",
    "\n",
    "\n",
    "print(df_)\n",
    "print(df_.metadata.get())  # {'foo': 'Foo', 'bar': 'bar'}"
   ]
  }
 ],
 "metadata": {
  "kernelspec": {
   "display_name": "Python 3",
   "language": "python",
   "name": "python3"
  },
  "language_info": {
   "codemirror_mode": {
    "name": "ipython",
    "version": 3
   },
   "file_extension": ".py",
   "mimetype": "text/x-python",
   "name": "python",
   "nbconvert_exporter": "python",
   "pygments_lexer": "ipython3",
   "version": "3.12.7"
  }
 },
 "nbformat": 4,
 "nbformat_minor": 2
}
