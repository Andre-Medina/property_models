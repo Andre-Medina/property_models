{
 "cells": [
  {
   "cell_type": "code",
   "execution_count": 1,
   "metadata": {},
   "outputs": [],
   "source": [
    "%load_ext autoreload\n",
    "%autoreload 2\n",
    "from datetime import date\n",
    "from enum import Enum\n",
    "\n",
    "import polars as pl\n",
    "from pydantic import BaseModel, ConfigDict\n",
    "\n",
    "from property_models.constants import DATA_DIR, POSTCODE_CSV_FILE, PropertyType, RecordType\n",
    "from property_models.models import Address, HistoricalPrice, PropertyCondition, PropertyInfo"
   ]
  },
  {
   "cell_type": "code",
   "execution_count": 2,
   "metadata": {},
   "outputs": [
    {
     "data": {
      "text/plain": [
       "<function tuple.__init_subclass__>"
      ]
     },
     "execution_count": 2,
     "metadata": {},
     "output_type": "execute_result"
    }
   ],
   "source": [
    "tuple.__init_subclass__"
   ]
  },
  {
   "cell_type": "code",
   "execution_count": 3,
   "metadata": {},
   "outputs": [],
   "source": [
    "# PropertyType.__sub_enum_lookup()"
   ]
  },
  {
   "cell_type": "markdown",
   "metadata": {},
   "source": []
  },
  {
   "cell_type": "code",
   "execution_count": 4,
   "metadata": {},
   "outputs": [
    {
     "data": {
      "text/plain": [
       "('a', 'b')"
      ]
     },
     "execution_count": 4,
     "metadata": {},
     "output_type": "execute_result"
    }
   ],
   "source": [
    "tuple([\"a\", \"b\"])\n",
    "# PropertyType(['a','b'])"
   ]
  },
  {
   "cell_type": "code",
   "execution_count": 5,
   "metadata": {},
   "outputs": [
    {
     "data": {
      "text/plain": [
       "<classmethod(<function PropertyType.parse at 0x7f0ca06bdf80>)>"
      ]
     },
     "execution_count": 5,
     "metadata": {},
     "output_type": "execute_result"
    }
   ],
   "source": [
    "PropertyType.__dict__[\"parse\"]"
   ]
  },
  {
   "cell_type": "code",
   "execution_count": 6,
   "metadata": {},
   "outputs": [
    {
     "name": "stdout",
     "output_type": "stream",
     "text": [
      "PropertyTypeApartment.SIXTIES_BRICK\n",
      "('apartment', 'sixties_brick')\n",
      "<enum 'PropertyTypeApartment'>\n",
      "<class 'property_models.constants.PropertyType'>\n",
      "\n",
      "('apartment', 'sixties_brick')\n",
      "<class 'property_models.constants.PropertyType'>\n",
      "('apartment', 'sixties_brick')\n",
      "<class 'property_models.constants.PropertyType'>\n"
     ]
    }
   ],
   "source": [
    "print(PropertyType.APARTMENT.SIXTIES_BRICK)\n",
    "print(PropertyType.APARTMENT.SIXTIES_BRICK.value)\n",
    "print(type(PropertyType.APARTMENT.SIXTIES_BRICK))\n",
    "print(type(PropertyType.APARTMENT.SIXTIES_BRICK.value))\n",
    "print()\n",
    "print(PropertyType.APARTMENT.SIXTIES_BRICK.value)\n",
    "print(type(PropertyType.APARTMENT.SIXTIES_BRICK.value))\n",
    "print(PropertyType(PropertyType.APARTMENT.SIXTIES_BRICK.value))\n",
    "print(type(PropertyType(PropertyType.APARTMENT.SIXTIES_BRICK.value)))"
   ]
  },
  {
   "cell_type": "code",
   "execution_count": 26,
   "metadata": {},
   "outputs": [
    {
     "data": {
      "text/plain": [
       "('apartment', None)"
      ]
     },
     "execution_count": 26,
     "metadata": {},
     "output_type": "execute_result"
    }
   ],
   "source": [
    "PropertyType.APARTMENT(\"None\")\n",
    "# PropertyType.APARTMENT.GENERAL.value\n",
    "PropertyType((\"apartment\", None))"
   ]
  },
  {
   "cell_type": "code",
   "execution_count": 7,
   "metadata": {},
   "outputs": [
    {
     "data": {
      "text/plain": [
       "CacheInfo(hits=8, misses=1, maxsize=128, currsize=1)"
      ]
     },
     "execution_count": 7,
     "metadata": {},
     "output_type": "execute_result"
    }
   ],
   "source": [
    "PropertyType((\"apartment\", \"sixties_brick\"))._sub_enum_lookup.cache_info()"
   ]
  },
  {
   "cell_type": "code",
   "execution_count": 8,
   "metadata": {},
   "outputs": [
    {
     "data": {
      "text/plain": [
       "TestModel(property_type=None, record_type=<RecordType.AUCTION: 'auction'>)"
      ]
     },
     "execution_count": 8,
     "metadata": {},
     "output_type": "execute_result"
    }
   ],
   "source": [
    "class TestModel(BaseModel):\n",
    "    \"\"\"Model to hold the general information about a property.\"\"\"\n",
    "\n",
    "    property_type: PropertyType | None = None\n",
    "    record_type: RecordType | None = None\n",
    "\n",
    "    model_config = ConfigDict({\"arbitrary_types_allowed\": True})\n",
    "\n",
    "\n",
    "TestModel(property_type=PropertyType.APARTMENT.SIXTIES_BRICK.value)\n",
    "TestModel(record_type=RecordType.AUCTION)\n",
    "TestModel(record_type=RecordType.AUCTION.value)"
   ]
  },
  {
   "cell_type": "code",
   "execution_count": 27,
   "metadata": {},
   "outputs": [
    {
     "ename": "ValidationError",
     "evalue": "1 validation error for TestModel\nrecord_type\n  Input should be 'auction', 'private_sale', 'enquiry', 'no_sale' or 'rent' [type=enum, input_value='sdf', input_type=str]\n    For further information visit https://errors.pydantic.dev/2.9/v/enum",
     "output_type": "error",
     "traceback": [
      "\u001b[0;31m---------------------------------------------------------------------------\u001b[0m",
      "\u001b[0;31mValidationError\u001b[0m                           Traceback (most recent call last)",
      "Cell \u001b[0;32mIn[27], line 1\u001b[0m\n\u001b[0;32m----> 1\u001b[0m \u001b[43mTestModel\u001b[49m\u001b[43m(\u001b[49m\u001b[43mrecord_type\u001b[49m\u001b[38;5;241;43m=\u001b[39;49m\u001b[38;5;124;43m'\u001b[39;49m\u001b[38;5;124;43msdf\u001b[39;49m\u001b[38;5;124;43m'\u001b[39;49m\u001b[43m)\u001b[49m\n",
      "File \u001b[0;32m~/git/private/property_models/.pixi/envs/default/lib/python3.12/site-packages/pydantic/main.py:212\u001b[0m, in \u001b[0;36mBaseModel.__init__\u001b[0;34m(self, **data)\u001b[0m\n\u001b[1;32m    210\u001b[0m \u001b[38;5;66;03m# `__tracebackhide__` tells pytest and some other tools to omit this function from tracebacks\u001b[39;00m\n\u001b[1;32m    211\u001b[0m __tracebackhide__ \u001b[38;5;241m=\u001b[39m \u001b[38;5;28;01mTrue\u001b[39;00m\n\u001b[0;32m--> 212\u001b[0m validated_self \u001b[38;5;241m=\u001b[39m \u001b[38;5;28;43mself\u001b[39;49m\u001b[38;5;241;43m.\u001b[39;49m\u001b[43m__pydantic_validator__\u001b[49m\u001b[38;5;241;43m.\u001b[39;49m\u001b[43mvalidate_python\u001b[49m\u001b[43m(\u001b[49m\u001b[43mdata\u001b[49m\u001b[43m,\u001b[49m\u001b[43m \u001b[49m\u001b[43mself_instance\u001b[49m\u001b[38;5;241;43m=\u001b[39;49m\u001b[38;5;28;43mself\u001b[39;49m\u001b[43m)\u001b[49m\n\u001b[1;32m    213\u001b[0m \u001b[38;5;28;01mif\u001b[39;00m \u001b[38;5;28mself\u001b[39m \u001b[38;5;129;01mis\u001b[39;00m \u001b[38;5;129;01mnot\u001b[39;00m validated_self:\n\u001b[1;32m    214\u001b[0m     warnings\u001b[38;5;241m.\u001b[39mwarn(\n\u001b[1;32m    215\u001b[0m         \u001b[38;5;124m'\u001b[39m\u001b[38;5;124mA custom validator is returning a value other than `self`.\u001b[39m\u001b[38;5;130;01m\\n\u001b[39;00m\u001b[38;5;124m'\u001b[39m\n\u001b[1;32m    216\u001b[0m         \u001b[38;5;124m\"\u001b[39m\u001b[38;5;124mReturning anything other than `self` from a top level model validator isn\u001b[39m\u001b[38;5;124m'\u001b[39m\u001b[38;5;124mt supported when validating via `__init__`.\u001b[39m\u001b[38;5;130;01m\\n\u001b[39;00m\u001b[38;5;124m\"\u001b[39m\n\u001b[1;32m    217\u001b[0m         \u001b[38;5;124m'\u001b[39m\u001b[38;5;124mSee the `model_validator` docs (https://docs.pydantic.dev/latest/concepts/validators/#model-validators) for more details.\u001b[39m\u001b[38;5;124m'\u001b[39m,\n\u001b[1;32m    218\u001b[0m         category\u001b[38;5;241m=\u001b[39m\u001b[38;5;28;01mNone\u001b[39;00m,\n\u001b[1;32m    219\u001b[0m     )\n",
      "\u001b[0;31mValidationError\u001b[0m: 1 validation error for TestModel\nrecord_type\n  Input should be 'auction', 'private_sale', 'enquiry', 'no_sale' or 'rent' [type=enum, input_value='sdf', input_type=str]\n    For further information visit https://errors.pydantic.dev/2.9/v/enum"
     ]
    }
   ],
   "source": [
    "TestModel(record_type=\"sdf\")"
   ]
  },
  {
   "cell_type": "code",
   "execution_count": 9,
   "metadata": {},
   "outputs": [
    {
     "data": {
      "text/html": [
       "<div><style>\n",
       ".dataframe > thead > tr,\n",
       ".dataframe > tbody > tr {\n",
       "  text-align: right;\n",
       "  white-space: pre-wrap;\n",
       "}\n",
       "</style>\n",
       "<small>shape: (1, 2)</small><table border=\"1\" class=\"dataframe\"><thead><tr><th>property_type</th><th>record_type</th></tr><tr><td>null</td><td>str</td></tr></thead><tbody><tr><td>null</td><td>&quot;auction&quot;</td></tr></tbody></table></div>"
      ],
      "text/plain": [
       "shape: (1, 2)\n",
       "┌───────────────┬─────────────┐\n",
       "│ property_type ┆ record_type │\n",
       "│ ---           ┆ ---         │\n",
       "│ null          ┆ str         │\n",
       "╞═══════════════╪═════════════╡\n",
       "│ null          ┆ auction     │\n",
       "└───────────────┴─────────────┘"
      ]
     },
     "execution_count": 9,
     "metadata": {},
     "output_type": "execute_result"
    }
   ],
   "source": [
    "pl.DataFrame(TestModel(record_type=RecordType.AUCTION).model_dump())"
   ]
  },
  {
   "cell_type": "code",
   "execution_count": 10,
   "metadata": {},
   "outputs": [
    {
     "data": {
      "text/plain": [
       "('apartment', 'sixties_brick')"
      ]
     },
     "execution_count": 10,
     "metadata": {},
     "output_type": "execute_result"
    }
   ],
   "source": [
    "PropertyType.APARTMENT.SIXTIES_BRICK.value"
   ]
  },
  {
   "cell_type": "code",
   "execution_count": 11,
   "metadata": {},
   "outputs": [
    {
     "data": {
      "text/plain": [
       "<PropertyTypeApartment.SIXTIES_BRICK: 'sixties_brick'>"
      ]
     },
     "execution_count": 11,
     "metadata": {},
     "output_type": "execute_result"
    }
   ],
   "source": [
    "PropertyType.APARTMENT.SIXTIES_BRICK"
   ]
  }
 ],
 "metadata": {
  "kernelspec": {
   "display_name": "Python 3",
   "language": "python",
   "name": "python3"
  },
  "language_info": {
   "codemirror_mode": {
    "name": "ipython",
    "version": 3
   },
   "file_extension": ".py",
   "mimetype": "text/x-python",
   "name": "python",
   "nbconvert_exporter": "python",
   "pygments_lexer": "ipython3",
   "version": "3.12.7"
  }
 },
 "nbformat": 4,
 "nbformat_minor": 2
}
