{
 "cells": [
  {
   "cell_type": "code",
   "execution_count": 1,
   "metadata": {},
   "outputs": [],
   "source": [
    "%load_ext autoreload\n",
    "%autoreload 2\n",
    "from datetime import date\n",
    "\n",
    "import polars as pl\n",
    "\n",
    "from property_models.constants import DATA_DIR, POSTCODE_CSV_FILE, PropertyType, RecordType\n",
    "from property_models.models import Address, HistoricalPrice"
   ]
  },
  {
   "cell_type": "code",
   "execution_count": 2,
   "metadata": {},
   "outputs": [
    {
     "data": {
      "text/html": [
       "<div><style>\n",
       ".dataframe > thead > tr,\n",
       ".dataframe > tbody > tr {\n",
       "  text-align: right;\n",
       "  white-space: pre-wrap;\n",
       "}\n",
       "</style>\n",
       "<small>shape: (249, 4)</small><table border=\"1\" class=\"dataframe\"><thead><tr><th>country_name</th><th>alpha-2</th><th>alpha-3</th><th>clean_name</th></tr><tr><td>str</td><td>str</td><td>str</td><td>str</td></tr></thead><tbody><tr><td>&quot;Afghanistan&quot;</td><td>&quot;AF&quot;</td><td>&quot;AFG&quot;</td><td>&quot;afghanistan&quot;</td></tr><tr><td>&quot;Åland Islands&quot;</td><td>&quot;AX&quot;</td><td>&quot;ALA&quot;</td><td>&quot;åland_islands&quot;</td></tr><tr><td>&quot;Albania&quot;</td><td>&quot;AL&quot;</td><td>&quot;ALB&quot;</td><td>&quot;albania&quot;</td></tr><tr><td>&quot;Algeria&quot;</td><td>&quot;DZ&quot;</td><td>&quot;DZA&quot;</td><td>&quot;algeria&quot;</td></tr><tr><td>&quot;American Samoa&quot;</td><td>&quot;AS&quot;</td><td>&quot;ASM&quot;</td><td>&quot;american_samoa&quot;</td></tr><tr><td>&hellip;</td><td>&hellip;</td><td>&hellip;</td><td>&hellip;</td></tr><tr><td>&quot;Wallis and Futuna&quot;</td><td>&quot;WF&quot;</td><td>&quot;WLF&quot;</td><td>&quot;wallis_and_futuna&quot;</td></tr><tr><td>&quot;Western Sahara&quot;</td><td>&quot;EH&quot;</td><td>&quot;ESH&quot;</td><td>&quot;western_sahara&quot;</td></tr><tr><td>&quot;Yemen&quot;</td><td>&quot;YE&quot;</td><td>&quot;YEM&quot;</td><td>&quot;yemen&quot;</td></tr><tr><td>&quot;Zambia&quot;</td><td>&quot;ZM&quot;</td><td>&quot;ZMB&quot;</td><td>&quot;zambia&quot;</td></tr><tr><td>&quot;Zimbabwe&quot;</td><td>&quot;ZW&quot;</td><td>&quot;ZWE&quot;</td><td>&quot;zimbabwe&quot;</td></tr></tbody></table></div>"
      ],
      "text/plain": [
       "shape: (249, 4)\n",
       "┌───────────────────┬─────────┬─────────┬───────────────────┐\n",
       "│ country_name      ┆ alpha-2 ┆ alpha-3 ┆ clean_name        │\n",
       "│ ---               ┆ ---     ┆ ---     ┆ ---               │\n",
       "│ str               ┆ str     ┆ str     ┆ str               │\n",
       "╞═══════════════════╪═════════╪═════════╪═══════════════════╡\n",
       "│ Afghanistan       ┆ AF      ┆ AFG     ┆ afghanistan       │\n",
       "│ Åland Islands     ┆ AX      ┆ ALA     ┆ åland_islands     │\n",
       "│ Albania           ┆ AL      ┆ ALB     ┆ albania           │\n",
       "│ Algeria           ┆ DZ      ┆ DZA     ┆ algeria           │\n",
       "│ American Samoa    ┆ AS      ┆ ASM     ┆ american_samoa    │\n",
       "│ …                 ┆ …       ┆ …       ┆ …                 │\n",
       "│ Wallis and Futuna ┆ WF      ┆ WLF     ┆ wallis_and_futuna │\n",
       "│ Western Sahara    ┆ EH      ┆ ESH     ┆ western_sahara    │\n",
       "│ Yemen             ┆ YE      ┆ YEM     ┆ yemen             │\n",
       "│ Zambia            ┆ ZM      ┆ ZMB     ┆ zambia            │\n",
       "│ Zimbabwe          ┆ ZW      ┆ ZWE     ┆ zimbabwe          │\n",
       "└───────────────────┴─────────┴─────────┴───────────────────┘"
      ]
     },
     "execution_count": 2,
     "metadata": {},
     "output_type": "execute_result"
    }
   ],
   "source": [
    "pl.read_csv(f\"{DATA_DIR}/processed/country_codes.csv\")"
   ]
  },
  {
   "cell_type": "code",
   "execution_count": 3,
   "metadata": {},
   "outputs": [
    {
     "data": {
      "text/plain": [
       "'/home/andre/git/private/property_models/data'"
      ]
     },
     "execution_count": 3,
     "metadata": {},
     "output_type": "execute_result"
    }
   ],
   "source": [
    "import os\n",
    "\n",
    "# Get the current working directory\n",
    "current_dir = os.getcwd()\n",
    "root_dir = current_dir.rsplit(\"/property_models/\", maxsplit=1)[0]\n",
    "data_dir = f\"{root_dir}/property_models/data\"\n",
    "data_dir"
   ]
  },
  {
   "cell_type": "code",
   "execution_count": 4,
   "metadata": {},
   "outputs": [
    {
     "name": "stdout",
     "output_type": "stream",
     "text": [
      "shape: (3, 3)\n",
      "┌─────────────┬────────────┬─────────────┐\n",
      "│ unit_number ┆ date       ┆ record_type │\n",
      "│ ---         ┆ ---        ┆ ---         │\n",
      "│ i64         ┆ date       ┆ str         │\n",
      "╞═════════════╪════════════╪═════════════╡\n",
      "│ 1           ┆ 2020-01-01 ┆ auction     │\n",
      "│ 20          ┆ null       ┆ enquiry     │\n",
      "│ null        ┆ 2020-10-01 ┆ no_sale     │\n",
      "└─────────────┴────────────┴─────────────┘\n"
     ]
    },
    {
     "data": {
      "text/plain": [
       "'unit_number,date,record_type\\n1,2020-01-01,auction\\n20,,enquiry\\n,2020-10-01,no_sale\\n'"
      ]
     },
     "execution_count": 4,
     "metadata": {},
     "output_type": "execute_result"
    }
   ],
   "source": [
    "data = pl.DataFrame(\n",
    "    {\n",
    "        \"unit_number\": [1, 20, None],\n",
    "        \"date\": [date(2020, 1, 1), None, date(2020, 10, 1)],\n",
    "        \"record_type\": [RecordType.AUCTION, RecordType.ENQUIRY, RecordType.NO_SALE],\n",
    "    }\n",
    ")\n",
    "print(data)\n",
    "data.write_csv()"
   ]
  },
  {
   "cell_type": "code",
   "execution_count": 5,
   "metadata": {},
   "outputs": [
    {
     "data": {
      "text/plain": [
       "b'    unit_number,street_number,street_name,date,record_type,price\\n    ,1,STEELE STREET,2020-01-01,auction,1000000\\n    10,31,LONG ROAD,2020-10-01,no_sale,500000\\n    ,31,BROAD WAY,2025-12-01,private_sale,5000000\\n    '"
      ]
     },
     "execution_count": 5,
     "metadata": {},
     "output_type": "execute_result"
    }
   ],
   "source": [
    "records_csv = b\"\"\"\\\n",
    "    unit_number,street_number,street_name,date,record_type,price\n",
    "    ,1,STEELE STREET,2020-01-01,auction,1000000\n",
    "    10,31,LONG ROAD,2020-10-01,no_sale,500000\n",
    "    ,31,BROAD WAY,2025-12-01,private_sale,5000000\n",
    "    \"\"\"\n",
    "records_csv"
   ]
  },
  {
   "cell_type": "code",
   "execution_count": 6,
   "metadata": {},
   "outputs": [
    {
     "data": {
      "text/plain": [
       "{'unit_number': [None, 10, None, None],\n",
       " 'street_number': [1, 31, 31, None],\n",
       " 'street_name': ['STEELE STREET', 'LONG ROAD', 'BROAD WAY', None],\n",
       " 'date': [datetime.date(2020, 1, 1),\n",
       "  datetime.date(2020, 10, 1),\n",
       "  datetime.date(2025, 12, 1),\n",
       "  None],\n",
       " 'record_type': ['auction', 'no_sale', 'private_sale', None],\n",
       " 'price': [1000000, 500000, 5000000, None]}"
      ]
     },
     "execution_count": 6,
     "metadata": {},
     "output_type": "execute_result"
    }
   ],
   "source": [
    "import tempfile\n",
    "\n",
    "# Create a temporary file\n",
    "with tempfile.NamedTemporaryFile(delete=True) as temp_file:\n",
    "    # Write data to the temporary file\n",
    "    temp_file.write(records_csv)\n",
    "    temp_file.seek(0)\n",
    "\n",
    "    data_csv = HistoricalPrice.read_csv(records_csv)\n",
    "\n",
    "data_csv.to_dict(as_series=False)"
   ]
  },
  {
   "cell_type": "code",
   "execution_count": 7,
   "metadata": {},
   "outputs": [],
   "source": [
    "record_json = {\n",
    "    \"unit_number\": [None, 10, None, None],\n",
    "    \"street_number\": [1, 31, 31, None],\n",
    "    \"street_name\": [\"STEELE STREET\", \"LONG ROAD\", \"BROAD WAY\", None],\n",
    "    \"date\": [date(2020, 1, 1), date(2020, 10, 1), date(2025, 12, 1), None],\n",
    "    \"record_type\": [\"auction\", \"no_sale\", \"private_sale\", None],\n",
    "    \"price\": [1000000, 500000, 5000000, None],\n",
    "}\n",
    "\n",
    "data_json = pl.DataFrame(record_json)"
   ]
  },
  {
   "cell_type": "code",
   "execution_count": 8,
   "metadata": {},
   "outputs": [],
   "source": [
    "import polars.testing\n",
    "\n",
    "pl.testing.assert_frame_equal(data_csv, data_json, check_dtypes=False)"
   ]
  },
  {
   "cell_type": "code",
   "execution_count": 10,
   "metadata": {},
   "outputs": [
    {
     "data": {
      "text/html": [
       "<div><style>\n",
       ".dataframe > thead > tr,\n",
       ".dataframe > tbody > tr {\n",
       "  text-align: right;\n",
       "  white-space: pre-wrap;\n",
       "}\n",
       "</style>\n",
       "<small>shape: (3, 6)</small><table border=\"1\" class=\"dataframe\"><thead><tr><th>unit_number</th><th>street_number</th><th>street_name</th><th>date</th><th>record_type</th><th>price</th></tr><tr><td>u16</td><td>u16</td><td>str</td><td>date</td><td>str</td><td>u32</td></tr></thead><tbody><tr><td>null</td><td>80</td><td>&quot;FIFTH STREET&quot;</td><td>2020-01-01</td><td>&quot;auction&quot;</td><td>100000</td></tr><tr><td>null</td><td>80</td><td>&quot;SAMPLE STREET&quot;</td><td>2020-01-01</td><td>&quot;enquiry&quot;</td><td>null</td></tr><tr><td>null</td><td>80</td><td>&quot;ROSEBERRY STREET&quot;</td><td>2020-01-01</td><td>&quot;no_sale&quot;</td><td>200000</td></tr></tbody></table></div>"
      ],
      "text/plain": [
       "shape: (3, 6)\n",
       "┌─────────────┬───────────────┬──────────────────┬────────────┬─────────────┬────────┐\n",
       "│ unit_number ┆ street_number ┆ street_name      ┆ date       ┆ record_type ┆ price  │\n",
       "│ ---         ┆ ---           ┆ ---              ┆ ---        ┆ ---         ┆ ---    │\n",
       "│ u16         ┆ u16           ┆ str              ┆ date       ┆ str         ┆ u32    │\n",
       "╞═════════════╪═══════════════╪══════════════════╪════════════╪═════════════╪════════╡\n",
       "│ null        ┆ 80            ┆ FIFTH STREET     ┆ 2020-01-01 ┆ auction     ┆ 100000 │\n",
       "│ null        ┆ 80            ┆ SAMPLE STREET    ┆ 2020-01-01 ┆ enquiry     ┆ null   │\n",
       "│ null        ┆ 80            ┆ ROSEBERRY STREET ┆ 2020-01-01 ┆ no_sale     ┆ 200000 │\n",
       "└─────────────┴───────────────┴──────────────────┴────────────┴─────────────┴────────┘"
      ]
     },
     "execution_count": 10,
     "metadata": {},
     "output_type": "execute_result"
    }
   ],
   "source": [
    "historical_prices = [\n",
    "    HistoricalPrice(\n",
    "        date=date(2020, 1, 1),\n",
    "        record_type=RecordType.parse(RecordType.AUCTION),\n",
    "        address=Address.parse(\"80 FIFTH STREET, ASCOT VALE, VIC 3032\", country=\"australia\"),\n",
    "        price=100000,\n",
    "    ),\n",
    "    HistoricalPrice(\n",
    "        date=date(2020, 1, 1),\n",
    "        record_type=RecordType.parse(RecordType.ENQUIRY),\n",
    "        address=Address.parse(\"80 SAMPLE STREET, ASCOT VALE, VIC 3032\", country=\"australia\"),\n",
    "        price=None,\n",
    "    ),\n",
    "    HistoricalPrice(\n",
    "        date=date(2020, 1, 1),\n",
    "        record_type=RecordType.parse(\" NO Sale\"),\n",
    "        address=Address.parse(\"80 ROSEBERRY STREET, NORTH MELBOURNE, VIC 3032\", country=\"australia\"),\n",
    "        price=200000,\n",
    "    ),\n",
    "]\n",
    "# historical_prices[0].model_dump()\n",
    "historical_records = HistoricalPrice.to_records(historical_prices)\n",
    "historical_records"
   ]
  },
  {
   "cell_type": "code",
   "execution_count": 13,
   "metadata": {},
   "outputs": [
    {
     "data": {
      "text/html": [
       "<div><style>\n",
       ".dataframe > thead > tr,\n",
       ".dataframe > tbody > tr {\n",
       "  text-align: right;\n",
       "  white-space: pre-wrap;\n",
       "}\n",
       "</style>\n",
       "<small>shape: (4, 6)</small><table border=\"1\" class=\"dataframe\"><thead><tr><th>unit_number</th><th>street_number</th><th>street_name</th><th>date</th><th>record_type</th><th>price</th></tr><tr><td>i64</td><td>i64</td><td>str</td><td>date</td><td>str</td><td>i64</td></tr></thead><tbody><tr><td>null</td><td>1</td><td>&quot;STEELE STREET&quot;</td><td>2020-01-01</td><td>&quot;auction&quot;</td><td>1000000</td></tr><tr><td>10</td><td>31</td><td>&quot;LONG ROAD&quot;</td><td>2020-10-01</td><td>&quot;no_sale&quot;</td><td>500000</td></tr><tr><td>null</td><td>31</td><td>&quot;BROAD WAY&quot;</td><td>2025-12-01</td><td>&quot;private_sale&quot;</td><td>5000000</td></tr><tr><td>null</td><td>null</td><td>null</td><td>null</td><td>null</td><td>null</td></tr></tbody></table></div>"
      ],
      "text/plain": [
       "shape: (4, 6)\n",
       "┌─────────────┬───────────────┬───────────────┬────────────┬──────────────┬─────────┐\n",
       "│ unit_number ┆ street_number ┆ street_name   ┆ date       ┆ record_type  ┆ price   │\n",
       "│ ---         ┆ ---           ┆ ---           ┆ ---        ┆ ---          ┆ ---     │\n",
       "│ i64         ┆ i64           ┆ str           ┆ date       ┆ str          ┆ i64     │\n",
       "╞═════════════╪═══════════════╪═══════════════╪════════════╪══════════════╪═════════╡\n",
       "│ null        ┆ 1             ┆ STEELE STREET ┆ 2020-01-01 ┆ auction      ┆ 1000000 │\n",
       "│ 10          ┆ 31            ┆ LONG ROAD     ┆ 2020-10-01 ┆ no_sale      ┆ 500000  │\n",
       "│ null        ┆ 31            ┆ BROAD WAY     ┆ 2025-12-01 ┆ private_sale ┆ 5000000 │\n",
       "│ null        ┆ null          ┆ null          ┆ null       ┆ null         ┆ null    │\n",
       "└─────────────┴───────────────┴───────────────┴────────────┴──────────────┴─────────┘"
      ]
     },
     "execution_count": 13,
     "metadata": {},
     "output_type": "execute_result"
    }
   ],
   "source": [
    "historical_records.to_dict(as_series=False)\n",
    "records_json = {\n",
    "    \"unit_number\": [None, None, None],\n",
    "    \"street_number\": [80, 80, 80],\n",
    "    \"street_name\": [\"FIFTH STREET\", \"SAMPLE STREET\", \"ROSEBERRY STREET\"],\n",
    "    \"date\": [date(2020, 1, 1), date(2020, 1, 1), date(2020, 1, 1)],\n",
    "    \"record_type\": [\"auction\", \"enquiry\", \"no_sale\"],\n",
    "    \"price\": [100000, None, 200000],\n",
    "}\n",
    "\n",
    "data_json = pl.DataFrame(record_json)\n",
    "data_json"
   ]
  }
 ],
 "metadata": {
  "kernelspec": {
   "display_name": "Python 3",
   "language": "python",
   "name": "python3"
  },
  "language_info": {
   "codemirror_mode": {
    "name": "ipython",
    "version": 3
   },
   "file_extension": ".py",
   "mimetype": "text/x-python",
   "name": "python",
   "nbconvert_exporter": "python",
   "pygments_lexer": "ipython3",
   "version": "3.12.7"
  }
 },
 "nbformat": 4,
 "nbformat_minor": 2
}
