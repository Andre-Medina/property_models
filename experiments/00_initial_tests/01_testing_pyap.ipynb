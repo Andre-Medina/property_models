{
 "cells": [
  {
   "cell_type": "code",
   "execution_count": 12,
   "metadata": {},
   "outputs": [],
   "source": [
    "%load_ext autoreload\n",
    "%autoreload 2\n",
    "# import pyap     # not aus friendly\n",
    "# import address  # too old\n",
    "# from addressnet.predict import predict_one   # needs tensorflow :/\n",
    "from au_address_parser import AbAddressUtility"
   ]
  },
  {
   "cell_type": "code",
   "execution_count": 13,
   "metadata": {},
   "outputs": [
    {
     "data": {
      "text/plain": [
       "<AbAddressUtility(addr_string='U2 42-44 Example St, STANMORE, NSW 2048')>"
      ]
     },
     "execution_count": 13,
     "metadata": {},
     "output_type": "execute_result"
    }
   ],
   "source": [
    "addr = AbAddressUtility(\"U2 42-44 Example St, STANMORE, NSW 2048\")\n",
    "addr"
   ]
  },
  {
   "cell_type": "code",
   "execution_count": 14,
   "metadata": {},
   "outputs": [
    {
     "data": {
      "text/plain": [
       "'2048'"
      ]
     },
     "execution_count": 14,
     "metadata": {},
     "output_type": "execute_result"
    }
   ],
   "source": [
    "addr._post"
   ]
  },
  {
   "cell_type": "code",
   "execution_count": 15,
   "metadata": {},
   "outputs": [
    {
     "data": {
      "text/plain": [
       "'ASCOT VALE'"
      ]
     },
     "execution_count": 15,
     "metadata": {},
     "output_type": "execute_result"
    }
   ],
   "source": [
    "address = AbAddressUtility(\"7/67 ROSEBERRY STREET, ASCOT VALE\" + \", VIC 3032\")\n",
    "address._flat\n",
    "address._number_first\n",
    "address._street\n",
    "address._post\n",
    "address._state\n",
    "address._locality"
   ]
  },
  {
   "cell_type": "code",
   "execution_count": 16,
   "metadata": {},
   "outputs": [
    {
     "data": {
      "text/plain": [
       "{'unit_number': '2',\n",
       " 'street_number': 42,\n",
       " 'street_name': 'EXAMPLE STREET',\n",
       " 'suburb': 'STANMORE',\n",
       " 'post_code': 2048,\n",
       " 'state': 'NSW',\n",
       " 'country': 'australia'}"
      ]
     },
     "execution_count": 16,
     "metadata": {},
     "output_type": "execute_result"
    }
   ],
   "source": [
    "from property_models.models import Address\n",
    "\n",
    "address = Address.parse(\"U2 42-44 Example St, STANMORE, NSW 2048\", country=\"australia\")\n",
    "address.model_dump()"
   ]
  },
  {
   "cell_type": "code",
   "execution_count": 18,
   "metadata": {},
   "outputs": [
    {
     "data": {
      "text/plain": [
       "{'unit_number': '',\n",
       " 'street_number': 67,\n",
       " 'street_name': 'ROSEBERRY STREET',\n",
       " 'suburb': 'ASCOT VALE',\n",
       " 'post_code': 3032,\n",
       " 'state': 'VIC',\n",
       " 'country': 'australia'}"
      ]
     },
     "execution_count": 18,
     "metadata": {},
     "output_type": "execute_result"
    }
   ],
   "source": [
    "address = Address.parse(\"7/67 ROSEBERRY STREET, ASCOT VALE\" + \", VIC 3032\", country=\"australia\")\n",
    "address.model_dump()"
   ]
  },
  {
   "cell_type": "code",
   "execution_count": 23,
   "metadata": {},
   "outputs": [],
   "source": [
    "address = Address.parse(\"67 ROSEBERRY STREET, ASCOT VALE\" + \", VIC 3032\", country=\"australia\")"
   ]
  },
  {
   "cell_type": "code",
   "execution_count": 34,
   "metadata": {},
   "outputs": [],
   "source": [
    "# import numpy as np\n",
    "\n",
    "# np.int\n",
    "unit = address.model_dump()[\"unit_number\"]"
   ]
  }
 ],
 "metadata": {
  "kernelspec": {
   "display_name": "Python 3",
   "language": "python",
   "name": "python3"
  },
  "language_info": {
   "codemirror_mode": {
    "name": "ipython",
    "version": 3
   },
   "file_extension": ".py",
   "mimetype": "text/x-python",
   "name": "python",
   "nbconvert_exporter": "python",
   "pygments_lexer": "ipython3",
   "version": "3.13.0"
  }
 },
 "nbformat": 4,
 "nbformat_minor": 2
}
