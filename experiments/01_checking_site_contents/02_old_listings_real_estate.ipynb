{
 "cells": [
  {
   "cell_type": "code",
   "execution_count": 1,
   "metadata": {},
   "outputs": [],
   "source": [
    "%load_ext autoreload\n",
    "%autoreload 2\n",
    "\n",
    "import selenium.webdriver\n",
    "from bs4 import BeautifulSoup\n",
    "from selenium.webdriver.common.by import By\n",
    "from selenium.webdriver.remote.webelement import WebElement\n",
    "\n",
    "driver = selenium.webdriver.Chrome()"
   ]
  },
  {
   "cell_type": "code",
   "execution_count": 2,
   "metadata": {},
   "outputs": [
    {
     "data": {
      "text/plain": [
       "OldListingURL(state='VIC', suburb='Ascot Vale', postcode=3032, page=1, beds=2, baths=2, cars=2)"
      ]
     },
     "execution_count": 2,
     "metadata": {},
     "output_type": "execute_result"
    }
   ],
   "source": [
    "from property_models.aus.old_listings.constants import OldListingURL\n",
    "\n",
    "old_listing_url = OldListingURL(\n",
    "    state=\"VIC\",\n",
    "    suburb=\"Ascot Vale\",\n",
    "    postcode=3032,\n",
    "    page=1,\n",
    "    beds=2,\n",
    "    baths=2,\n",
    "    cars=2,\n",
    ")\n",
    "old_listing_url"
   ]
  },
  {
   "cell_type": "code",
   "execution_count": 3,
   "metadata": {},
   "outputs": [],
   "source": [
    "page = driver.get(old_listing_url.format())"
   ]
  },
  {
   "cell_type": "code",
   "execution_count": 4,
   "metadata": {},
   "outputs": [],
   "source": [
    "postcode = old_listing_url.postcode\n",
    "state = old_listing_url.state"
   ]
  },
  {
   "cell_type": "code",
   "execution_count": 5,
   "metadata": {},
   "outputs": [
    {
     "data": {
      "text/plain": [
       "2"
      ]
     },
     "execution_count": 5,
     "metadata": {},
     "output_type": "execute_result"
    }
   ],
   "source": [
    "page_navigation = driver.find_element(By.CLASS_NAME, \"pagination\")\n",
    "last_navigation = page_navigation.find_elements(By.TAG_NAME, \"li\")[-2]\n",
    "int(last_navigation.text)"
   ]
  },
  {
   "cell_type": "code",
   "execution_count": 6,
   "metadata": {},
   "outputs": [],
   "source": [
    "site = \"https://www.oldlistings.com.au/real-estate/{state}/{suburb}/{postcode}/buy/{page}/:bed:{beds}:bedmax:{beds}:bath:{baths}:car:{cars}\"\n",
    "site = \"https://www.oldlistings.com.au/real-estate/VIC/ascot vale/3032/buy/3/:bed:2:bedmax:2:bath:1:car:1:cat:Apartment\"\n",
    "driver.get(site)"
   ]
  },
  {
   "cell_type": "code",
   "execution_count": 7,
   "metadata": {},
   "outputs": [
    {
     "data": {
      "text/plain": [
       "<selenium.webdriver.remote.webelement.WebElement (session=\"25a1fa8933097c5845250873a0087379\", element=\"f.3E412B7AAFF8C20FDF066546276C4DC5.d.DC4A0F490046C766D2AD69357AF32559.e.141\")>"
      ]
     },
     "execution_count": 7,
     "metadata": {},
     "output_type": "execute_result"
    }
   ],
   "source": [
    "table = driver.find_elements(By.CLASS_NAME, \"content-col\")[0]\n",
    "table"
   ]
  },
  {
   "cell_type": "code",
   "execution_count": 8,
   "metadata": {},
   "outputs": [
    {
     "data": {
      "text/plain": [
       "[<selenium.webdriver.remote.webelement.WebElement (session=\"25a1fa8933097c5845250873a0087379\", element=\"f.3E412B7AAFF8C20FDF066546276C4DC5.d.DC4A0F490046C766D2AD69357AF32559.e.132\")>,\n",
       " <selenium.webdriver.remote.webelement.WebElement (session=\"25a1fa8933097c5845250873a0087379\", element=\"f.3E412B7AAFF8C20FDF066546276C4DC5.d.DC4A0F490046C766D2AD69357AF32559.e.133\")>,\n",
       " <selenium.webdriver.remote.webelement.WebElement (session=\"25a1fa8933097c5845250873a0087379\", element=\"f.3E412B7AAFF8C20FDF066546276C4DC5.d.DC4A0F490046C766D2AD69357AF32559.e.134\")>,\n",
       " <selenium.webdriver.remote.webelement.WebElement (session=\"25a1fa8933097c5845250873a0087379\", element=\"f.3E412B7AAFF8C20FDF066546276C4DC5.d.DC4A0F490046C766D2AD69357AF32559.e.135\")>,\n",
       " <selenium.webdriver.remote.webelement.WebElement (session=\"25a1fa8933097c5845250873a0087379\", element=\"f.3E412B7AAFF8C20FDF066546276C4DC5.d.DC4A0F490046C766D2AD69357AF32559.e.136\")>,\n",
       " <selenium.webdriver.remote.webelement.WebElement (session=\"25a1fa8933097c5845250873a0087379\", element=\"f.3E412B7AAFF8C20FDF066546276C4DC5.d.DC4A0F490046C766D2AD69357AF32559.e.142\")>,\n",
       " <selenium.webdriver.remote.webelement.WebElement (session=\"25a1fa8933097c5845250873a0087379\", element=\"f.3E412B7AAFF8C20FDF066546276C4DC5.d.DC4A0F490046C766D2AD69357AF32559.e.143\")>,\n",
       " <selenium.webdriver.remote.webelement.WebElement (session=\"25a1fa8933097c5845250873a0087379\", element=\"f.3E412B7AAFF8C20FDF066546276C4DC5.d.DC4A0F490046C766D2AD69357AF32559.e.144\")>,\n",
       " <selenium.webdriver.remote.webelement.WebElement (session=\"25a1fa8933097c5845250873a0087379\", element=\"f.3E412B7AAFF8C20FDF066546276C4DC5.d.DC4A0F490046C766D2AD69357AF32559.e.145\")>,\n",
       " <selenium.webdriver.remote.webelement.WebElement (session=\"25a1fa8933097c5845250873a0087379\", element=\"f.3E412B7AAFF8C20FDF066546276C4DC5.d.DC4A0F490046C766D2AD69357AF32559.e.146\")>,\n",
       " <selenium.webdriver.remote.webelement.WebElement (session=\"25a1fa8933097c5845250873a0087379\", element=\"f.3E412B7AAFF8C20FDF066546276C4DC5.d.DC4A0F490046C766D2AD69357AF32559.e.147\")>,\n",
       " <selenium.webdriver.remote.webelement.WebElement (session=\"25a1fa8933097c5845250873a0087379\", element=\"f.3E412B7AAFF8C20FDF066546276C4DC5.d.DC4A0F490046C766D2AD69357AF32559.e.148\")>,\n",
       " <selenium.webdriver.remote.webelement.WebElement (session=\"25a1fa8933097c5845250873a0087379\", element=\"f.3E412B7AAFF8C20FDF066546276C4DC5.d.DC4A0F490046C766D2AD69357AF32559.e.149\")>,\n",
       " <selenium.webdriver.remote.webelement.WebElement (session=\"25a1fa8933097c5845250873a0087379\", element=\"f.3E412B7AAFF8C20FDF066546276C4DC5.d.DC4A0F490046C766D2AD69357AF32559.e.150\")>,\n",
       " <selenium.webdriver.remote.webelement.WebElement (session=\"25a1fa8933097c5845250873a0087379\", element=\"f.3E412B7AAFF8C20FDF066546276C4DC5.d.DC4A0F490046C766D2AD69357AF32559.e.151\")>,\n",
       " <selenium.webdriver.remote.webelement.WebElement (session=\"25a1fa8933097c5845250873a0087379\", element=\"f.3E412B7AAFF8C20FDF066546276C4DC5.d.DC4A0F490046C766D2AD69357AF32559.e.152\")>,\n",
       " <selenium.webdriver.remote.webelement.WebElement (session=\"25a1fa8933097c5845250873a0087379\", element=\"f.3E412B7AAFF8C20FDF066546276C4DC5.d.DC4A0F490046C766D2AD69357AF32559.e.153\")>,\n",
       " <selenium.webdriver.remote.webelement.WebElement (session=\"25a1fa8933097c5845250873a0087379\", element=\"f.3E412B7AAFF8C20FDF066546276C4DC5.d.DC4A0F490046C766D2AD69357AF32559.e.154\")>,\n",
       " <selenium.webdriver.remote.webelement.WebElement (session=\"25a1fa8933097c5845250873a0087379\", element=\"f.3E412B7AAFF8C20FDF066546276C4DC5.d.DC4A0F490046C766D2AD69357AF32559.e.155\")>,\n",
       " <selenium.webdriver.remote.webelement.WebElement (session=\"25a1fa8933097c5845250873a0087379\", element=\"f.3E412B7AAFF8C20FDF066546276C4DC5.d.DC4A0F490046C766D2AD69357AF32559.e.156\")>,\n",
       " <selenium.webdriver.remote.webelement.WebElement (session=\"25a1fa8933097c5845250873a0087379\", element=\"f.3E412B7AAFF8C20FDF066546276C4DC5.d.DC4A0F490046C766D2AD69357AF32559.e.157\")>,\n",
       " <selenium.webdriver.remote.webelement.WebElement (session=\"25a1fa8933097c5845250873a0087379\", element=\"f.3E412B7AAFF8C20FDF066546276C4DC5.d.DC4A0F490046C766D2AD69357AF32559.e.158\")>,\n",
       " <selenium.webdriver.remote.webelement.WebElement (session=\"25a1fa8933097c5845250873a0087379\", element=\"f.3E412B7AAFF8C20FDF066546276C4DC5.d.DC4A0F490046C766D2AD69357AF32559.e.159\")>,\n",
       " <selenium.webdriver.remote.webelement.WebElement (session=\"25a1fa8933097c5845250873a0087379\", element=\"f.3E412B7AAFF8C20FDF066546276C4DC5.d.DC4A0F490046C766D2AD69357AF32559.e.160\")>,\n",
       " <selenium.webdriver.remote.webelement.WebElement (session=\"25a1fa8933097c5845250873a0087379\", element=\"f.3E412B7AAFF8C20FDF066546276C4DC5.d.DC4A0F490046C766D2AD69357AF32559.e.161\")>,\n",
       " <selenium.webdriver.remote.webelement.WebElement (session=\"25a1fa8933097c5845250873a0087379\", element=\"f.3E412B7AAFF8C20FDF066546276C4DC5.d.DC4A0F490046C766D2AD69357AF32559.e.162\")>,\n",
       " <selenium.webdriver.remote.webelement.WebElement (session=\"25a1fa8933097c5845250873a0087379\", element=\"f.3E412B7AAFF8C20FDF066546276C4DC5.d.DC4A0F490046C766D2AD69357AF32559.e.163\")>,\n",
       " <selenium.webdriver.remote.webelement.WebElement (session=\"25a1fa8933097c5845250873a0087379\", element=\"f.3E412B7AAFF8C20FDF066546276C4DC5.d.DC4A0F490046C766D2AD69357AF32559.e.164\")>,\n",
       " <selenium.webdriver.remote.webelement.WebElement (session=\"25a1fa8933097c5845250873a0087379\", element=\"f.3E412B7AAFF8C20FDF066546276C4DC5.d.DC4A0F490046C766D2AD69357AF32559.e.165\")>,\n",
       " <selenium.webdriver.remote.webelement.WebElement (session=\"25a1fa8933097c5845250873a0087379\", element=\"f.3E412B7AAFF8C20FDF066546276C4DC5.d.DC4A0F490046C766D2AD69357AF32559.e.166\")>,\n",
       " <selenium.webdriver.remote.webelement.WebElement (session=\"25a1fa8933097c5845250873a0087379\", element=\"f.3E412B7AAFF8C20FDF066546276C4DC5.d.DC4A0F490046C766D2AD69357AF32559.e.167\")>,\n",
       " <selenium.webdriver.remote.webelement.WebElement (session=\"25a1fa8933097c5845250873a0087379\", element=\"f.3E412B7AAFF8C20FDF066546276C4DC5.d.DC4A0F490046C766D2AD69357AF32559.e.168\")>,\n",
       " <selenium.webdriver.remote.webelement.WebElement (session=\"25a1fa8933097c5845250873a0087379\", element=\"f.3E412B7AAFF8C20FDF066546276C4DC5.d.DC4A0F490046C766D2AD69357AF32559.e.169\")>,\n",
       " <selenium.webdriver.remote.webelement.WebElement (session=\"25a1fa8933097c5845250873a0087379\", element=\"f.3E412B7AAFF8C20FDF066546276C4DC5.d.DC4A0F490046C766D2AD69357AF32559.e.170\")>,\n",
       " <selenium.webdriver.remote.webelement.WebElement (session=\"25a1fa8933097c5845250873a0087379\", element=\"f.3E412B7AAFF8C20FDF066546276C4DC5.d.DC4A0F490046C766D2AD69357AF32559.e.171\")>,\n",
       " <selenium.webdriver.remote.webelement.WebElement (session=\"25a1fa8933097c5845250873a0087379\", element=\"f.3E412B7AAFF8C20FDF066546276C4DC5.d.DC4A0F490046C766D2AD69357AF32559.e.172\")>,\n",
       " <selenium.webdriver.remote.webelement.WebElement (session=\"25a1fa8933097c5845250873a0087379\", element=\"f.3E412B7AAFF8C20FDF066546276C4DC5.d.DC4A0F490046C766D2AD69357AF32559.e.173\")>,\n",
       " <selenium.webdriver.remote.webelement.WebElement (session=\"25a1fa8933097c5845250873a0087379\", element=\"f.3E412B7AAFF8C20FDF066546276C4DC5.d.DC4A0F490046C766D2AD69357AF32559.e.174\")>,\n",
       " <selenium.webdriver.remote.webelement.WebElement (session=\"25a1fa8933097c5845250873a0087379\", element=\"f.3E412B7AAFF8C20FDF066546276C4DC5.d.DC4A0F490046C766D2AD69357AF32559.e.175\")>,\n",
       " <selenium.webdriver.remote.webelement.WebElement (session=\"25a1fa8933097c5845250873a0087379\", element=\"f.3E412B7AAFF8C20FDF066546276C4DC5.d.DC4A0F490046C766D2AD69357AF32559.e.176\")>,\n",
       " <selenium.webdriver.remote.webelement.WebElement (session=\"25a1fa8933097c5845250873a0087379\", element=\"f.3E412B7AAFF8C20FDF066546276C4DC5.d.DC4A0F490046C766D2AD69357AF32559.e.177\")>,\n",
       " <selenium.webdriver.remote.webelement.WebElement (session=\"25a1fa8933097c5845250873a0087379\", element=\"f.3E412B7AAFF8C20FDF066546276C4DC5.d.DC4A0F490046C766D2AD69357AF32559.e.178\")>,\n",
       " <selenium.webdriver.remote.webelement.WebElement (session=\"25a1fa8933097c5845250873a0087379\", element=\"f.3E412B7AAFF8C20FDF066546276C4DC5.d.DC4A0F490046C766D2AD69357AF32559.e.179\")>,\n",
       " <selenium.webdriver.remote.webelement.WebElement (session=\"25a1fa8933097c5845250873a0087379\", element=\"f.3E412B7AAFF8C20FDF066546276C4DC5.d.DC4A0F490046C766D2AD69357AF32559.e.180\")>,\n",
       " <selenium.webdriver.remote.webelement.WebElement (session=\"25a1fa8933097c5845250873a0087379\", element=\"f.3E412B7AAFF8C20FDF066546276C4DC5.d.DC4A0F490046C766D2AD69357AF32559.e.181\")>,\n",
       " <selenium.webdriver.remote.webelement.WebElement (session=\"25a1fa8933097c5845250873a0087379\", element=\"f.3E412B7AAFF8C20FDF066546276C4DC5.d.DC4A0F490046C766D2AD69357AF32559.e.182\")>,\n",
       " <selenium.webdriver.remote.webelement.WebElement (session=\"25a1fa8933097c5845250873a0087379\", element=\"f.3E412B7AAFF8C20FDF066546276C4DC5.d.DC4A0F490046C766D2AD69357AF32559.e.183\")>,\n",
       " <selenium.webdriver.remote.webelement.WebElement (session=\"25a1fa8933097c5845250873a0087379\", element=\"f.3E412B7AAFF8C20FDF066546276C4DC5.d.DC4A0F490046C766D2AD69357AF32559.e.184\")>,\n",
       " <selenium.webdriver.remote.webelement.WebElement (session=\"25a1fa8933097c5845250873a0087379\", element=\"f.3E412B7AAFF8C20FDF066546276C4DC5.d.DC4A0F490046C766D2AD69357AF32559.e.185\")>,\n",
       " <selenium.webdriver.remote.webelement.WebElement (session=\"25a1fa8933097c5845250873a0087379\", element=\"f.3E412B7AAFF8C20FDF066546276C4DC5.d.DC4A0F490046C766D2AD69357AF32559.e.186\")>]"
      ]
     },
     "execution_count": 8,
     "metadata": {},
     "output_type": "execute_result"
    }
   ],
   "source": [
    "listings = table.find_elements(By.TAG_NAME, \"div\")\n",
    "listings"
   ]
  },
  {
   "cell_type": "code",
   "execution_count": 9,
   "metadata": {},
   "outputs": [],
   "source": [
    "from property_models.aus.old_listings.extract import extract_listing_data"
   ]
  },
  {
   "cell_type": "code",
   "execution_count": 10,
   "metadata": {},
   "outputs": [
    {
     "data": {
      "text/plain": [
       "RawListing(general_info=RawPropertyInfo(address='2/68 ORMOND ROAD, ASCOT VALE, VIC 3032', beds='2', cars='1', baths='1', property_type='Unit/apmt'), recent_price=RawPriceRecord(date=' March 2019', market_info='$380,000'), historical_prices=[RawPriceRecord(date='March 2019', market_info='$380,000 - $415,000'), RawPriceRecord(date='June 2013', market_info='Auction'), RawPriceRecord(date='June 2013', market_info='$315,000 - $345,000'), RawPriceRecord(date='June 2013', market_info='$315,000 - $345,000 Auction'), RawPriceRecord(date='August 2011', market_info='Private Sale')])"
      ]
     },
     "execution_count": 10,
     "metadata": {},
     "output_type": "execute_result"
    }
   ],
   "source": [
    "listing = listings[0]\n",
    "raw_listing = extract_listing_data(listing, state=state, postcode=postcode)\n",
    "raw_listing"
   ]
  },
  {
   "cell_type": "code",
   "execution_count": 17,
   "metadata": {},
   "outputs": [
    {
     "data": {
      "text/plain": [
       "PropertyInfo(address=Address(unit_number=2, street_number=68, street_name='ORMOND ROAD', suburb='ASCOT VALE', postcode=3032, state='VIC', country='AUS'), beds=2, baths=1, cars=1, property_size_m2=None, land_size_m2=None, condition=None, property_type=None, construction_date=None, floors=None)"
      ]
     },
     "execution_count": 17,
     "metadata": {},
     "output_type": "execute_result"
    }
   ],
   "source": [
    "raw_listing.to_property_info()"
   ]
  },
  {
   "cell_type": "code",
   "execution_count": 18,
   "metadata": {},
   "outputs": [
    {
     "data": {
      "text/plain": [
       "' March 2019'"
      ]
     },
     "execution_count": 18,
     "metadata": {},
     "output_type": "execute_result"
    }
   ],
   "source": [
    "raw_listing.recent_price.date"
   ]
  },
  {
   "cell_type": "code",
   "execution_count": 19,
   "metadata": {},
   "outputs": [
    {
     "data": {
      "text/plain": [
       "' March 2019'"
      ]
     },
     "execution_count": 19,
     "metadata": {},
     "output_type": "execute_result"
    }
   ],
   "source": [
    "raw_listing.recent_price.date"
   ]
  },
  {
   "cell_type": "code",
   "execution_count": 20,
   "metadata": {},
   "outputs": [
    {
     "data": {
      "text/plain": [
       "datetime.date(2019, 3, 1)"
      ]
     },
     "execution_count": 20,
     "metadata": {},
     "output_type": "execute_result"
    }
   ],
   "source": [
    "from property_models.aus.old_listings.parse import parse_date\n",
    "\n",
    "parse_date(raw_listing.recent_price.date)"
   ]
  },
  {
   "cell_type": "code",
   "execution_count": 21,
   "metadata": {},
   "outputs": [],
   "source": [
    "from datetime import date"
   ]
  },
  {
   "cell_type": "code",
   "execution_count": 23,
   "metadata": {},
   "outputs": [
    {
     "data": {
      "text/plain": [
       "PropertyInfo(address=Address(unit_number=2, street_number=68, street_name='ORMOND ROAD', suburb='ASCOT VALE', postcode=3032, state='VIC', country='AUS'), beds=2, baths=1, cars=1, property_size_m2=None, land_size_m2=None, condition=None, property_type=None, construction_date=None, floors=None)"
      ]
     },
     "execution_count": 23,
     "metadata": {},
     "output_type": "execute_result"
    }
   ],
   "source": [
    "raw_listing.to_property_info()"
   ]
  },
  {
   "cell_type": "code",
   "execution_count": 24,
   "metadata": {},
   "outputs": [
    {
     "data": {
      "text/plain": [
       "[PriceRecord(address=Address(unit_number=2, street_number=68, street_name='ORMOND ROAD', suburb='ASCOT VALE', postcode=3032, state='VIC', country='AUS'), date=datetime.date(2019, 3, 1), record_type=None, price=380000),\n",
       " PriceRecord(address=Address(unit_number=2, street_number=68, street_name='ORMOND ROAD', suburb='ASCOT VALE', postcode=3032, state='VIC', country='AUS'), date=datetime.date(2019, 3, 1), record_type=None, price=397500),\n",
       " PriceRecord(address=Address(unit_number=2, street_number=68, street_name='ORMOND ROAD', suburb='ASCOT VALE', postcode=3032, state='VIC', country='AUS'), date=datetime.date(2013, 6, 1), record_type=<RecordType.AUCTION: 'auction'>, price=None),\n",
       " PriceRecord(address=Address(unit_number=2, street_number=68, street_name='ORMOND ROAD', suburb='ASCOT VALE', postcode=3032, state='VIC', country='AUS'), date=datetime.date(2013, 6, 1), record_type=None, price=330000),\n",
       " PriceRecord(address=Address(unit_number=2, street_number=68, street_name='ORMOND ROAD', suburb='ASCOT VALE', postcode=3032, state='VIC', country='AUS'), date=datetime.date(2013, 6, 1), record_type=<RecordType.AUCTION: 'auction'>, price=330000),\n",
       " PriceRecord(address=Address(unit_number=2, street_number=68, street_name='ORMOND ROAD', suburb='ASCOT VALE', postcode=3032, state='VIC', country='AUS'), date=datetime.date(2011, 8, 1), record_type=<RecordType.PRIVATE_SALE: 'private_sale'>, price=None)]"
      ]
     },
     "execution_count": 24,
     "metadata": {},
     "output_type": "execute_result"
    }
   ],
   "source": [
    "raw_listing.to_price_records()"
   ]
  },
  {
   "cell_type": "code",
   "execution_count": 25,
   "metadata": {},
   "outputs": [
    {
     "ename": "AttributeError",
     "evalue": "'WebElement' object has no attribute 'process_property_info'",
     "output_type": "error",
     "traceback": [
      "\u001b[0;31m---------------------------------------------------------------------------\u001b[0m",
      "\u001b[0;31mAttributeError\u001b[0m                            Traceback (most recent call last)",
      "Cell \u001b[0;32mIn[25], line 3\u001b[0m\n\u001b[1;32m      1\u001b[0m extracted_data \u001b[38;5;241m=\u001b[39m []\n\u001b[1;32m      2\u001b[0m \u001b[38;5;28;01mfor\u001b[39;00m listing \u001b[38;5;129;01min\u001b[39;00m listings:\n\u001b[0;32m----> 3\u001b[0m     extracted_data\u001b[38;5;241m.\u001b[39mappend(\u001b[43mlisting\u001b[49m\u001b[38;5;241;43m.\u001b[39;49m\u001b[43mprocess_property_info\u001b[49m())\n\u001b[1;32m      4\u001b[0m extracted_data\n",
      "\u001b[0;31mAttributeError\u001b[0m: 'WebElement' object has no attribute 'process_property_info'"
     ]
    }
   ],
   "source": [
    "### FIXME\n",
    "extracted_data = []\n",
    "for listing in listings:\n",
    "    extracted_data.append(listing.process_property_info())\n",
    "extracted_data"
   ]
  },
  {
   "cell_type": "code",
   "execution_count": null,
   "metadata": {},
   "outputs": [
    {
     "data": {
      "text/plain": [
       "[[{'date': 'March 2019', 'price': 0, 'type': '$380,000 - $415,000'},\n",
       "  {'date': 'June 2013', 'price': 0, 'type': 'Auction'},\n",
       "  {'date': 'June 2013', 'price': 0, 'type': '$315,000 - $345,000'},\n",
       "  {'date': 'June 2013', 'price': 0, 'type': '$315,000 - $345,000 Auction'},\n",
       "  {'date': 'August 2011', 'price': 0, 'type': 'Private Sale'}],\n",
       " [{'date': 'January 2019', 'price': 0, 'type': '$495,000'}],\n",
       " [{'date': 'October 2018', 'price': 0, 'type': '$440 Private Sale'}],\n",
       " [{'date': 'September 2018', 'price': 0, 'type': '$430,000 Private Sale'}],\n",
       " [{'date': 'July 2018', 'price': 0, 'type': 'By Negotiation'},\n",
       "  {'date': 'October 2014', 'price': 0, 'type': '$320,000 - $350,000 Auction'}],\n",
       " [{'date': 'June 2018', 'price': 0, 'type': '$492,000'},\n",
       "  {'date': 'June 2018', 'price': 0, 'type': 'Auction'},\n",
       "  {'date': 'June 2018', 'price': 0, 'type': '$440,000 - $480,000'},\n",
       "  {'date': 'February 2015', 'price': 0, 'type': '$455,000'},\n",
       "  {'date': 'July 2012', 'price': 0, 'type': '$410,000 Price Guide'},\n",
       "  {'date': 'June 2012', 'price': 0, 'type': '$415,000'},\n",
       "  {'date': 'August 2012', 'price': 0, 'type': '$415,000'}],\n",
       " [{'date': 'May 2018', 'price': 0, 'type': '$350 Week'},\n",
       "  {'date': 'February 2016', 'price': 0, 'type': '$360,000 - $395,000'}],\n",
       " [{'date': 'May 2018', 'price': 0, 'type': 'Private Sale'},\n",
       "  {'date': 'May 2014', 'price': 0, 'type': '$400,000 - $440,000'},\n",
       "  {'date': 'May 2014', 'price': 0, 'type': '$400,000 - $440,000 Auction'},\n",
       "  {'date': 'May 2014', 'price': 0, 'type': 'Auction'},\n",
       "  {'date': 'May 2011', 'price': 0, 'type': 'Contact'},\n",
       "  {'date': 'May 2011', 'price': 0, 'type': 'Auction'}],\n",
       " [{'date': 'April 2018', 'price': 0, 'type': '$480,000 - $520,000'},\n",
       "  {'date': 'April 2018', 'price': 0, 'type': '$480,000 - $520,000 Auction'},\n",
       "  {'date': 'May 2017', 'price': 0, 'type': 'Contact'}],\n",
       " [{'date': 'February 2018', 'price': 0, 'type': '$625,000'},\n",
       "  {'date': 'December 2017', 'price': 0, 'type': '$649,950'},\n",
       "  {'date': 'November 2017', 'price': 0, 'type': '$649,950'},\n",
       "  {'date': 'September 2017', 'price': 0, 'type': 'Contact'},\n",
       "  {'date': 'April 2017', 'price': 0, 'type': '$670,000'}],\n",
       " [{'date': 'February 2018', 'price': 0, 'type': '$625,000'}],\n",
       " [{'date': 'January 2018', 'price': 0, 'type': '$490,000 Private Sale'}],\n",
       " [{'date': 'August 2018', 'price': 0, 'type': '$575,000'},\n",
       "  {'date': 'August 2016', 'price': 0, 'type': '$585,000'}],\n",
       " [{'date': 'November 2018', 'price': 0, 'type': '$702,000'}],\n",
       " [{'date': 'October 2018', 'price': 0, 'type': '$460,000 - $500,000 Auction'},\n",
       "  {'date': 'October 2018', 'price': 0, 'type': '$460,000 - $500,000'},\n",
       "  {'date': 'October 2018', 'price': 0, 'type': 'Auction'},\n",
       "  {'date': 'March 2013', 'price': 0, 'type': 'Contact'}],\n",
       " [{'date': 'August 2018', 'price': 0, 'type': '$540,000 - $580,000'},\n",
       "  {'date': 'August 2018', 'price': 0, 'type': 'Auction'},\n",
       "  {'date': 'January 2012', 'price': 0, 'type': '$480,000'},\n",
       "  {'date': 'November 2012', 'price': 0, 'type': '$465,000 Private Sale'},\n",
       "  {'date': 'October 2011', 'price': 0, 'type': '$440,000 - $480,000'},\n",
       "  {'date': 'July 2007', 'price': 0, 'type': '$300,000 In excess of'}],\n",
       " [{'date': 'July 2018', 'price': 0, 'type': '$450,000 - $490,000 Auction'},\n",
       "  {'date': 'July 2018', 'price': 0, 'type': 'Auction'},\n",
       "  {'date': 'July 2018', 'price': 0, 'type': '$450,000 - $490,000'}],\n",
       " [{'date': 'March 2018', 'price': 0, 'type': '$410,000 - $450,000'}],\n",
       " [{'date': 'November 2017', 'price': 0, 'type': 'Private Sale'}],\n",
       " [{'date': 'November 2017', 'price': 0, 'type': '$539,000 Private Sale'},\n",
       "  {'date': 'September 2017', 'price': 0, 'type': '$539,000 Private Sale'},\n",
       "  {'date': 'April 2013',\n",
       "   'price': 0,\n",
       "   'type': '$445,000 - $465,000 Private Sale'}],\n",
       " [{'date': 'January 2017', 'price': 0, 'type': '$488,000 Private Sale'}],\n",
       " [{'date': 'November 2017', 'price': 0, 'type': '$420,000 - $460,000'},\n",
       "  {'date': 'December 2010', 'price': 0, 'type': 'Auction'},\n",
       "  {'date': 'December 2010', 'price': 0, 'type': '$390,000 - $420,000'}],\n",
       " [{'date': 'October 2017', 'price': 0, 'type': '$400,000 - $440,000'},\n",
       "  {'date': 'September 2017', 'price': 0, 'type': '$400,000 - $440,000'}],\n",
       " [{'date': 'October 2016', 'price': 0, 'type': '$639,000'},\n",
       "  {'date': 'November 2016', 'price': 0, 'type': '$639,000'}],\n",
       " [{'date': 'May 2016', 'price': 0, 'type': '$620,000 Private Sale'},\n",
       "  {'date': 'June 2016', 'price': 0, 'type': '$620,000 Private Sale'}],\n",
       " [{'date': 'May 2016', 'price': 0, 'type': '$410,000'}],\n",
       " [{'date': 'April 2016', 'price': 0, 'type': '$435,000 Private Sale'},\n",
       "  {'date': 'March 2010', 'price': 0, 'type': 'Auction'}],\n",
       " [{'date': 'December 2016', 'price': 0, 'type': '$479,000'}],\n",
       " [{'date': 'February 2016', 'price': 0, 'type': '$520,000'}]]"
      ]
     },
     "execution_count": 8,
     "metadata": {},
     "output_type": "execute_result"
    }
   ],
   "source": [
    "historical_prices = [data[\"historical_prices\"] for data in extracted_data if data is not None]\n",
    "historical_prices"
   ]
  },
  {
   "cell_type": "code",
   "execution_count": null,
   "metadata": {},
   "outputs": [
    {
     "data": {
      "text/plain": [
       "['$380,000 - $415,000',\n",
       " 'Auction',\n",
       " '$315,000 - $345,000',\n",
       " '$315,000 - $345,000 Auction',\n",
       " 'Private Sale',\n",
       " '$495,000',\n",
       " '$440 Private Sale',\n",
       " '$430,000 Private Sale',\n",
       " 'By Negotiation',\n",
       " '$320,000 - $350,000 Auction',\n",
       " '$492,000',\n",
       " 'Auction',\n",
       " '$440,000 - $480,000',\n",
       " '$455,000',\n",
       " '$410,000 Price Guide',\n",
       " '$415,000',\n",
       " '$415,000',\n",
       " '$350 Week',\n",
       " '$360,000 - $395,000',\n",
       " 'Private Sale',\n",
       " '$400,000 - $440,000',\n",
       " '$400,000 - $440,000 Auction',\n",
       " 'Auction',\n",
       " 'Contact',\n",
       " 'Auction',\n",
       " '$480,000 - $520,000',\n",
       " '$480,000 - $520,000 Auction',\n",
       " 'Contact',\n",
       " '$625,000',\n",
       " '$649,950',\n",
       " '$649,950',\n",
       " 'Contact',\n",
       " '$670,000',\n",
       " '$625,000',\n",
       " '$490,000 Private Sale',\n",
       " '$575,000',\n",
       " '$585,000',\n",
       " '$702,000',\n",
       " '$460,000 - $500,000 Auction',\n",
       " '$460,000 - $500,000',\n",
       " 'Auction',\n",
       " 'Contact',\n",
       " '$540,000 - $580,000',\n",
       " 'Auction',\n",
       " '$480,000',\n",
       " '$465,000 Private Sale',\n",
       " '$440,000 - $480,000',\n",
       " '$300,000 In excess of',\n",
       " '$450,000 - $490,000 Auction',\n",
       " 'Auction',\n",
       " '$450,000 - $490,000',\n",
       " '$410,000 - $450,000',\n",
       " 'Private Sale',\n",
       " '$539,000 Private Sale',\n",
       " '$539,000 Private Sale',\n",
       " '$445,000 - $465,000 Private Sale',\n",
       " '$488,000 Private Sale',\n",
       " '$420,000 - $460,000',\n",
       " 'Auction',\n",
       " '$390,000 - $420,000',\n",
       " '$400,000 - $440,000',\n",
       " '$400,000 - $440,000',\n",
       " '$639,000',\n",
       " '$639,000',\n",
       " '$620,000 Private Sale',\n",
       " '$620,000 Private Sale',\n",
       " '$410,000',\n",
       " '$435,000 Private Sale',\n",
       " 'Auction',\n",
       " '$479,000',\n",
       " '$520,000']"
      ]
     },
     "execution_count": 9,
     "metadata": {},
     "output_type": "execute_result"
    }
   ],
   "source": [
    "list_of_historical_prices = [historical_price[\"type\"] for historical_price in sum(historical_prices, [])]\n",
    "list_of_historical_prices"
   ]
  },
  {
   "cell_type": "code",
   "execution_count": null,
   "metadata": {},
   "outputs": [
    {
     "name": "stdout",
     "output_type": "stream",
     "text": [
      "Joe Kim MaX aby LiZa\n"
     ]
    }
   ],
   "source": [
    "import re\n",
    "\n",
    "\n",
    "def convert_case(match_obj):\n",
    "    if match_obj.group(1) is not None:\n",
    "        return match_obj.group(1).lower()\n",
    "    if match_obj.group(2) is not None:\n",
    "        return match_obj.group(2).upper()\n",
    "\n",
    "\n",
    "str = \"jOE kIM mAx ABY lIzA\"\n",
    "print(re.sub(r\"([A-Z]+)|([a-z]+)\", convert_case, str))"
   ]
  },
  {
   "cell_type": "code",
   "execution_count": null,
   "metadata": {},
   "outputs": [
    {
     "name": "stdout",
     "output_type": "stream",
     "text": [
      "$380,000 - $415,000 => 397500.0\n",
      "Auction => None\n",
      "$315,000 - $345,000 => 330000.0\n",
      "$315,000 - $345,000 Auction => 330000.0\n",
      "Private Sale => None\n",
      "$495,000 => 495000.0\n",
      "$440 Private Sale => 440.0\n",
      "$430,000 Private Sale => 430000.0\n",
      "By Negotiation => None\n",
      "$320,000 - $350,000 Auction => 335000.0\n",
      "$492,000 => 492000.0\n",
      "Auction => None\n",
      "$440,000 - $480,000 => 460000.0\n",
      "$455,000 => 455000.0\n",
      "$410,000 Price Guide => 410000.0\n",
      "$415,000 => 415000.0\n",
      "$415,000 => 415000.0\n",
      "$350 Week => 350.0\n",
      "$360,000 - $395,000 => 377500.0\n",
      "Private Sale => None\n",
      "$400,000 - $440,000 => 420000.0\n",
      "$400,000 - $440,000 Auction => 420000.0\n",
      "Auction => None\n",
      "Contact => None\n",
      "Auction => None\n",
      "$480,000 - $520,000 => 500000.0\n",
      "$480,000 - $520,000 Auction => 500000.0\n",
      "Contact => None\n",
      "$625,000 => 625000.0\n",
      "$649,950 => 649950.0\n",
      "$649,950 => 649950.0\n",
      "Contact => None\n",
      "$670,000 => 670000.0\n",
      "$625,000 => 625000.0\n",
      "$490,000 Private Sale => 490000.0\n",
      "$575,000 => 575000.0\n",
      "$585,000 => 585000.0\n",
      "$702,000 => 702000.0\n",
      "$460,000 - $500,000 Auction => 480000.0\n",
      "$460,000 - $500,000 => 480000.0\n",
      "Auction => None\n",
      "Contact => None\n",
      "$540,000 - $580,000 => 560000.0\n",
      "Auction => None\n",
      "$480,000 => 480000.0\n",
      "$465,000 Private Sale => 465000.0\n",
      "$440,000 - $480,000 => 460000.0\n",
      "$300,000 In excess of => 300000.0\n",
      "$450,000 - $490,000 Auction => 470000.0\n",
      "Auction => None\n",
      "$450,000 - $490,000 => 470000.0\n",
      "$410,000 - $450,000 => 430000.0\n",
      "Private Sale => None\n",
      "$539,000 Private Sale => 539000.0\n",
      "$539,000 Private Sale => 539000.0\n",
      "$445,000 - $465,000 Private Sale => 455000.0\n",
      "$488,000 Private Sale => 488000.0\n",
      "$420,000 - $460,000 => 440000.0\n",
      "Auction => None\n",
      "$390,000 - $420,000 => 405000.0\n",
      "$400,000 - $440,000 => 420000.0\n",
      "$400,000 - $440,000 => 420000.0\n",
      "$639,000 => 639000.0\n",
      "$639,000 => 639000.0\n",
      "$620,000 Private Sale => 620000.0\n",
      "$620,000 Private Sale => 620000.0\n",
      "$410,000 => 410000.0\n",
      "$435,000 Private Sale => 435000.0\n",
      "Auction => None\n",
      "$479,000 => 479000.0\n",
      "$520,000 => 520000.0\n"
     ]
    }
   ],
   "source": [
    "from property_models.aus.old_listings.process import parse_price\n",
    "\n",
    "for price_info in list_of_historical_prices:\n",
    "    price = parse_price(price_info)\n",
    "\n",
    "    print(price_info, \"=>\", price)"
   ]
  },
  {
   "cell_type": "code",
   "execution_count": null,
   "metadata": {},
   "outputs": [
    {
     "name": "stdout",
     "output_type": "stream",
     "text": [
      "$380,000 - $415,000  :  None\n",
      "Auction  :  RecordType.AUCTION\n",
      "$315,000 - $345,000  :  None\n",
      "$315,000 - $345,000 Auction  :  RecordType.AUCTION\n",
      "Private Sale  :  RecordType.PRIVATE_SALE\n",
      "$495,000  :  None\n",
      "$440 Private Sale  :  RecordType.PRIVATE_SALE\n",
      "$430,000 Private Sale  :  RecordType.PRIVATE_SALE\n",
      "By Negotiation  :  RecordType.PRIVATE_SALE\n",
      "$320,000 - $350,000 Auction  :  RecordType.AUCTION\n",
      "$492,000  :  None\n",
      "Auction  :  RecordType.AUCTION\n",
      "$440,000 - $480,000  :  None\n",
      "$455,000  :  None\n",
      "$410,000 Price Guide  :  RecordType.ENQUIRY\n",
      "$415,000  :  None\n",
      "$415,000  :  None\n",
      "$350 Week  :  RecordType.RENT\n",
      "$360,000 - $395,000  :  None\n",
      "Private Sale  :  RecordType.PRIVATE_SALE\n",
      "$400,000 - $440,000  :  None\n",
      "$400,000 - $440,000 Auction  :  RecordType.AUCTION\n",
      "Auction  :  RecordType.AUCTION\n",
      "Contact  :  RecordType.ENQUIRY\n",
      "Auction  :  RecordType.AUCTION\n",
      "$480,000 - $520,000  :  None\n",
      "$480,000 - $520,000 Auction  :  RecordType.AUCTION\n",
      "Contact  :  RecordType.ENQUIRY\n",
      "$625,000  :  None\n",
      "$649,950  :  None\n",
      "$649,950  :  None\n",
      "Contact  :  RecordType.ENQUIRY\n",
      "$670,000  :  None\n",
      "$625,000  :  None\n",
      "$490,000 Private Sale  :  RecordType.PRIVATE_SALE\n",
      "$575,000  :  None\n",
      "$585,000  :  None\n",
      "$702,000  :  None\n",
      "$460,000 - $500,000 Auction  :  RecordType.AUCTION\n",
      "$460,000 - $500,000  :  None\n",
      "Auction  :  RecordType.AUCTION\n",
      "Contact  :  RecordType.ENQUIRY\n",
      "$540,000 - $580,000  :  None\n",
      "Auction  :  RecordType.AUCTION\n",
      "$480,000  :  None\n",
      "$465,000 Private Sale  :  RecordType.PRIVATE_SALE\n",
      "$440,000 - $480,000  :  None\n",
      "$300,000 In excess of  :  RecordType.ENQUIRY\n",
      "$450,000 - $490,000 Auction  :  RecordType.AUCTION\n",
      "Auction  :  RecordType.AUCTION\n",
      "$450,000 - $490,000  :  None\n",
      "$410,000 - $450,000  :  None\n",
      "Private Sale  :  RecordType.PRIVATE_SALE\n",
      "$539,000 Private Sale  :  RecordType.PRIVATE_SALE\n",
      "$539,000 Private Sale  :  RecordType.PRIVATE_SALE\n",
      "$445,000 - $465,000 Private Sale  :  RecordType.PRIVATE_SALE\n",
      "$488,000 Private Sale  :  RecordType.PRIVATE_SALE\n",
      "$420,000 - $460,000  :  None\n",
      "Auction  :  RecordType.AUCTION\n",
      "$390,000 - $420,000  :  None\n",
      "$400,000 - $440,000  :  None\n",
      "$400,000 - $440,000  :  None\n",
      "$639,000  :  None\n",
      "$639,000  :  None\n",
      "$620,000 Private Sale  :  RecordType.PRIVATE_SALE\n",
      "$620,000 Private Sale  :  RecordType.PRIVATE_SALE\n",
      "$410,000  :  None\n",
      "$435,000 Private Sale  :  RecordType.PRIVATE_SALE\n",
      "Auction  :  RecordType.AUCTION\n",
      "$479,000  :  None\n",
      "$520,000  :  None\n"
     ]
    }
   ],
   "source": [
    "from property_models.aus.old_listings.process import parse_record_type\n",
    "from property_models.constants import RecordType\n",
    "\n",
    "for price_info in list_of_historical_prices:\n",
    "    type = parse_record_type(price_info)\n",
    "\n",
    "    print(price_info, \" : \", type)"
   ]
  },
  {
   "cell_type": "code",
   "execution_count": null,
   "metadata": {},
   "outputs": [
    {
     "name": "stdout",
     "output_type": "stream",
     "text": [
      "$380,000 - $415,000  :  (397500.0, None)\n",
      "Auction  :  (None, <RecordType.AUCTION: 'auction'>)\n",
      "$315,000 - $345,000  :  (330000.0, None)\n",
      "$315,000 - $345,000 Auction  :  (330000.0, <RecordType.AUCTION: 'auction'>)\n",
      "Private Sale  :  (None, <RecordType.PRIVATE_SALE: 'private_sale'>)\n",
      "$495,000  :  (495000.0, None)\n",
      "$440 Private Sale  :  (440.0, <RecordType.PRIVATE_SALE: 'private_sale'>)\n",
      "$430,000 Private Sale  :  (430000.0, <RecordType.PRIVATE_SALE: 'private_sale'>)\n",
      "By Negotiation  :  (None, <RecordType.PRIVATE_SALE: 'private_sale'>)\n",
      "$320,000 - $350,000 Auction  :  (335000.0, <RecordType.AUCTION: 'auction'>)\n",
      "$492,000  :  (492000.0, None)\n",
      "Auction  :  (None, <RecordType.AUCTION: 'auction'>)\n",
      "$440,000 - $480,000  :  (460000.0, None)\n",
      "$455,000  :  (455000.0, None)\n",
      "$410,000 Price Guide  :  (410000.0, <RecordType.ENQUIRY: 'enquiry'>)\n",
      "$415,000  :  (415000.0, None)\n",
      "$415,000  :  (415000.0, None)\n",
      "$350 Week  :  (350.0, <RecordType.RENT: 'rent'>)\n",
      "$360,000 - $395,000  :  (377500.0, None)\n",
      "Private Sale  :  (None, <RecordType.PRIVATE_SALE: 'private_sale'>)\n",
      "$400,000 - $440,000  :  (420000.0, None)\n",
      "$400,000 - $440,000 Auction  :  (420000.0, <RecordType.AUCTION: 'auction'>)\n",
      "Auction  :  (None, <RecordType.AUCTION: 'auction'>)\n",
      "Contact  :  (None, <RecordType.ENQUIRY: 'enquiry'>)\n",
      "Auction  :  (None, <RecordType.AUCTION: 'auction'>)\n",
      "$480,000 - $520,000  :  (500000.0, None)\n",
      "$480,000 - $520,000 Auction  :  (500000.0, <RecordType.AUCTION: 'auction'>)\n",
      "Contact  :  (None, <RecordType.ENQUIRY: 'enquiry'>)\n",
      "$625,000  :  (625000.0, None)\n",
      "$649,950  :  (649950.0, None)\n",
      "$649,950  :  (649950.0, None)\n",
      "Contact  :  (None, <RecordType.ENQUIRY: 'enquiry'>)\n",
      "$670,000  :  (670000.0, None)\n",
      "$625,000  :  (625000.0, None)\n",
      "$490,000 Private Sale  :  (490000.0, <RecordType.PRIVATE_SALE: 'private_sale'>)\n",
      "$575,000  :  (575000.0, None)\n",
      "$585,000  :  (585000.0, None)\n",
      "$702,000  :  (702000.0, None)\n",
      "$460,000 - $500,000 Auction  :  (480000.0, <RecordType.AUCTION: 'auction'>)\n",
      "$460,000 - $500,000  :  (480000.0, None)\n",
      "Auction  :  (None, <RecordType.AUCTION: 'auction'>)\n",
      "Contact  :  (None, <RecordType.ENQUIRY: 'enquiry'>)\n",
      "$540,000 - $580,000  :  (560000.0, None)\n",
      "Auction  :  (None, <RecordType.AUCTION: 'auction'>)\n",
      "$480,000  :  (480000.0, None)\n",
      "$465,000 Private Sale  :  (465000.0, <RecordType.PRIVATE_SALE: 'private_sale'>)\n",
      "$440,000 - $480,000  :  (460000.0, None)\n",
      "$300,000 In excess of  :  (300000.0, <RecordType.ENQUIRY: 'enquiry'>)\n",
      "$450,000 - $490,000 Auction  :  (470000.0, <RecordType.AUCTION: 'auction'>)\n",
      "Auction  :  (None, <RecordType.AUCTION: 'auction'>)\n",
      "$450,000 - $490,000  :  (470000.0, None)\n",
      "$410,000 - $450,000  :  (430000.0, None)\n",
      "Private Sale  :  (None, <RecordType.PRIVATE_SALE: 'private_sale'>)\n",
      "$539,000 Private Sale  :  (539000.0, <RecordType.PRIVATE_SALE: 'private_sale'>)\n",
      "$539,000 Private Sale  :  (539000.0, <RecordType.PRIVATE_SALE: 'private_sale'>)\n",
      "$445,000 - $465,000 Private Sale  :  (455000.0, <RecordType.PRIVATE_SALE: 'private_sale'>)\n",
      "$488,000 Private Sale  :  (488000.0, <RecordType.PRIVATE_SALE: 'private_sale'>)\n",
      "$420,000 - $460,000  :  (440000.0, None)\n",
      "Auction  :  (None, <RecordType.AUCTION: 'auction'>)\n",
      "$390,000 - $420,000  :  (405000.0, None)\n",
      "$400,000 - $440,000  :  (420000.0, None)\n",
      "$400,000 - $440,000  :  (420000.0, None)\n",
      "$639,000  :  (639000.0, None)\n",
      "$639,000  :  (639000.0, None)\n",
      "$620,000 Private Sale  :  (620000.0, <RecordType.PRIVATE_SALE: 'private_sale'>)\n",
      "$620,000 Private Sale  :  (620000.0, <RecordType.PRIVATE_SALE: 'private_sale'>)\n",
      "$410,000  :  (410000.0, None)\n",
      "$435,000 Private Sale  :  (435000.0, <RecordType.PRIVATE_SALE: 'private_sale'>)\n",
      "Auction  :  (None, <RecordType.AUCTION: 'auction'>)\n",
      "$479,000  :  (479000.0, None)\n",
      "$520,000  :  (520000.0, None)\n"
     ]
    }
   ],
   "source": [
    "def clean_market_info(price_info) -> tuple[float | None, RecordType | None]:\n",
    "    record_type = parse_record_type(price_info)\n",
    "    price = parse_price(price_info)\n",
    "\n",
    "    return price, record_type\n",
    "\n",
    "\n",
    "for price_info in list_of_historical_prices:\n",
    "    print(price_info, \" : \", clean_market_info(price_info))"
   ]
  },
  {
   "cell_type": "code",
   "execution_count": null,
   "metadata": {},
   "outputs": [
    {
     "data": {
      "text/plain": [
       "{'general_info': {'address': '3/27 HAROLD STREET, ASCOT VALE',\n",
       "  'bed': '2',\n",
       "  'bath': '1',\n",
       "  'car': '1',\n",
       "  'type': 'Unit/apmt'},\n",
       " 'recent_price': {'date': ' June 2018', 'price': 0, 'type': '$492,000'},\n",
       " 'historical_prices': [{'date': 'June 2018', 'price': 0, 'type': '$492,000'},\n",
       "  {'date': 'June 2018', 'price': 0, 'type': 'Auction'},\n",
       "  {'date': 'June 2018', 'price': 0, 'type': '$440,000 - $480,000'},\n",
       "  {'date': 'February 2015', 'price': 0, 'type': '$455,000'},\n",
       "  {'date': 'July 2012', 'price': 0, 'type': '$410,000 Price Guide'},\n",
       "  {'date': 'June 2012', 'price': 0, 'type': '$415,000'},\n",
       "  {'date': 'August 2012', 'price': 0, 'type': '$415,000'}]}"
      ]
     },
     "execution_count": 14,
     "metadata": {},
     "output_type": "execute_result"
    }
   ],
   "source": [
    "extracted_data[5]"
   ]
  },
  {
   "cell_type": "code",
   "execution_count": null,
   "metadata": {},
   "outputs": [
    {
     "ename": "NotImplementedError",
     "evalue": "Cannot parse address for 'australia'",
     "output_type": "error",
     "traceback": [
      "\u001b[0;31m---------------------------------------------------------------------------\u001b[0m",
      "\u001b[0;31mNotImplementedError\u001b[0m                       Traceback (most recent call last)",
      "Cell \u001b[0;32mIn[15], line 3\u001b[0m\n\u001b[1;32m      1\u001b[0m \u001b[38;5;28;01mfrom\u001b[39;00m \u001b[38;5;21;01mproperty_models\u001b[39;00m\u001b[38;5;21;01m.\u001b[39;00m\u001b[38;5;21;01mmodels\u001b[39;00m \u001b[38;5;28;01mimport\u001b[39;00m Address\n\u001b[0;32m----> 3\u001b[0m \u001b[43mAddress\u001b[49m\u001b[38;5;241;43m.\u001b[39;49m\u001b[43mparse\u001b[49m\u001b[43m(\u001b[49m\u001b[43mextracted_data\u001b[49m\u001b[43m[\u001b[49m\u001b[38;5;241;43m5\u001b[39;49m\u001b[43m]\u001b[49m\u001b[43m[\u001b[49m\u001b[38;5;124;43m\"\u001b[39;49m\u001b[38;5;124;43mgeneral_info\u001b[39;49m\u001b[38;5;124;43m\"\u001b[39;49m\u001b[43m]\u001b[49m\u001b[43m[\u001b[49m\u001b[38;5;124;43m\"\u001b[39;49m\u001b[38;5;124;43maddress\u001b[39;49m\u001b[38;5;124;43m\"\u001b[39;49m\u001b[43m]\u001b[49m\u001b[43m \u001b[49m\u001b[38;5;241;43m+\u001b[39;49m\u001b[43m \u001b[49m\u001b[38;5;124;43m\"\u001b[39;49m\u001b[38;5;124;43m, VIC 3032\u001b[39;49m\u001b[38;5;124;43m\"\u001b[39;49m\u001b[43m,\u001b[49m\u001b[43m \u001b[49m\u001b[43mcountry\u001b[49m\u001b[38;5;241;43m=\u001b[39;49m\u001b[38;5;124;43m\"\u001b[39;49m\u001b[38;5;124;43maustralia\u001b[39;49m\u001b[38;5;124;43m\"\u001b[39;49m\u001b[43m)\u001b[49m\n",
      "File \u001b[0;32m~/git/private/property_models/property_models/models.py:90\u001b[0m, in \u001b[0;36mAddress.parse\u001b[0;34m(cls, address, country)\u001b[0m\n\u001b[1;32m     87\u001b[0m         address_object \u001b[38;5;241m=\u001b[39m \u001b[38;5;28mcls\u001b[39m\u001b[38;5;241m.\u001b[39m_parse_australian_address(address)\n\u001b[1;32m     89\u001b[0m     \u001b[38;5;28;01mcase\u001b[39;00m\u001b[38;5;250m \u001b[39m\u001b[38;5;28;01m_\u001b[39;00m:\n\u001b[0;32m---> 90\u001b[0m         \u001b[38;5;28;01mraise\u001b[39;00m \u001b[38;5;167;01mNotImplementedError\u001b[39;00m(\u001b[38;5;124mf\u001b[39m\u001b[38;5;124m\"\u001b[39m\u001b[38;5;124mCannot parse address for \u001b[39m\u001b[38;5;132;01m{\u001b[39;00mcountry\u001b[38;5;132;01m!r}\u001b[39;00m\u001b[38;5;124m\"\u001b[39m)\n\u001b[1;32m     92\u001b[0m \u001b[38;5;28;01mreturn\u001b[39;00m address_object\n",
      "\u001b[0;31mNotImplementedError\u001b[0m: Cannot parse address for 'australia'"
     ]
    }
   ],
   "source": [
    "from property_models.models import Address\n",
    "\n",
    "Address.parse(extracted_data[5][\"general_info\"][\"address\"] + \", VIC 3032\", country=\"australia\")"
   ]
  },
  {
   "cell_type": "code",
   "execution_count": null,
   "metadata": {},
   "outputs": [],
   "source": []
  }
 ],
 "metadata": {
  "kernelspec": {
   "display_name": "Python 3",
   "language": "python",
   "name": "python3"
  },
  "language_info": {
   "codemirror_mode": {
    "name": "ipython",
    "version": 3
   },
   "file_extension": ".py",
   "mimetype": "text/x-python",
   "name": "python",
   "nbconvert_exporter": "python",
   "pygments_lexer": "ipython3",
   "version": "3.13.0"
  }
 },
 "nbformat": 4,
 "nbformat_minor": 2
}
