{
 "cells": [
  {
   "cell_type": "code",
   "execution_count": 1,
   "metadata": {},
   "outputs": [],
   "source": [
    "import selenium.webdriver\n",
    "from selenium.webdriver.common.by import By\n",
    "\n",
    "driver = selenium.webdriver.Chrome()"
   ]
  },
  {
   "cell_type": "code",
   "execution_count": 2,
   "metadata": {},
   "outputs": [],
   "source": [
    "site = \"https://www.oldlistings.com.au/real-estate/VIC/Ascot+Vale/3032/buy/3/:bed:2:bedmax:2:bath:1:car:1:cat:Apartment\"\n",
    "driver.get(site)"
   ]
  },
  {
   "cell_type": "code",
   "execution_count": 3,
   "metadata": {},
   "outputs": [
    {
     "data": {
      "text/plain": [
       "<selenium.webdriver.remote.webelement.WebElement (session=\"9e0cd225d4522056295623bb7c8b55f8\", element=\"f.E3C81D7EE853A12B3A516058DFF30C9C.d.DA30607D5F904C4DFC7A4C7683D133EE.e.83\")>"
      ]
     },
     "execution_count": 3,
     "metadata": {},
     "output_type": "execute_result"
    }
   ],
   "source": [
    "table = driver.find_elements(By.CLASS_NAME, \"content-col\")[0]\n",
    "table"
   ]
  },
  {
   "cell_type": "code",
   "execution_count": 4,
   "metadata": {},
   "outputs": [
    {
     "data": {
      "text/plain": [
       "[<selenium.webdriver.remote.webelement.WebElement (session=\"9e0cd225d4522056295623bb7c8b55f8\", element=\"f.E3C81D7EE853A12B3A516058DFF30C9C.d.DA30607D5F904C4DFC7A4C7683D133EE.e.84\")>,\n",
       " <selenium.webdriver.remote.webelement.WebElement (session=\"9e0cd225d4522056295623bb7c8b55f8\", element=\"f.E3C81D7EE853A12B3A516058DFF30C9C.d.DA30607D5F904C4DFC7A4C7683D133EE.e.81\")>,\n",
       " <selenium.webdriver.remote.webelement.WebElement (session=\"9e0cd225d4522056295623bb7c8b55f8\", element=\"f.E3C81D7EE853A12B3A516058DFF30C9C.d.DA30607D5F904C4DFC7A4C7683D133EE.e.85\")>,\n",
       " <selenium.webdriver.remote.webelement.WebElement (session=\"9e0cd225d4522056295623bb7c8b55f8\", element=\"f.E3C81D7EE853A12B3A516058DFF30C9C.d.DA30607D5F904C4DFC7A4C7683D133EE.e.86\")>,\n",
       " <selenium.webdriver.remote.webelement.WebElement (session=\"9e0cd225d4522056295623bb7c8b55f8\", element=\"f.E3C81D7EE853A12B3A516058DFF30C9C.d.DA30607D5F904C4DFC7A4C7683D133EE.e.87\")>,\n",
       " <selenium.webdriver.remote.webelement.WebElement (session=\"9e0cd225d4522056295623bb7c8b55f8\", element=\"f.E3C81D7EE853A12B3A516058DFF30C9C.d.DA30607D5F904C4DFC7A4C7683D133EE.e.88\")>,\n",
       " <selenium.webdriver.remote.webelement.WebElement (session=\"9e0cd225d4522056295623bb7c8b55f8\", element=\"f.E3C81D7EE853A12B3A516058DFF30C9C.d.DA30607D5F904C4DFC7A4C7683D133EE.e.89\")>,\n",
       " <selenium.webdriver.remote.webelement.WebElement (session=\"9e0cd225d4522056295623bb7c8b55f8\", element=\"f.E3C81D7EE853A12B3A516058DFF30C9C.d.DA30607D5F904C4DFC7A4C7683D133EE.e.90\")>,\n",
       " <selenium.webdriver.remote.webelement.WebElement (session=\"9e0cd225d4522056295623bb7c8b55f8\", element=\"f.E3C81D7EE853A12B3A516058DFF30C9C.d.DA30607D5F904C4DFC7A4C7683D133EE.e.91\")>,\n",
       " <selenium.webdriver.remote.webelement.WebElement (session=\"9e0cd225d4522056295623bb7c8b55f8\", element=\"f.E3C81D7EE853A12B3A516058DFF30C9C.d.DA30607D5F904C4DFC7A4C7683D133EE.e.92\")>,\n",
       " <selenium.webdriver.remote.webelement.WebElement (session=\"9e0cd225d4522056295623bb7c8b55f8\", element=\"f.E3C81D7EE853A12B3A516058DFF30C9C.d.DA30607D5F904C4DFC7A4C7683D133EE.e.93\")>,\n",
       " <selenium.webdriver.remote.webelement.WebElement (session=\"9e0cd225d4522056295623bb7c8b55f8\", element=\"f.E3C81D7EE853A12B3A516058DFF30C9C.d.DA30607D5F904C4DFC7A4C7683D133EE.e.94\")>,\n",
       " <selenium.webdriver.remote.webelement.WebElement (session=\"9e0cd225d4522056295623bb7c8b55f8\", element=\"f.E3C81D7EE853A12B3A516058DFF30C9C.d.DA30607D5F904C4DFC7A4C7683D133EE.e.95\")>,\n",
       " <selenium.webdriver.remote.webelement.WebElement (session=\"9e0cd225d4522056295623bb7c8b55f8\", element=\"f.E3C81D7EE853A12B3A516058DFF30C9C.d.DA30607D5F904C4DFC7A4C7683D133EE.e.96\")>,\n",
       " <selenium.webdriver.remote.webelement.WebElement (session=\"9e0cd225d4522056295623bb7c8b55f8\", element=\"f.E3C81D7EE853A12B3A516058DFF30C9C.d.DA30607D5F904C4DFC7A4C7683D133EE.e.97\")>,\n",
       " <selenium.webdriver.remote.webelement.WebElement (session=\"9e0cd225d4522056295623bb7c8b55f8\", element=\"f.E3C81D7EE853A12B3A516058DFF30C9C.d.DA30607D5F904C4DFC7A4C7683D133EE.e.98\")>,\n",
       " <selenium.webdriver.remote.webelement.WebElement (session=\"9e0cd225d4522056295623bb7c8b55f8\", element=\"f.E3C81D7EE853A12B3A516058DFF30C9C.d.DA30607D5F904C4DFC7A4C7683D133EE.e.99\")>,\n",
       " <selenium.webdriver.remote.webelement.WebElement (session=\"9e0cd225d4522056295623bb7c8b55f8\", element=\"f.E3C81D7EE853A12B3A516058DFF30C9C.d.DA30607D5F904C4DFC7A4C7683D133EE.e.100\")>,\n",
       " <selenium.webdriver.remote.webelement.WebElement (session=\"9e0cd225d4522056295623bb7c8b55f8\", element=\"f.E3C81D7EE853A12B3A516058DFF30C9C.d.DA30607D5F904C4DFC7A4C7683D133EE.e.101\")>,\n",
       " <selenium.webdriver.remote.webelement.WebElement (session=\"9e0cd225d4522056295623bb7c8b55f8\", element=\"f.E3C81D7EE853A12B3A516058DFF30C9C.d.DA30607D5F904C4DFC7A4C7683D133EE.e.102\")>,\n",
       " <selenium.webdriver.remote.webelement.WebElement (session=\"9e0cd225d4522056295623bb7c8b55f8\", element=\"f.E3C81D7EE853A12B3A516058DFF30C9C.d.DA30607D5F904C4DFC7A4C7683D133EE.e.103\")>,\n",
       " <selenium.webdriver.remote.webelement.WebElement (session=\"9e0cd225d4522056295623bb7c8b55f8\", element=\"f.E3C81D7EE853A12B3A516058DFF30C9C.d.DA30607D5F904C4DFC7A4C7683D133EE.e.104\")>,\n",
       " <selenium.webdriver.remote.webelement.WebElement (session=\"9e0cd225d4522056295623bb7c8b55f8\", element=\"f.E3C81D7EE853A12B3A516058DFF30C9C.d.DA30607D5F904C4DFC7A4C7683D133EE.e.105\")>,\n",
       " <selenium.webdriver.remote.webelement.WebElement (session=\"9e0cd225d4522056295623bb7c8b55f8\", element=\"f.E3C81D7EE853A12B3A516058DFF30C9C.d.DA30607D5F904C4DFC7A4C7683D133EE.e.106\")>,\n",
       " <selenium.webdriver.remote.webelement.WebElement (session=\"9e0cd225d4522056295623bb7c8b55f8\", element=\"f.E3C81D7EE853A12B3A516058DFF30C9C.d.DA30607D5F904C4DFC7A4C7683D133EE.e.107\")>,\n",
       " <selenium.webdriver.remote.webelement.WebElement (session=\"9e0cd225d4522056295623bb7c8b55f8\", element=\"f.E3C81D7EE853A12B3A516058DFF30C9C.d.DA30607D5F904C4DFC7A4C7683D133EE.e.108\")>,\n",
       " <selenium.webdriver.remote.webelement.WebElement (session=\"9e0cd225d4522056295623bb7c8b55f8\", element=\"f.E3C81D7EE853A12B3A516058DFF30C9C.d.DA30607D5F904C4DFC7A4C7683D133EE.e.109\")>,\n",
       " <selenium.webdriver.remote.webelement.WebElement (session=\"9e0cd225d4522056295623bb7c8b55f8\", element=\"f.E3C81D7EE853A12B3A516058DFF30C9C.d.DA30607D5F904C4DFC7A4C7683D133EE.e.110\")>,\n",
       " <selenium.webdriver.remote.webelement.WebElement (session=\"9e0cd225d4522056295623bb7c8b55f8\", element=\"f.E3C81D7EE853A12B3A516058DFF30C9C.d.DA30607D5F904C4DFC7A4C7683D133EE.e.111\")>,\n",
       " <selenium.webdriver.remote.webelement.WebElement (session=\"9e0cd225d4522056295623bb7c8b55f8\", element=\"f.E3C81D7EE853A12B3A516058DFF30C9C.d.DA30607D5F904C4DFC7A4C7683D133EE.e.112\")>,\n",
       " <selenium.webdriver.remote.webelement.WebElement (session=\"9e0cd225d4522056295623bb7c8b55f8\", element=\"f.E3C81D7EE853A12B3A516058DFF30C9C.d.DA30607D5F904C4DFC7A4C7683D133EE.e.113\")>,\n",
       " <selenium.webdriver.remote.webelement.WebElement (session=\"9e0cd225d4522056295623bb7c8b55f8\", element=\"f.E3C81D7EE853A12B3A516058DFF30C9C.d.DA30607D5F904C4DFC7A4C7683D133EE.e.114\")>,\n",
       " <selenium.webdriver.remote.webelement.WebElement (session=\"9e0cd225d4522056295623bb7c8b55f8\", element=\"f.E3C81D7EE853A12B3A516058DFF30C9C.d.DA30607D5F904C4DFC7A4C7683D133EE.e.115\")>,\n",
       " <selenium.webdriver.remote.webelement.WebElement (session=\"9e0cd225d4522056295623bb7c8b55f8\", element=\"f.E3C81D7EE853A12B3A516058DFF30C9C.d.DA30607D5F904C4DFC7A4C7683D133EE.e.116\")>,\n",
       " <selenium.webdriver.remote.webelement.WebElement (session=\"9e0cd225d4522056295623bb7c8b55f8\", element=\"f.E3C81D7EE853A12B3A516058DFF30C9C.d.DA30607D5F904C4DFC7A4C7683D133EE.e.117\")>,\n",
       " <selenium.webdriver.remote.webelement.WebElement (session=\"9e0cd225d4522056295623bb7c8b55f8\", element=\"f.E3C81D7EE853A12B3A516058DFF30C9C.d.DA30607D5F904C4DFC7A4C7683D133EE.e.118\")>,\n",
       " <selenium.webdriver.remote.webelement.WebElement (session=\"9e0cd225d4522056295623bb7c8b55f8\", element=\"f.E3C81D7EE853A12B3A516058DFF30C9C.d.DA30607D5F904C4DFC7A4C7683D133EE.e.119\")>,\n",
       " <selenium.webdriver.remote.webelement.WebElement (session=\"9e0cd225d4522056295623bb7c8b55f8\", element=\"f.E3C81D7EE853A12B3A516058DFF30C9C.d.DA30607D5F904C4DFC7A4C7683D133EE.e.120\")>,\n",
       " <selenium.webdriver.remote.webelement.WebElement (session=\"9e0cd225d4522056295623bb7c8b55f8\", element=\"f.E3C81D7EE853A12B3A516058DFF30C9C.d.DA30607D5F904C4DFC7A4C7683D133EE.e.121\")>,\n",
       " <selenium.webdriver.remote.webelement.WebElement (session=\"9e0cd225d4522056295623bb7c8b55f8\", element=\"f.E3C81D7EE853A12B3A516058DFF30C9C.d.DA30607D5F904C4DFC7A4C7683D133EE.e.122\")>,\n",
       " <selenium.webdriver.remote.webelement.WebElement (session=\"9e0cd225d4522056295623bb7c8b55f8\", element=\"f.E3C81D7EE853A12B3A516058DFF30C9C.d.DA30607D5F904C4DFC7A4C7683D133EE.e.123\")>,\n",
       " <selenium.webdriver.remote.webelement.WebElement (session=\"9e0cd225d4522056295623bb7c8b55f8\", element=\"f.E3C81D7EE853A12B3A516058DFF30C9C.d.DA30607D5F904C4DFC7A4C7683D133EE.e.124\")>,\n",
       " <selenium.webdriver.remote.webelement.WebElement (session=\"9e0cd225d4522056295623bb7c8b55f8\", element=\"f.E3C81D7EE853A12B3A516058DFF30C9C.d.DA30607D5F904C4DFC7A4C7683D133EE.e.125\")>,\n",
       " <selenium.webdriver.remote.webelement.WebElement (session=\"9e0cd225d4522056295623bb7c8b55f8\", element=\"f.E3C81D7EE853A12B3A516058DFF30C9C.d.DA30607D5F904C4DFC7A4C7683D133EE.e.126\")>,\n",
       " <selenium.webdriver.remote.webelement.WebElement (session=\"9e0cd225d4522056295623bb7c8b55f8\", element=\"f.E3C81D7EE853A12B3A516058DFF30C9C.d.DA30607D5F904C4DFC7A4C7683D133EE.e.127\")>,\n",
       " <selenium.webdriver.remote.webelement.WebElement (session=\"9e0cd225d4522056295623bb7c8b55f8\", element=\"f.E3C81D7EE853A12B3A516058DFF30C9C.d.DA30607D5F904C4DFC7A4C7683D133EE.e.128\")>,\n",
       " <selenium.webdriver.remote.webelement.WebElement (session=\"9e0cd225d4522056295623bb7c8b55f8\", element=\"f.E3C81D7EE853A12B3A516058DFF30C9C.d.DA30607D5F904C4DFC7A4C7683D133EE.e.129\")>,\n",
       " <selenium.webdriver.remote.webelement.WebElement (session=\"9e0cd225d4522056295623bb7c8b55f8\", element=\"f.E3C81D7EE853A12B3A516058DFF30C9C.d.DA30607D5F904C4DFC7A4C7683D133EE.e.130\")>,\n",
       " <selenium.webdriver.remote.webelement.WebElement (session=\"9e0cd225d4522056295623bb7c8b55f8\", element=\"f.E3C81D7EE853A12B3A516058DFF30C9C.d.DA30607D5F904C4DFC7A4C7683D133EE.e.131\")>,\n",
       " <selenium.webdriver.remote.webelement.WebElement (session=\"9e0cd225d4522056295623bb7c8b55f8\", element=\"f.E3C81D7EE853A12B3A516058DFF30C9C.d.DA30607D5F904C4DFC7A4C7683D133EE.e.132\")>]"
      ]
     },
     "execution_count": 4,
     "metadata": {},
     "output_type": "execute_result"
    }
   ],
   "source": [
    "listings = table.find_elements(By.TAG_NAME, \"div\")\n",
    "listings"
   ]
  },
  {
   "cell_type": "code",
   "execution_count": 5,
   "metadata": {},
   "outputs": [
    {
     "name": "stdout",
     "output_type": "stream",
     "text": [
      "4/6 ORMOND ROAD, ASCOT VALE\n",
      " January 2019 $495,000\n",
      "2 1 1 Unit/apmt\n"
     ]
    }
   ],
   "source": [
    "listing = listings[0]\n",
    "\n",
    "\n",
    "def print_info(listing):\n",
    "    address = \"\"\n",
    "    try:\n",
    "        info = listing.find_element(By.TAG_NAME, \"section\").find_elements(By.TAG_NAME, \"section\")\n",
    "\n",
    "        date = info[1].find_element(By.TAG_NAME, \"span\").text.split(\":\")[-1]\n",
    "        price = info[1].find_element(By.TAG_NAME, \"h3\").text.split(\" \")[0]\n",
    "\n",
    "        address = info[0].find_element(By.TAG_NAME, \"h2\").text\n",
    "        bed = info[0].find_element(By.CLASS_NAME, \"bed\").text\n",
    "        bath = info[0].find_element(By.CLASS_NAME, \"bath\").text\n",
    "        car = info[0].find_element(By.CLASS_NAME, \"car\").text\n",
    "        type = info[0].find_element(By.CLASS_NAME, \"type\").text\n",
    "\n",
    "        print(address)\n",
    "        print(date, price)\n",
    "        print(bed, bath, car, type)\n",
    "    except:\n",
    "        print(address, \"FAILED\")\n",
    "\n",
    "\n",
    "print_info(listing)"
   ]
  },
  {
   "cell_type": "code",
   "execution_count": 6,
   "metadata": {},
   "outputs": [
    {
     "name": "stdout",
     "output_type": "stream",
     "text": [
      "4/6 ORMOND ROAD, ASCOT VALE\n",
      " January 2019 $495,000\n",
      "2 1 1 Unit/apmt\n",
      "11/37 ASCOT VALE RD, ASCOT VALE\n",
      " October 2018 $440\n",
      "2 1 1 Unit/apmt\n",
      "7/1 LANGS ROAD, ASCOT VALE\n",
      " September 2018 $430,000\n",
      "2 1 1 Unit/apmt\n",
      "4/52 MUNRO STREET, ASCOT VALE\n",
      " July 2018 By\n",
      "2 1 1 Apartment\n",
      "3/27 HAROLD STREET, ASCOT VALE\n",
      " June 2018 $492,000\n",
      "2 1 1 Unit/apmt\n",
      "7/67 ROSEBERRY STREET, ASCOT VALE\n",
      " May 2018 $350\n",
      "2 1 1 Unit/apmt\n",
      "112/8 BURROWES STREET, ASCOT VALE\n",
      " May 2018 Private\n",
      "2 2 1 Unit/apmt\n",
      "212/8 BURROWES, ASCOT VALE\n",
      " April 2018 $480,000\n",
      "2 2 1 Unit/apmt\n",
      " FAILED\n",
      " FAILED\n",
      "B111 / 26 LEONARD CRESENT, ASCOT VALE\n",
      " February 2018 $625,000\n",
      "2 2 1 Unit/apmt\n",
      "B111, 26 LEONARD CRESENT, ASCOT VALE\n",
      " February 2018 $625,000\n",
      "2 2 1 Unit/apmt\n",
      "6/75 FENTON STREET, ASCOT VALE\n",
      " January 2018 $490,000\n",
      "2 1 1 Unit/apmt\n",
      "101/22-26 LEONARD CRESCENT, ASCOT VALE\n",
      " August 2018 $575,000\n",
      "2 2 1 Unit/apmt\n",
      "135-137 UNION ROAD, ASCOT VALE\n",
      " November 2018 $702,000\n",
      "2 2 1 Unit/apmt\n",
      "20/157 EPSOM ROAD, ASCOT VALE\n",
      " October 2018 $460,000\n",
      "2 1 2 Unit/apmt\n",
      "1/27 EPSOM ROAD, ASCOT VALE\n",
      " August 2018 $540,000\n",
      "2 1 1 Unit/apmt\n",
      "1/42 THE PARADE, ASCOT VALE\n",
      " July 2018 $450,000\n",
      "2 1 1 Unit/apmt\n",
      " FAILED\n",
      " FAILED\n",
      "6/1-7 SANDOWN ROAD, ASCOT VALE\n",
      " March 2018 $410,000\n",
      "2 1 1 Unit/apmt\n",
      " FAILED\n",
      "G07/1 LANGS ROAD, ASCOT VALE\n",
      " November 2017 Private\n",
      "2 1 1 Unit/apmt\n",
      " FAILED\n",
      "113/8 BURROWES STREET, ASCOT VALE\n",
      " November 2017 $539,000\n",
      "2 2 1 Unit/apmt\n",
      " FAILED\n",
      " FAILED\n",
      " FAILED\n",
      " FAILED\n",
      " FAILED\n",
      " FAILED\n",
      " FAILED\n",
      " FAILED\n",
      "13/93 UNION ROAD, ASCOT VALE\n",
      " January 2017 $488,000\n",
      "2 1 1 Unit/apmt\n",
      "9/6 ORMOND ROAD, ASCOT VALE\n",
      " November 2017 $420,000\n",
      "2 1 2 Unit/apmt\n",
      "1/165 KENT STREET, ASCOT VALE\n",
      " October 2017 $400,000\n",
      "2 1 1 Unit/apmt\n",
      " FAILED\n",
      " FAILED\n",
      " FAILED\n",
      " FAILED\n",
      "3/43 HURTLE STREET, ASCOT VALE\n",
      " November 2016 $639,000\n",
      "2 1 1 Unit/apmt\n",
      " FAILED\n",
      " FAILED\n",
      "6/17 GEDDES STREET, ASCOT VALE\n",
      " June 2016 $620,000\n",
      "2 1 2 Unit/apmt\n",
      "15 / 97-99 EPSOM ROAD, ASCOT VALE\n",
      " May 2016 $410,000\n",
      "2 1 1 Unit/apmt\n",
      " FAILED\n",
      "8/157 EPSOM ROAD, ASCOT VALE\n",
      " April 2016 $435,000\n",
      "2 1 2 Unit/apmt\n",
      "LOT A / 16A LEONARD CRESCENT, ASCOT VALE\n",
      " December 2016 $479,000\n",
      "2 1 1 Unit/apmt\n",
      "3/14A LEONARD CRESCENT, ASCOT VALE\n",
      " February 2016 $520,000\n",
      "2 2 1 Unit/apmt\n",
      "107/8 BURROWES STREET, ASCOT VALE\n",
      " November 2016 $470,000\n",
      "2 2 1 Unit/apmt\n"
     ]
    }
   ],
   "source": [
    "for listing in listings:\n",
    "    print_info(listing)"
   ]
  },
  {
   "cell_type": "code",
   "execution_count": null,
   "metadata": {},
   "outputs": [],
   "source": []
  }
 ],
 "metadata": {
  "kernelspec": {
   "display_name": "Python 3",
   "language": "python",
   "name": "python3"
  },
  "language_info": {
   "codemirror_mode": {
    "name": "ipython",
    "version": 3
   },
   "file_extension": ".py",
   "mimetype": "text/x-python",
   "name": "python",
   "nbconvert_exporter": "python",
   "pygments_lexer": "ipython3",
   "version": "3.13.0"
  }
 },
 "nbformat": 4,
 "nbformat_minor": 2
}
