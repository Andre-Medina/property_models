{
 "cells": [
  {
   "cell_type": "code",
   "execution_count": 1,
   "metadata": {},
   "outputs": [],
   "source": [
    "import selenium.webdriver\n",
    "from selenium.webdriver.common.by import By\n",
    "\n",
    "driver = selenium.webdriver.Chrome()"
   ]
  },
  {
   "cell_type": "code",
   "execution_count": 2,
   "metadata": {},
   "outputs": [],
   "source": [
    "site = \"https://www.domain.com.au/property-profile/1-11-owen-street-footscray-vic-3011\""
   ]
  },
  {
   "cell_type": "code",
   "execution_count": 3,
   "metadata": {},
   "outputs": [],
   "source": [
    "driver.get(site)"
   ]
  },
  {
   "cell_type": "code",
   "execution_count": 4,
   "metadata": {},
   "outputs": [],
   "source": [
    "# driver.find_element(By.TAG_NAME, \"button\")\n",
    "driver.find_element(By.CLASS_NAME, \"css-va4omk\").click()"
   ]
  },
  {
   "cell_type": "code",
   "execution_count": 5,
   "metadata": {},
   "outputs": [
    {
     "data": {
      "text/plain": [
       "['2', 'Beds', '−', '−', 'Apartment']"
      ]
     },
     "execution_count": 5,
     "metadata": {},
     "output_type": "execute_result"
    }
   ],
   "source": [
    "driver.find_element(By.CLASS_NAME, \"css-1w83v6i\").text.splitlines()"
   ]
  },
  {
   "cell_type": "code",
   "execution_count": 6,
   "metadata": {},
   "outputs": [
    {
     "data": {
      "text/plain": [
       "[<selenium.webdriver.remote.webelement.WebElement (session=\"176e1c3c07725cb9ec3a7205f1d7c7f4\", element=\"f.335C8800571D9C6C0F2B7EB7EC017C85.d.58F865329606D2D3D022746686C5780E.e.31\")>,\n",
       " <selenium.webdriver.remote.webelement.WebElement (session=\"176e1c3c07725cb9ec3a7205f1d7c7f4\", element=\"f.335C8800571D9C6C0F2B7EB7EC017C85.d.58F865329606D2D3D022746686C5780E.e.32\")>,\n",
       " <selenium.webdriver.remote.webelement.WebElement (session=\"176e1c3c07725cb9ec3a7205f1d7c7f4\", element=\"f.335C8800571D9C6C0F2B7EB7EC017C85.d.58F865329606D2D3D022746686C5780E.e.33\")>]"
      ]
     },
     "execution_count": 6,
     "metadata": {},
     "output_type": "execute_result"
    }
   ],
   "source": [
    "price_stamps = driver.find_elements(by=By.CLASS_NAME, value=\"css-16ezjtx\")\n",
    "price_stamps"
   ]
  },
  {
   "cell_type": "code",
   "execution_count": 7,
   "metadata": {},
   "outputs": [
    {
     "data": {
      "text/plain": [
       "'$370K'"
      ]
     },
     "execution_count": 7,
     "metadata": {},
     "output_type": "execute_result"
    }
   ],
   "source": [
    "driver.find_element(By.CLASS_NAME, \"css-1ibwgfq\").text\n",
    "# driver.find_element(By.CLASS_NAME, \"css-8nlvsz\").text"
   ]
  },
  {
   "cell_type": "code",
   "execution_count": 8,
   "metadata": {},
   "outputs": [
    {
     "name": "stdout",
     "output_type": "stream",
     "text": [
      "FEB, 1986 $39.2k\n",
      "FEB, 1984 $53.5k\n",
      "JUL, 1977 $40k\n"
     ]
    }
   ],
   "source": [
    "for price_stamp in price_stamps:\n",
    "    price = price_stamp.find_elements(By.TAG_NAME, \"span\")[0].text\n",
    "    date = price_stamp.find_elements(By.TAG_NAME, \"div\")[0].text.replace(\"\\n\", \", \")\n",
    "    print(date, price)"
   ]
  }
 ],
 "metadata": {
  "kernelspec": {
   "display_name": "Python 3",
   "language": "python",
   "name": "python3"
  },
  "language_info": {
   "codemirror_mode": {
    "name": "ipython",
    "version": 3
   },
   "file_extension": ".py",
   "mimetype": "text/x-python",
   "name": "python",
   "nbconvert_exporter": "python",
   "pygments_lexer": "ipython3",
   "version": "3.13.0"
  }
 },
 "nbformat": 4,
 "nbformat_minor": 2
}
