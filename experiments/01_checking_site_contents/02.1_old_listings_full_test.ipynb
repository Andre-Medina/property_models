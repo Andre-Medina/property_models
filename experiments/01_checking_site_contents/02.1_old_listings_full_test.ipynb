{
 "cells": [
  {
   "cell_type": "code",
   "execution_count": 1,
   "metadata": {},
   "outputs": [],
   "source": [
    "%load_ext autoreload\n",
    "%autoreload 2\n",
    "from property_models.aus.old_listings import OldListing"
   ]
  },
  {
   "cell_type": "code",
   "execution_count": 2,
   "metadata": {},
   "outputs": [],
   "source": [
    "driver = OldListing.start()"
   ]
  },
  {
   "cell_type": "code",
   "execution_count": 3,
   "metadata": {},
   "outputs": [
    {
     "name": "stderr",
     "output_type": "stream",
     "text": [
      "extracting raw listings: 100%|██████████| 50/50 [00:25<00:00,  1.99it/s]\n",
      "converting to data: 100%|██████████| 50/50 [00:00<00:00, 2713.00it/s]"
     ]
    },
    {
     "name": "stdout",
     "output_type": "stream",
     "text": [
      "Cannot process land: '161m / 0.04 acres'\n",
      "Converting to frames.\n"
     ]
    },
    {
     "name": "stderr",
     "output_type": "stream",
     "text": [
      "\n"
     ]
    }
   ],
   "source": [
    "data = OldListing.extract(\n",
    "    driver=driver,\n",
    "    state = \"VIC\",\n",
    "    suburb = \"ASCOT_VALE\",\n",
    "    beds = 2, \n",
    "    baths = 2,\n",
    "    cars = 1,\n",
    "    max_pages=1,\n",
    ")"
   ]
  },
  {
   "cell_type": "code",
   "execution_count": 7,
   "metadata": {},
   "outputs": [
    {
     "data": {
      "text/html": [
       "<div><style>\n",
       ".dataframe > thead > tr,\n",
       ".dataframe > tbody > tr {\n",
       "  text-align: right;\n",
       "  white-space: pre-wrap;\n",
       "}\n",
       "</style>\n",
       "<small>shape: (143, 4)</small><table border=\"1\" class=\"dataframe\"><thead><tr><th>address</th><th>date</th><th>record_type</th><th>price</th></tr><tr><td>struct[7]</td><td>date</td><td>str</td><td>u32</td></tr></thead><tbody><tr><td>{9,57,&quot;ASCOT STREET&quot;,&quot;ASCOT_VALE&quot;,3032,&quot;VIC&quot;,&quot;AUS&quot;}</td><td>2024-09-01</td><td>null</td><td>650000</td></tr><tr><td>{9,57,&quot;ASCOT STREET&quot;,&quot;ASCOT_VALE&quot;,3032,&quot;VIC&quot;,&quot;AUS&quot;}</td><td>2024-09-01</td><td>null</td><td>685000</td></tr><tr><td>{9,57,&quot;ASCOT STREET&quot;,&quot;ASCOT_VALE&quot;,3032,&quot;VIC&quot;,&quot;AUS&quot;}</td><td>2007-05-01</td><td>&quot;auction&quot;</td><td>320000</td></tr><tr><td>{213,8,&quot;BURROWES STREET&quot;,&quot;ASCOT_VALE&quot;,3032,&quot;VIC&quot;,&quot;AUS&quot;}</td><td>2024-07-01</td><td>null</td><td>null</td></tr><tr><td>{213,8,&quot;BURROWES STREET&quot;,&quot;ASCOT_VALE&quot;,3032,&quot;VIC&quot;,&quot;AUS&quot;}</td><td>2024-07-01</td><td>null</td><td>null</td></tr><tr><td>&hellip;</td><td>&hellip;</td><td>&hellip;</td><td>&hellip;</td></tr><tr><td>{null,33,&quot;FISHER PARADE&quot;,&quot;ASCOT_VALE&quot;,3032,&quot;VIC&quot;,&quot;AUS&quot;}</td><td>2024-02-01</td><td>null</td><td>990000</td></tr><tr><td>{107,1,&quot;LANGS ROAD&quot;,&quot;ASCOT_VALE&quot;,3032,&quot;VIC&quot;,&quot;AUS&quot;}</td><td>2024-02-01</td><td>null</td><td>469000</td></tr><tr><td>{107,1,&quot;LANGS ROAD&quot;,&quot;ASCOT_VALE&quot;,3032,&quot;VIC&quot;,&quot;AUS&quot;}</td><td>2024-02-01</td><td>null</td><td>469000</td></tr><tr><td>{2,12,&quot;LEONARD CRESCENT&quot;,&quot;ASCOT_VALE&quot;,3032,&quot;VIC&quot;,&quot;AUS&quot;}</td><td>2024-01-01</td><td>null</td><td>500000</td></tr><tr><td>{2,12,&quot;LEONARD CRESCENT&quot;,&quot;ASCOT_VALE&quot;,3032,&quot;VIC&quot;,&quot;AUS&quot;}</td><td>2024-01-01</td><td>null</td><td>525000</td></tr></tbody></table></div>"
      ],
      "text/plain": [
       "shape: (143, 4)\n",
       "┌─────────────────────────────────┬────────────┬─────────────┬────────┐\n",
       "│ address                         ┆ date       ┆ record_type ┆ price  │\n",
       "│ ---                             ┆ ---        ┆ ---         ┆ ---    │\n",
       "│ struct[7]                       ┆ date       ┆ str         ┆ u32    │\n",
       "╞═════════════════════════════════╪════════════╪═════════════╪════════╡\n",
       "│ {9,57,\"ASCOT STREET\",\"ASCOT_VA… ┆ 2024-09-01 ┆ null        ┆ 650000 │\n",
       "│ {9,57,\"ASCOT STREET\",\"ASCOT_VA… ┆ 2024-09-01 ┆ null        ┆ 685000 │\n",
       "│ {9,57,\"ASCOT STREET\",\"ASCOT_VA… ┆ 2007-05-01 ┆ auction     ┆ 320000 │\n",
       "│ {213,8,\"BURROWES STREET\",\"ASCO… ┆ 2024-07-01 ┆ null        ┆ null   │\n",
       "│ {213,8,\"BURROWES STREET\",\"ASCO… ┆ 2024-07-01 ┆ null        ┆ null   │\n",
       "│ …                               ┆ …          ┆ …           ┆ …      │\n",
       "│ {null,33,\"FISHER PARADE\",\"ASCO… ┆ 2024-02-01 ┆ null        ┆ 990000 │\n",
       "│ {107,1,\"LANGS ROAD\",\"ASCOT_VAL… ┆ 2024-02-01 ┆ null        ┆ 469000 │\n",
       "│ {107,1,\"LANGS ROAD\",\"ASCOT_VAL… ┆ 2024-02-01 ┆ null        ┆ 469000 │\n",
       "│ {2,12,\"LEONARD CRESCENT\",\"ASCO… ┆ 2024-01-01 ┆ null        ┆ 500000 │\n",
       "│ {2,12,\"LEONARD CRESCENT\",\"ASCO… ┆ 2024-01-01 ┆ null        ┆ 525000 │\n",
       "└─────────────────────────────────┴────────────┴─────────────┴────────┘"
      ]
     },
     "execution_count": 7,
     "metadata": {},
     "output_type": "execute_result"
    }
   ],
   "source": [
    "data[1]"
   ]
  }
 ],
 "metadata": {
  "kernelspec": {
   "display_name": "Python 3",
   "language": "python",
   "name": "python3"
  },
  "language_info": {
   "codemirror_mode": {
    "name": "ipython",
    "version": 3
   },
   "file_extension": ".py",
   "mimetype": "text/x-python",
   "name": "python",
   "nbconvert_exporter": "python",
   "pygments_lexer": "ipython3",
   "version": "3.12.7"
  }
 },
 "nbformat": 4,
 "nbformat_minor": 2
}
