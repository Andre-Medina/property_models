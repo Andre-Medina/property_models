{
 "cells": [
  {
   "cell_type": "code",
   "execution_count": 18,
   "metadata": {},
   "outputs": [
    {
     "name": "stdout",
     "output_type": "stream",
     "text": [
      "The autoreload extension is already loaded. To reload it, use:\n",
      "  %reload_ext autoreload\n"
     ]
    },
    {
     "data": {
      "text/plain": [
       "polars.config.Config"
      ]
     },
     "execution_count": 18,
     "metadata": {},
     "output_type": "execute_result"
    }
   ],
   "source": [
    "%load_ext autoreload\n",
    "%autoreload 2\n",
    "import polars as pl\n",
    "\n",
    "from property_models.aus.old_listings import OldListing\n",
    "from property_models.models import PriceRecord, PropertyInfo\n",
    "\n",
    "pl.Config.set_tbl_rows(10)"
   ]
  },
  {
   "cell_type": "code",
   "execution_count": 19,
   "metadata": {},
   "outputs": [],
   "source": [
    "driver = OldListing.start()"
   ]
  },
  {
   "cell_type": "code",
   "execution_count": 3,
   "metadata": {},
   "outputs": [
    {
     "name": "stdout",
     "output_type": "stream",
     "text": [
      "Getting page count...\n",
      "total pages: 7\n",
      "Getting data from page: 'https://www.oldlistings.com.au/real-estate/VIC/ascot+vale/3032/buy/1/:bed:2:bedmax:2:bath:2:car:1'\n",
      "Loading page...\n"
     ]
    },
    {
     "name": "stderr",
     "output_type": "stream",
     "text": [
      "extracting raw listings: 100%|██████████| 50/50 [00:16<00:00,  3.08it/s]\n",
      "converting to data: 100%|██████████| 50/50 [00:00<00:00, 2161.17it/s]\n"
     ]
    },
    {
     "name": "stdout",
     "output_type": "stream",
     "text": [
      "Converting to frames.\n",
      "Success downloading form page!\n",
      "Getting data from page: 'https://www.oldlistings.com.au/real-estate/VIC/ascot+vale/3032/buy/2/:bed:2:bedmax:2:bath:2:car:1'\n",
      "Loading page...\n"
     ]
    },
    {
     "name": "stderr",
     "output_type": "stream",
     "text": [
      "extracting raw listings: 100%|██████████| 50/50 [00:15<00:00,  3.21it/s]\n",
      "converting to data: 100%|██████████| 50/50 [00:00<00:00, 5650.72it/s]\n"
     ]
    },
    {
     "name": "stdout",
     "output_type": "stream",
     "text": [
      "Converting to frames.\n",
      "Success downloading form page!\n",
      "Getting data from page: 'https://www.oldlistings.com.au/real-estate/VIC/ascot+vale/3032/buy/3/:bed:2:bedmax:2:bath:2:car:1'\n",
      "Loading page...\n"
     ]
    },
    {
     "name": "stderr",
     "output_type": "stream",
     "text": [
      "extracting raw listings: 100%|██████████| 50/50 [00:13<00:00,  3.70it/s]\n",
      "converting to data: 100%|██████████| 50/50 [00:00<00:00, 4806.34it/s]\n"
     ]
    },
    {
     "name": "stdout",
     "output_type": "stream",
     "text": [
      "Converting to frames.\n",
      "Success downloading form page!\n",
      "Getting data from page: 'https://www.oldlistings.com.au/real-estate/VIC/ascot+vale/3032/buy/4/:bed:2:bedmax:2:bath:2:car:1'\n",
      "Loading page...\n"
     ]
    },
    {
     "name": "stderr",
     "output_type": "stream",
     "text": [
      "extracting raw listings: 100%|██████████| 50/50 [00:15<00:00,  3.25it/s]\n",
      "converting to data:   0%|          | 0/50 [00:00<?, ?it/s]Traceback (most recent call last):\n",
      "  File \"/home/andre/git/private/property_models/property_models/models.py\", line 111, in _parse_australian_address\n",
      "    parsed_address = AbAddressUtility(address_)\n",
      "                     ^^^^^^^^^^^^^^^^^^^^^^^^^^\n",
      "  File \"/home/andre/git/private/property_models/.pixi/envs/default/lib/python3.12/site-packages/au_address_parser/addr_parser.py\", line 77, in __init__\n",
      "    raise Exception('Not Valid Address Foramt')\n",
      "Exception: Not Valid Address Foramt\n",
      "\n",
      "The above exception was the direct cause of the following exception:\n",
      "\n",
      "Traceback (most recent call last):\n",
      "  File \"/home/andre/git/private/property_models/property_models/aus/old_listings/old_listings.py\", line 109, in extract_data_from_page\n",
      "    property_info = raw_listing.to_property_info()\n",
      "                    ^^^^^^^^^^^^^^^^^^^^^^^^^^^^^^\n",
      "  File \"/home/andre/git/private/property_models/property_models/aus/old_listings/constants.py\", line 95, in to_property_info\n",
      "    address=Address.parse(self.general_info.address, country=\"AUS\"),\n",
      "            ^^^^^^^^^^^^^^^^^^^^^^^^^^^^^^^^^^^^^^^^^^^^^^^^^^^^^^^\n",
      "  File \"/home/andre/git/private/property_models/property_models/models.py\", line 91, in parse\n",
      "    address_object = cls._parse_australian_address(address_cleaned)\n",
      "                     ^^^^^^^^^^^^^^^^^^^^^^^^^^^^^^^^^^^^^^^^^^^^^^\n",
      "  File \"/home/andre/git/private/property_models/property_models/models.py\", line 113, in _parse_australian_address\n",
      "    raise BadAddressError(f\"Issue with address: {address!r}\\nCleaned as: {address_!r}\") from exc\n",
      "property_models.exceptions.BadAddressError: Issue with address: '1,4,7,8/24-26 SANDOWN ROAD, ASCOT VALE, VIC 3032'\n",
      "Cleaned as: '1/4,7,8/24-26 SANDOWN ROAD, ASCOT VALE, VIC 3032'\n",
      "Traceback (most recent call last):\n",
      "  File \"/home/andre/git/private/property_models/property_models/models.py\", line 111, in _parse_australian_address\n",
      "    parsed_address = AbAddressUtility(address_)\n",
      "                     ^^^^^^^^^^^^^^^^^^^^^^^^^^\n",
      "  File \"/home/andre/git/private/property_models/.pixi/envs/default/lib/python3.12/site-packages/au_address_parser/addr_parser.py\", line 77, in __init__\n",
      "    raise Exception('Not Valid Address Foramt')\n",
      "Exception: Not Valid Address Foramt\n",
      "\n",
      "The above exception was the direct cause of the following exception:\n",
      "\n",
      "Traceback (most recent call last):\n",
      "  File \"/home/andre/git/private/property_models/property_models/aus/old_listings/old_listings.py\", line 109, in extract_data_from_page\n",
      "    property_info = raw_listing.to_property_info()\n",
      "                    ^^^^^^^^^^^^^^^^^^^^^^^^^^^^^^\n",
      "  File \"/home/andre/git/private/property_models/property_models/aus/old_listings/constants.py\", line 95, in to_property_info\n",
      "    address=Address.parse(self.general_info.address, country=\"AUS\"),\n",
      "            ^^^^^^^^^^^^^^^^^^^^^^^^^^^^^^^^^^^^^^^^^^^^^^^^^^^^^^^\n",
      "  File \"/home/andre/git/private/property_models/property_models/models.py\", line 91, in parse\n",
      "    address_object = cls._parse_australian_address(address_cleaned)\n",
      "                     ^^^^^^^^^^^^^^^^^^^^^^^^^^^^^^^^^^^^^^^^^^^^^^\n",
      "  File \"/home/andre/git/private/property_models/property_models/models.py\", line 113, in _parse_australian_address\n",
      "    raise BadAddressError(f\"Issue with address: {address!r}\\nCleaned as: {address_!r}\") from exc\n",
      "property_models.exceptions.BadAddressError: Issue with address: '1,4,7,8, 24-26 SANDOWN ROAD, ASCOT VALE, VIC 3032'\n",
      "Cleaned as: '1/4,7,8, 24-26 SANDOWN ROAD, ASCOT VALE, VIC 3032'\n",
      "Traceback (most recent call last):\n",
      "  File \"/home/andre/git/private/property_models/property_models/models.py\", line 111, in _parse_australian_address\n",
      "    parsed_address = AbAddressUtility(address_)\n",
      "                     ^^^^^^^^^^^^^^^^^^^^^^^^^^\n",
      "  File \"/home/andre/git/private/property_models/.pixi/envs/default/lib/python3.12/site-packages/au_address_parser/addr_parser.py\", line 77, in __init__\n",
      "    raise Exception('Not Valid Address Foramt')\n",
      "Exception: Not Valid Address Foramt\n",
      "\n",
      "The above exception was the direct cause of the following exception:\n",
      "\n",
      "Traceback (most recent call last):\n",
      "  File \"/home/andre/git/private/property_models/property_models/aus/old_listings/old_listings.py\", line 109, in extract_data_from_page\n",
      "    property_info = raw_listing.to_property_info()\n",
      "                    ^^^^^^^^^^^^^^^^^^^^^^^^^^^^^^\n",
      "  File \"/home/andre/git/private/property_models/property_models/aus/old_listings/constants.py\", line 95, in to_property_info\n",
      "    address=Address.parse(self.general_info.address, country=\"AUS\"),\n",
      "            ^^^^^^^^^^^^^^^^^^^^^^^^^^^^^^^^^^^^^^^^^^^^^^^^^^^^^^^\n",
      "  File \"/home/andre/git/private/property_models/property_models/models.py\", line 91, in parse\n",
      "    address_object = cls._parse_australian_address(address_cleaned)\n",
      "                     ^^^^^^^^^^^^^^^^^^^^^^^^^^^^^^^^^^^^^^^^^^^^^^\n",
      "  File \"/home/andre/git/private/property_models/property_models/models.py\", line 113, in _parse_australian_address\n",
      "    raise BadAddressError(f\"Issue with address: {address!r}\\nCleaned as: {address_!r}\") from exc\n",
      "property_models.exceptions.BadAddressError: Issue with address: 'UNIT 14, 30 LEONARD CRES, ASCOT VALE, ASCOT VALE, VIC 3032'\n",
      "Cleaned as: '14/30 LEONARD CRES, ASCOT VALE, ASCOT VALE, VIC 3032'\n",
      "converting to data: 100%|██████████| 50/50 [00:00<00:00, 2680.68it/s]\n"
     ]
    },
    {
     "name": "stdout",
     "output_type": "stream",
     "text": [
      "Converting to frames.\n",
      "Success downloading form page!\n",
      "Getting data from page: 'https://www.oldlistings.com.au/real-estate/VIC/ascot+vale/3032/buy/5/:bed:2:bedmax:2:bath:2:car:1'\n",
      "Loading page...\n"
     ]
    },
    {
     "name": "stderr",
     "output_type": "stream",
     "text": [
      "extracting raw listings: 100%|██████████| 50/50 [00:14<00:00,  3.47it/s]\n",
      "converting to data:   0%|          | 0/50 [00:00<?, ?it/s]Traceback (most recent call last):\n",
      "  File \"/home/andre/git/private/property_models/property_models/aus/old_listings/old_listings.py\", line 109, in extract_data_from_page\n",
      "    property_info = raw_listing.to_property_info()\n",
      "                    ^^^^^^^^^^^^^^^^^^^^^^^^^^^^^^\n",
      "  File \"/home/andre/git/private/property_models/property_models/aus/old_listings/constants.py\", line 102, in to_property_info\n",
      "    property_type=PropertyType.parse(self.general_info.property_type, errors=\"raise\"),\n",
      "                  ^^^^^^^^^^^^^^^^^^^^^^^^^^^^^^^^^^^^^^^^^^^^^^^^^^^^^^^^^^^^^^^^^^^\n",
      "  File \"/home/andre/git/private/property_models/property_models/constants.py\", line 294, in parse\n",
      "    raise NotImplementedError(f\"cannot process land type: {property_type_clean!r}\")\n",
      "NotImplementedError: cannot process land type: 'unit'\n",
      "Traceback (most recent call last):\n",
      "  File \"/home/andre/git/private/property_models/property_models/models.py\", line 111, in _parse_australian_address\n",
      "    parsed_address = AbAddressUtility(address_)\n",
      "                     ^^^^^^^^^^^^^^^^^^^^^^^^^^\n",
      "  File \"/home/andre/git/private/property_models/.pixi/envs/default/lib/python3.12/site-packages/au_address_parser/addr_parser.py\", line 120, in __init__\n",
      "    number_dict = re.search(\n",
      "                  ^^^^^^^^^^\n",
      "  File \"/home/andre/git/private/property_models/.pixi/envs/default/lib/python3.12/re/__init__.py\", line 177, in search\n",
      "    return _compile(pattern, flags).search(string)\n",
      "           ^^^^^^^^^^^^^^^^^^^^^^^^^^^^^^^^^^^^^^^\n",
      "TypeError: expected string or bytes-like object, got 'NoneType'\n",
      "\n",
      "The above exception was the direct cause of the following exception:\n",
      "\n",
      "Traceback (most recent call last):\n",
      "  File \"/home/andre/git/private/property_models/property_models/aus/old_listings/old_listings.py\", line 109, in extract_data_from_page\n",
      "    property_info = raw_listing.to_property_info()\n",
      "                    ^^^^^^^^^^^^^^^^^^^^^^^^^^^^^^\n",
      "  File \"/home/andre/git/private/property_models/property_models/aus/old_listings/constants.py\", line 95, in to_property_info\n",
      "    address=Address.parse(self.general_info.address, country=\"AUS\"),\n",
      "            ^^^^^^^^^^^^^^^^^^^^^^^^^^^^^^^^^^^^^^^^^^^^^^^^^^^^^^^\n",
      "  File \"/home/andre/git/private/property_models/property_models/models.py\", line 91, in parse\n",
      "    address_object = cls._parse_australian_address(address_cleaned)\n",
      "                     ^^^^^^^^^^^^^^^^^^^^^^^^^^^^^^^^^^^^^^^^^^^^^^\n",
      "  File \"/home/andre/git/private/property_models/property_models/models.py\", line 113, in _parse_australian_address\n",
      "    raise BadAddressError(f\"Issue with address: {address!r}\\nCleaned as: {address_!r}\") from exc\n",
      "property_models.exceptions.BadAddressError: Issue with address: 'ASCOT, ASCOT VALE, VIC 3032'\n",
      "Cleaned as: 'ASCOT/ASCOT VALE, VIC 3032'\n",
      "converting to data: 100%|██████████| 50/50 [00:00<00:00, 5648.74it/s]\n"
     ]
    },
    {
     "name": "stdout",
     "output_type": "stream",
     "text": [
      "Converting to frames.\n",
      "Success downloading form page!\n",
      "Getting data from page: 'https://www.oldlistings.com.au/real-estate/VIC/ascot+vale/3032/buy/6/:bed:2:bedmax:2:bath:2:car:1'\n",
      "Loading page...\n"
     ]
    },
    {
     "name": "stderr",
     "output_type": "stream",
     "text": [
      "extracting raw listings: 100%|██████████| 50/50 [00:13<00:00,  3.57it/s]\n",
      "converting to data:   0%|          | 0/50 [00:00<?, ?it/s]Traceback (most recent call last):\n",
      "  File \"/home/andre/git/private/property_models/property_models/aus/old_listings/old_listings.py\", line 109, in extract_data_from_page\n",
      "    property_info = raw_listing.to_property_info()\n",
      "                    ^^^^^^^^^^^^^^^^^^^^^^^^^^^^^^\n",
      "  File \"/home/andre/git/private/property_models/property_models/aus/old_listings/constants.py\", line 102, in to_property_info\n",
      "    property_type=PropertyType.parse(self.general_info.property_type, errors=\"raise\"),\n",
      "                  ^^^^^^^^^^^^^^^^^^^^^^^^^^^^^^^^^^^^^^^^^^^^^^^^^^^^^^^^^^^^^^^^^^^\n",
      "  File \"/home/andre/git/private/property_models/property_models/constants.py\", line 294, in parse\n",
      "    raise NotImplementedError(f\"cannot process land type: {property_type_clean!r}\")\n",
      "NotImplementedError: cannot process land type: 'unit'\n",
      "Traceback (most recent call last):\n",
      "  File \"/home/andre/git/private/property_models/property_models/models.py\", line 111, in _parse_australian_address\n",
      "    parsed_address = AbAddressUtility(address_)\n",
      "                     ^^^^^^^^^^^^^^^^^^^^^^^^^^\n",
      "  File \"/home/andre/git/private/property_models/.pixi/envs/default/lib/python3.12/site-packages/au_address_parser/addr_parser.py\", line 77, in __init__\n",
      "    raise Exception('Not Valid Address Foramt')\n",
      "Exception: Not Valid Address Foramt\n",
      "\n",
      "The above exception was the direct cause of the following exception:\n",
      "\n",
      "Traceback (most recent call last):\n",
      "  File \"/home/andre/git/private/property_models/property_models/aus/old_listings/old_listings.py\", line 109, in extract_data_from_page\n",
      "    property_info = raw_listing.to_property_info()\n",
      "                    ^^^^^^^^^^^^^^^^^^^^^^^^^^^^^^\n",
      "  File \"/home/andre/git/private/property_models/property_models/aus/old_listings/constants.py\", line 95, in to_property_info\n",
      "    address=Address.parse(self.general_info.address, country=\"AUS\"),\n",
      "            ^^^^^^^^^^^^^^^^^^^^^^^^^^^^^^^^^^^^^^^^^^^^^^^^^^^^^^^\n",
      "  File \"/home/andre/git/private/property_models/property_models/models.py\", line 91, in parse\n",
      "    address_object = cls._parse_australian_address(address_cleaned)\n",
      "                     ^^^^^^^^^^^^^^^^^^^^^^^^^^^^^^^^^^^^^^^^^^^^^^\n",
      "  File \"/home/andre/git/private/property_models/property_models/models.py\", line 113, in _parse_australian_address\n",
      "    raise BadAddressError(f\"Issue with address: {address!r}\\nCleaned as: {address_!r}\") from exc\n",
      "property_models.exceptions.BadAddressError: Issue with address: 'FROM $340,000 FOR ONE BED ROOM + ONE BATH ROOM + TERRACE/BALCONY..., ASCOT VALE, VIC 3032'\n",
      "Cleaned as: 'FROM $340,000 FOR ONE BED ROOM + ONE BATH ROOM + TERRACE/BALCONY, ASCOT VALE, VIC 3032'\n",
      "Traceback (most recent call last):\n",
      "  File \"/home/andre/git/private/property_models/property_models/aus/old_listings/old_listings.py\", line 109, in extract_data_from_page\n",
      "    property_info = raw_listing.to_property_info()\n",
      "                    ^^^^^^^^^^^^^^^^^^^^^^^^^^^^^^\n",
      "  File \"/home/andre/git/private/property_models/property_models/aus/old_listings/constants.py\", line 102, in to_property_info\n",
      "    property_type=PropertyType.parse(self.general_info.property_type, errors=\"raise\"),\n",
      "                  ^^^^^^^^^^^^^^^^^^^^^^^^^^^^^^^^^^^^^^^^^^^^^^^^^^^^^^^^^^^^^^^^^^^\n",
      "  File \"/home/andre/git/private/property_models/property_models/constants.py\", line 294, in parse\n",
      "    raise NotImplementedError(f\"cannot process land type: {property_type_clean!r}\")\n",
      "NotImplementedError: cannot process land type: 'unit'\n",
      "Traceback (most recent call last):\n",
      "  File \"/home/andre/git/private/property_models/property_models/aus/old_listings/old_listings.py\", line 109, in extract_data_from_page\n",
      "    property_info = raw_listing.to_property_info()\n",
      "                    ^^^^^^^^^^^^^^^^^^^^^^^^^^^^^^\n",
      "  File \"/home/andre/git/private/property_models/property_models/aus/old_listings/constants.py\", line 102, in to_property_info\n",
      "    property_type=PropertyType.parse(self.general_info.property_type, errors=\"raise\"),\n",
      "                  ^^^^^^^^^^^^^^^^^^^^^^^^^^^^^^^^^^^^^^^^^^^^^^^^^^^^^^^^^^^^^^^^^^^\n",
      "  File \"/home/andre/git/private/property_models/property_models/constants.py\", line 294, in parse\n",
      "    raise NotImplementedError(f\"cannot process land type: {property_type_clean!r}\")\n",
      "NotImplementedError: cannot process land type: 'commercial'\n",
      "converting to data: 100%|██████████| 50/50 [00:00<00:00, 1931.40it/s]\n"
     ]
    },
    {
     "name": "stdout",
     "output_type": "stream",
     "text": [
      "Converting to frames.\n",
      "Success downloading form page!\n",
      "Getting data from page: 'https://www.oldlistings.com.au/real-estate/VIC/ascot+vale/3032/buy/7/:bed:2:bedmax:2:bath:2:car:1'\n",
      "Loading page...\n"
     ]
    },
    {
     "name": "stderr",
     "output_type": "stream",
     "text": [
      "extracting raw listings: 100%|██████████| 49/49 [00:13<00:00,  3.67it/s]\n",
      "converting to data:   0%|          | 0/49 [00:00<?, ?it/s]Traceback (most recent call last):\n",
      "  File \"/home/andre/git/private/property_models/property_models/models.py\", line 111, in _parse_australian_address\n",
      "    parsed_address = AbAddressUtility(address_)\n",
      "                     ^^^^^^^^^^^^^^^^^^^^^^^^^^\n",
      "  File \"/home/andre/git/private/property_models/.pixi/envs/default/lib/python3.12/site-packages/au_address_parser/addr_parser.py\", line 77, in __init__\n",
      "    raise Exception('Not Valid Address Foramt')\n",
      "Exception: Not Valid Address Foramt\n",
      "\n",
      "The above exception was the direct cause of the following exception:\n",
      "\n",
      "Traceback (most recent call last):\n",
      "  File \"/home/andre/git/private/property_models/property_models/aus/old_listings/old_listings.py\", line 109, in extract_data_from_page\n",
      "    property_info = raw_listing.to_property_info()\n",
      "                    ^^^^^^^^^^^^^^^^^^^^^^^^^^^^^^\n",
      "  File \"/home/andre/git/private/property_models/property_models/aus/old_listings/constants.py\", line 95, in to_property_info\n",
      "    address=Address.parse(self.general_info.address, country=\"AUS\"),\n",
      "            ^^^^^^^^^^^^^^^^^^^^^^^^^^^^^^^^^^^^^^^^^^^^^^^^^^^^^^^\n",
      "  File \"/home/andre/git/private/property_models/property_models/models.py\", line 91, in parse\n",
      "    address_object = cls._parse_australian_address(address_cleaned)\n",
      "                     ^^^^^^^^^^^^^^^^^^^^^^^^^^^^^^^^^^^^^^^^^^^^^^\n",
      "  File \"/home/andre/git/private/property_models/property_models/models.py\", line 113, in _parse_australian_address\n",
      "    raise BadAddressError(f\"Issue with address: {address!r}\\nCleaned as: {address_!r}\") from exc\n",
      "property_models.exceptions.BadAddressError: Issue with address: '4/52-56 EPSOM ROAD, ASCOT VALE, VIC, ASCOT VALE, VIC 3032'\n",
      "Cleaned as: '4/52-56 EPSOM ROAD, ASCOT VALE, VIC, ASCOT VALE, VIC 3032'\n",
      "Traceback (most recent call last):\n",
      "  File \"/home/andre/git/private/property_models/property_models/models.py\", line 111, in _parse_australian_address\n",
      "    parsed_address = AbAddressUtility(address_)\n",
      "                     ^^^^^^^^^^^^^^^^^^^^^^^^^^\n",
      "  File \"/home/andre/git/private/property_models/.pixi/envs/default/lib/python3.12/site-packages/au_address_parser/addr_parser.py\", line 77, in __init__\n",
      "    raise Exception('Not Valid Address Foramt')\n",
      "Exception: Not Valid Address Foramt\n",
      "\n",
      "The above exception was the direct cause of the following exception:\n",
      "\n",
      "Traceback (most recent call last):\n",
      "  File \"/home/andre/git/private/property_models/property_models/aus/old_listings/old_listings.py\", line 109, in extract_data_from_page\n",
      "    property_info = raw_listing.to_property_info()\n",
      "                    ^^^^^^^^^^^^^^^^^^^^^^^^^^^^^^\n",
      "  File \"/home/andre/git/private/property_models/property_models/aus/old_listings/constants.py\", line 95, in to_property_info\n",
      "    address=Address.parse(self.general_info.address, country=\"AUS\"),\n",
      "            ^^^^^^^^^^^^^^^^^^^^^^^^^^^^^^^^^^^^^^^^^^^^^^^^^^^^^^^\n",
      "  File \"/home/andre/git/private/property_models/property_models/models.py\", line 91, in parse\n",
      "    address_object = cls._parse_australian_address(address_cleaned)\n",
      "                     ^^^^^^^^^^^^^^^^^^^^^^^^^^^^^^^^^^^^^^^^^^^^^^\n",
      "  File \"/home/andre/git/private/property_models/property_models/models.py\", line 113, in _parse_australian_address\n",
      "    raise BadAddressError(f\"Issue with address: {address!r}\\nCleaned as: {address_!r}\") from exc\n",
      "property_models.exceptions.BadAddressError: Issue with address: '14 CHARLES STREET, ASCOT VALE, VIC, ASCOT VALE, VIC 3032'\n",
      "Cleaned as: '14 CHARLES STREET, ASCOT VALE, VIC, ASCOT VALE, VIC 3032'\n",
      "Traceback (most recent call last):\n",
      "  File \"/home/andre/git/private/property_models/property_models/models.py\", line 111, in _parse_australian_address\n",
      "    parsed_address = AbAddressUtility(address_)\n",
      "                     ^^^^^^^^^^^^^^^^^^^^^^^^^^\n",
      "  File \"/home/andre/git/private/property_models/.pixi/envs/default/lib/python3.12/site-packages/au_address_parser/addr_parser.py\", line 77, in __init__\n",
      "    raise Exception('Not Valid Address Foramt')\n",
      "Exception: Not Valid Address Foramt\n",
      "\n",
      "The above exception was the direct cause of the following exception:\n",
      "\n",
      "Traceback (most recent call last):\n",
      "  File \"/home/andre/git/private/property_models/property_models/aus/old_listings/old_listings.py\", line 109, in extract_data_from_page\n",
      "    property_info = raw_listing.to_property_info()\n",
      "                    ^^^^^^^^^^^^^^^^^^^^^^^^^^^^^^\n",
      "  File \"/home/andre/git/private/property_models/property_models/aus/old_listings/constants.py\", line 95, in to_property_info\n",
      "    address=Address.parse(self.general_info.address, country=\"AUS\"),\n",
      "            ^^^^^^^^^^^^^^^^^^^^^^^^^^^^^^^^^^^^^^^^^^^^^^^^^^^^^^^\n",
      "  File \"/home/andre/git/private/property_models/property_models/models.py\", line 91, in parse\n",
      "    address_object = cls._parse_australian_address(address_cleaned)\n",
      "                     ^^^^^^^^^^^^^^^^^^^^^^^^^^^^^^^^^^^^^^^^^^^^^^\n",
      "  File \"/home/andre/git/private/property_models/property_models/models.py\", line 113, in _parse_australian_address\n",
      "    raise BadAddressError(f\"Issue with address: {address!r}\\nCleaned as: {address_!r}\") from exc\n",
      "property_models.exceptions.BadAddressError: Issue with address: 'LOT G.08, 8 BURROWES STREET, ASCOT VALE, VIC 3032'\n",
      "Cleaned as: 'LOT G08, 8 BURROWES STREET, ASCOT VALE, VIC 3032'\n",
      "Traceback (most recent call last):\n",
      "  File \"/home/andre/git/private/property_models/property_models/models.py\", line 111, in _parse_australian_address\n",
      "    parsed_address = AbAddressUtility(address_)\n",
      "                     ^^^^^^^^^^^^^^^^^^^^^^^^^^\n",
      "  File \"/home/andre/git/private/property_models/.pixi/envs/default/lib/python3.12/site-packages/au_address_parser/addr_parser.py\", line 77, in __init__\n",
      "    raise Exception('Not Valid Address Foramt')\n",
      "Exception: Not Valid Address Foramt\n",
      "\n",
      "The above exception was the direct cause of the following exception:\n",
      "\n",
      "Traceback (most recent call last):\n",
      "  File \"/home/andre/git/private/property_models/property_models/aus/old_listings/old_listings.py\", line 109, in extract_data_from_page\n",
      "    property_info = raw_listing.to_property_info()\n",
      "                    ^^^^^^^^^^^^^^^^^^^^^^^^^^^^^^\n",
      "  File \"/home/andre/git/private/property_models/property_models/aus/old_listings/constants.py\", line 95, in to_property_info\n",
      "    address=Address.parse(self.general_info.address, country=\"AUS\"),\n",
      "            ^^^^^^^^^^^^^^^^^^^^^^^^^^^^^^^^^^^^^^^^^^^^^^^^^^^^^^^\n",
      "  File \"/home/andre/git/private/property_models/property_models/models.py\", line 91, in parse\n",
      "    address_object = cls._parse_australian_address(address_cleaned)\n",
      "                     ^^^^^^^^^^^^^^^^^^^^^^^^^^^^^^^^^^^^^^^^^^^^^^\n",
      "  File \"/home/andre/git/private/property_models/property_models/models.py\", line 113, in _parse_australian_address\n",
      "    raise BadAddressError(f\"Issue with address: {address!r}\\nCleaned as: {address_!r}\") from exc\n",
      "property_models.exceptions.BadAddressError: Issue with address: '1/52-56 EPSOM ROAD, ASCOT VALE, VIC, ASCOT VALE, VIC 3032'\n",
      "Cleaned as: '1/52-56 EPSOM ROAD, ASCOT VALE, VIC, ASCOT VALE, VIC 3032'\n",
      "Traceback (most recent call last):\n",
      "  File \"/home/andre/git/private/property_models/property_models/models.py\", line 111, in _parse_australian_address\n",
      "    parsed_address = AbAddressUtility(address_)\n",
      "                     ^^^^^^^^^^^^^^^^^^^^^^^^^^\n",
      "  File \"/home/andre/git/private/property_models/.pixi/envs/default/lib/python3.12/site-packages/au_address_parser/addr_parser.py\", line 120, in __init__\n",
      "    number_dict = re.search(\n",
      "                  ^^^^^^^^^^\n",
      "  File \"/home/andre/git/private/property_models/.pixi/envs/default/lib/python3.12/re/__init__.py\", line 177, in search\n",
      "    return _compile(pattern, flags).search(string)\n",
      "           ^^^^^^^^^^^^^^^^^^^^^^^^^^^^^^^^^^^^^^^\n",
      "TypeError: expected string or bytes-like object, got 'NoneType'\n",
      "\n",
      "The above exception was the direct cause of the following exception:\n",
      "\n",
      "Traceback (most recent call last):\n",
      "  File \"/home/andre/git/private/property_models/property_models/aus/old_listings/old_listings.py\", line 109, in extract_data_from_page\n",
      "    property_info = raw_listing.to_property_info()\n",
      "                    ^^^^^^^^^^^^^^^^^^^^^^^^^^^^^^\n",
      "  File \"/home/andre/git/private/property_models/property_models/aus/old_listings/constants.py\", line 95, in to_property_info\n",
      "    address=Address.parse(self.general_info.address, country=\"AUS\"),\n",
      "            ^^^^^^^^^^^^^^^^^^^^^^^^^^^^^^^^^^^^^^^^^^^^^^^^^^^^^^^\n",
      "  File \"/home/andre/git/private/property_models/property_models/models.py\", line 91, in parse\n",
      "    address_object = cls._parse_australian_address(address_cleaned)\n",
      "                     ^^^^^^^^^^^^^^^^^^^^^^^^^^^^^^^^^^^^^^^^^^^^^^\n",
      "  File \"/home/andre/git/private/property_models/property_models/models.py\", line 113, in _parse_australian_address\n",
      "    raise BadAddressError(f\"Issue with address: {address!r}\\nCleaned as: {address_!r}\") from exc\n",
      "property_models.exceptions.BadAddressError: Issue with address: 'MT ALEXANDER RD, ASCOT VALE, VIC 3032'\n",
      "Cleaned as: 'MT ALEXANDER RD, ASCOT VALE, VIC 3032'\n",
      "converting to data: 100%|██████████| 49/49 [00:00<00:00, 3781.57it/s]"
     ]
    },
    {
     "name": "stdout",
     "output_type": "stream",
     "text": [
      "Converting to frames.\n",
      "Success downloading form page!\n"
     ]
    },
    {
     "name": "stderr",
     "output_type": "stream",
     "text": [
      "\n"
     ]
    }
   ],
   "source": [
    "property_infos, price_records = OldListing.extract(\n",
    "    driver=driver,\n",
    "    state=\"VIC\",\n",
    "    suburb=\"ASCOT_VALE\",\n",
    "    beds=2,\n",
    "    baths=2,\n",
    "    cars=1,\n",
    "    # max_pages=3,\n",
    "    # listings_per_page=15,\n",
    "    errors=\"skip\",\n",
    ")"
   ]
  },
  {
   "cell_type": "code",
   "execution_count": 20,
   "metadata": {},
   "outputs": [
    {
     "data": {
      "text/plain": [
       "polars.config.Config"
      ]
     },
     "execution_count": 20,
     "metadata": {},
     "output_type": "execute_result"
    }
   ],
   "source": [
    "pl.Config.set_tbl_rows(60)\n",
    "property_infos.select(\"address\").unnest(\"address\").sample(60)\n",
    "pl.Config.set_tbl_rows(10)"
   ]
  },
  {
   "cell_type": "code",
   "execution_count": 21,
   "metadata": {},
   "outputs": [
    {
     "data": {
      "text/html": [
       "<div><style>\n",
       ".dataframe > thead > tr,\n",
       ".dataframe > tbody > tr {\n",
       "  text-align: right;\n",
       "  white-space: pre-wrap;\n",
       "}\n",
       "</style>\n",
       "<small>shape: (109, 10)</small><table border=\"1\" class=\"dataframe\"><thead><tr><th>address</th><th>beds</th><th>baths</th><th>cars</th><th>property_size_m2</th><th>land_size_m2</th><th>condition</th><th>property_type</th><th>construction_date</th><th>floors</th></tr><tr><td>struct[7]</td><td>u8</td><td>u8</td><td>u8</td><td>f32</td><td>f32</td><td>str</td><td>list[str]</td><td>date</td><td>u8</td></tr></thead><tbody><tr><td>{null,&quot;1&quot;,&quot;ANDERSON STREET&quot;,&quot;ASCOT_VALE&quot;,3032,&quot;VIC&quot;,&quot;AUS&quot;}</td><td>2</td><td>2</td><td>2</td><td>null</td><td>null</td><td>null</td><td>null</td><td>null</td><td>null</td></tr><tr><td>{null,&quot;1&quot;,&quot;ANDERSON STREET&quot;,&quot;ASCOT_VALE&quot;,3032,&quot;VIC&quot;,&quot;AUS&quot;}</td><td>2</td><td>2</td><td>2</td><td>null</td><td>null</td><td>null</td><td>[&quot;free_standing_house&quot;, null]</td><td>null</td><td>null</td></tr><tr><td>{null,&quot;1&quot;,&quot;LANGS ROAD&quot;,&quot;ASCOT_VALE&quot;,3032,&quot;VIC&quot;,&quot;AUS&quot;}</td><td>2</td><td>2</td><td>1</td><td>null</td><td>null</td><td>null</td><td>null</td><td>null</td><td>null</td></tr><tr><td>{null,&quot;1&quot;,&quot;LANGS ROAD&quot;,&quot;ASCOT_VALE&quot;,3032,&quot;VIC&quot;,&quot;AUS&quot;}</td><td>2</td><td>2</td><td>1</td><td>null</td><td>null</td><td>null</td><td>null</td><td>null</td><td>null</td></tr><tr><td>{null,&quot;133&quot;,&quot;THE PARADE&quot;,&quot;ASCOT_VALE&quot;,3032,&quot;VIC&quot;,&quot;AUS&quot;}</td><td>2</td><td>2</td><td>2</td><td>null</td><td>500.0</td><td>null</td><td>null</td><td>null</td><td>null</td></tr><tr><td>&hellip;</td><td>&hellip;</td><td>&hellip;</td><td>&hellip;</td><td>&hellip;</td><td>&hellip;</td><td>&hellip;</td><td>&hellip;</td><td>&hellip;</td><td>&hellip;</td></tr><tr><td>{&quot;G08&quot;,&quot;8&quot;,&quot;BURROWES STREET&quot;,&quot;ASCOT_VALE&quot;,3032,&quot;VIC&quot;,&quot;AUS&quot;}</td><td>2</td><td>2</td><td>1</td><td>null</td><td>null</td><td>null</td><td>[&quot;apartment&quot;, null]</td><td>null</td><td>null</td></tr><tr><td>{&quot;G08&quot;,&quot;8&quot;,&quot;BURROWES STREET&quot;,&quot;ASCOT_VALE&quot;,3032,&quot;VIC&quot;,&quot;AUS&quot;}</td><td>2</td><td>2</td><td>1</td><td>null</td><td>null</td><td>null</td><td>[&quot;free_standing_house&quot;, null]</td><td>null</td><td>null</td></tr><tr><td>{&quot;G08&quot;,&quot;8&quot;,&quot;BURROWES STREET&quot;,&quot;ASCOT_VALE&quot;,3032,&quot;VIC&quot;,&quot;AUS&quot;}</td><td>2</td><td>2</td><td>1</td><td>null</td><td>null</td><td>null</td><td>[&quot;apartment&quot;, null]</td><td>null</td><td>null</td></tr><tr><td>{&quot;TH5&quot;,&quot;54&quot;,&quot;ST LEONARDS ROAD&quot;,&quot;ASCOT_VALE&quot;,3032,&quot;VIC&quot;,&quot;AUS&quot;}</td><td>2</td><td>2</td><td>1</td><td>null</td><td>null</td><td>null</td><td>[&quot;town_house&quot;, null]</td><td>null</td><td>null</td></tr><tr><td>{&quot;TH5&quot;,&quot;54&quot;,&quot;ST LEONARDS ROAD&quot;,&quot;ASCOT_VALE&quot;,3032,&quot;VIC&quot;,&quot;AUS&quot;}</td><td>2</td><td>2</td><td>1</td><td>null</td><td>null</td><td>null</td><td>null</td><td>null</td><td>null</td></tr></tbody></table></div>"
      ],
      "text/plain": [
       "shape: (109, 10)\n",
       "┌─────────────────┬──────┬───────┬──────┬───┬───────────┬────────────────┬────────────────┬────────┐\n",
       "│ address         ┆ beds ┆ baths ┆ cars ┆ … ┆ condition ┆ property_type  ┆ construction_d ┆ floors │\n",
       "│ ---             ┆ ---  ┆ ---   ┆ ---  ┆   ┆ ---       ┆ ---            ┆ ate            ┆ ---    │\n",
       "│ struct[7]       ┆ u8   ┆ u8    ┆ u8   ┆   ┆ str       ┆ list[str]      ┆ ---            ┆ u8     │\n",
       "│                 ┆      ┆       ┆      ┆   ┆           ┆                ┆ date           ┆        │\n",
       "╞═════════════════╪══════╪═══════╪══════╪═══╪═══════════╪════════════════╪════════════════╪════════╡\n",
       "│ {null,\"1\",\"ANDE ┆ 2    ┆ 2     ┆ 2    ┆ … ┆ null      ┆ null           ┆ null           ┆ null   │\n",
       "│ RSON            ┆      ┆       ┆      ┆   ┆           ┆                ┆                ┆        │\n",
       "│ STREET\",\"A…     ┆      ┆       ┆      ┆   ┆           ┆                ┆                ┆        │\n",
       "│ {null,\"1\",\"ANDE ┆ 2    ┆ 2     ┆ 2    ┆ … ┆ null      ┆ [\"free_standin ┆ null           ┆ null   │\n",
       "│ RSON            ┆      ┆       ┆      ┆   ┆           ┆ g_house\",      ┆                ┆        │\n",
       "│ STREET\",\"A…     ┆      ┆       ┆      ┆   ┆           ┆ null]          ┆                ┆        │\n",
       "│ {null,\"1\",\"LANG ┆ 2    ┆ 2     ┆ 1    ┆ … ┆ null      ┆ null           ┆ null           ┆ null   │\n",
       "│ S               ┆      ┆       ┆      ┆   ┆           ┆                ┆                ┆        │\n",
       "│ ROAD\",\"ASCOT_…  ┆      ┆       ┆      ┆   ┆           ┆                ┆                ┆        │\n",
       "│ {null,\"1\",\"LANG ┆ 2    ┆ 2     ┆ 1    ┆ … ┆ null      ┆ null           ┆ null           ┆ null   │\n",
       "│ S               ┆      ┆       ┆      ┆   ┆           ┆                ┆                ┆        │\n",
       "│ ROAD\",\"ASCOT_…  ┆      ┆       ┆      ┆   ┆           ┆                ┆                ┆        │\n",
       "│ {null,\"133\",\"TH ┆ 2    ┆ 2     ┆ 2    ┆ … ┆ null      ┆ null           ┆ null           ┆ null   │\n",
       "│ E               ┆      ┆       ┆      ┆   ┆           ┆                ┆                ┆        │\n",
       "│ PARADE\",\"ASCO…  ┆      ┆       ┆      ┆   ┆           ┆                ┆                ┆        │\n",
       "│ …               ┆ …    ┆ …     ┆ …    ┆ … ┆ …         ┆ …              ┆ …              ┆ …      │\n",
       "│ {\"G08\",\"8\",\"BUR ┆ 2    ┆ 2     ┆ 1    ┆ … ┆ null      ┆ [\"apartment\",  ┆ null           ┆ null   │\n",
       "│ ROWES           ┆      ┆       ┆      ┆   ┆           ┆ null]          ┆                ┆        │\n",
       "│ STREET\",\"…      ┆      ┆       ┆      ┆   ┆           ┆                ┆                ┆        │\n",
       "│ {\"G08\",\"8\",\"BUR ┆ 2    ┆ 2     ┆ 1    ┆ … ┆ null      ┆ [\"free_standin ┆ null           ┆ null   │\n",
       "│ ROWES           ┆      ┆       ┆      ┆   ┆           ┆ g_house\",      ┆                ┆        │\n",
       "│ STREET\",\"…      ┆      ┆       ┆      ┆   ┆           ┆ null]          ┆                ┆        │\n",
       "│ {\"G08\",\"8\",\"BUR ┆ 2    ┆ 2     ┆ 1    ┆ … ┆ null      ┆ [\"apartment\",  ┆ null           ┆ null   │\n",
       "│ ROWES           ┆      ┆       ┆      ┆   ┆           ┆ null]          ┆                ┆        │\n",
       "│ STREET\",\"…      ┆      ┆       ┆      ┆   ┆           ┆                ┆                ┆        │\n",
       "│ {\"TH5\",\"54\",\"ST ┆ 2    ┆ 2     ┆ 1    ┆ … ┆ null      ┆ [\"town_house\", ┆ null           ┆ null   │\n",
       "│ LEONARDS ROAD\"… ┆      ┆       ┆      ┆   ┆           ┆ null]          ┆                ┆        │\n",
       "│ {\"TH5\",\"54\",\"ST ┆ 2    ┆ 2     ┆ 1    ┆ … ┆ null      ┆ null           ┆ null           ┆ null   │\n",
       "│ LEONARDS ROAD\"… ┆      ┆       ┆      ┆   ┆           ┆                ┆                ┆        │\n",
       "└─────────────────┴──────┴───────┴──────┴───┴───────────┴────────────────┴────────────────┴────────┘"
      ]
     },
     "execution_count": 21,
     "metadata": {},
     "output_type": "execute_result"
    }
   ],
   "source": [
    "import polars as pl\n",
    "\n",
    "property_infos.filter(pl.col(\"address\").is_duplicated()).sort(\"address\")"
   ]
  },
  {
   "cell_type": "code",
   "execution_count": 23,
   "metadata": {},
   "outputs": [
    {
     "data": {
      "text/html": [
       "<div><style>\n",
       ".dataframe > thead > tr,\n",
       ".dataframe > tbody > tr {\n",
       "  text-align: right;\n",
       "  white-space: pre-wrap;\n",
       "}\n",
       "</style>\n",
       "<small>shape: (276, 10)</small><table border=\"1\" class=\"dataframe\"><thead><tr><th>address</th><th>beds</th><th>baths</th><th>cars</th><th>property_size_m2</th><th>land_size_m2</th><th>condition</th><th>property_type</th><th>construction_date</th><th>floors</th></tr><tr><td>struct[7]</td><td>u8</td><td>u8</td><td>u8</td><td>f32</td><td>f32</td><td>str</td><td>list[str]</td><td>date</td><td>u8</td></tr></thead><tbody><tr><td>{null,&quot;1&quot;,&quot;ANDERSON STREET&quot;,&quot;ASCOT_VALE&quot;,3032,&quot;VIC&quot;,&quot;AUS&quot;}</td><td>2</td><td>2</td><td>2</td><td>null</td><td>null</td><td>null</td><td>[&quot;free_standing_house&quot;, null]</td><td>null</td><td>null</td></tr><tr><td>{null,&quot;1&quot;,&quot;LANGS ROAD&quot;,&quot;ASCOT_VALE&quot;,3032,&quot;VIC&quot;,&quot;AUS&quot;}</td><td>2</td><td>2</td><td>1</td><td>null</td><td>null</td><td>null</td><td>[]</td><td>null</td><td>null</td></tr><tr><td>{null,&quot;10&quot;,&quot;ENCLAVE AVENUE&quot;,&quot;ASCOT_VALE&quot;,3032,&quot;VIC&quot;,&quot;AUS&quot;}</td><td>2</td><td>2</td><td>1</td><td>null</td><td>131.0</td><td>null</td><td>[&quot;town_house&quot;, null]</td><td>null</td><td>null</td></tr><tr><td>{null,&quot;102B&quot;,&quot;EPSOM ROAD&quot;,&quot;ASCOT_VALE&quot;,3032,&quot;VIC&quot;,&quot;AUS&quot;}</td><td>2</td><td>2</td><td>1</td><td>null</td><td>null</td><td>null</td><td>null</td><td>null</td><td>null</td></tr><tr><td>{null,&quot;108A&quot;,&quot;EPSOM ROAD&quot;,&quot;ASCOT_VALE&quot;,3032,&quot;VIC&quot;,&quot;AUS&quot;}</td><td>2</td><td>2</td><td>1</td><td>null</td><td>175.0</td><td>null</td><td>[&quot;town_house&quot;, null]</td><td>null</td><td>null</td></tr><tr><td>&hellip;</td><td>&hellip;</td><td>&hellip;</td><td>&hellip;</td><td>&hellip;</td><td>&hellip;</td><td>&hellip;</td><td>&hellip;</td><td>&hellip;</td><td>&hellip;</td></tr><tr><td>{&quot;GO7&quot;,&quot;8&quot;,&quot;BURROWES STREET&quot;,&quot;ASCOT_VALE&quot;,3032,&quot;VIC&quot;,&quot;AUS&quot;}</td><td>2</td><td>2</td><td>1</td><td>null</td><td>null</td><td>null</td><td>[&quot;apartment&quot;, null]</td><td>null</td><td>null</td></tr><tr><td>{&quot;GO8&quot;,&quot;8&quot;,&quot;BURROWES STREET&quot;,&quot;ASCOT_VALE&quot;,3032,&quot;VIC&quot;,&quot;AUS&quot;}</td><td>2</td><td>2</td><td>1</td><td>null</td><td>null</td><td>null</td><td>[&quot;apartment&quot;, null]</td><td>null</td><td>null</td></tr><tr><td>{&quot;T228&quot;,&quot;30&quot;,&quot;MT ALEXANDER ROAD&quot;,&quot;ASCOT_VALE&quot;,3032,&quot;VIC&quot;,&quot;AUS&quot;}</td><td>2</td><td>2</td><td>1</td><td>null</td><td>null</td><td>null</td><td>[&quot;apartment&quot;, null]</td><td>null</td><td>null</td></tr><tr><td>{&quot;TH5&quot;,&quot;54&quot;,&quot;ST LEONARDS ROAD&quot;,&quot;ASCOT_VALE&quot;,3032,&quot;VIC&quot;,&quot;AUS&quot;}</td><td>2</td><td>2</td><td>1</td><td>null</td><td>null</td><td>null</td><td>[&quot;town_house&quot;, null]</td><td>null</td><td>null</td></tr><tr><td>{&quot;TH8&quot;,&quot;54&quot;,&quot;ST LEONARDS ROAD&quot;,&quot;ASCOT_VALE&quot;,3032,&quot;VIC&quot;,&quot;AUS&quot;}</td><td>2</td><td>2</td><td>1</td><td>null</td><td>null</td><td>null</td><td>[&quot;town_house&quot;, null]</td><td>null</td><td>null</td></tr></tbody></table></div>"
      ],
      "text/plain": [
       "shape: (276, 10)\n",
       "┌─────────────────┬──────┬───────┬──────┬───┬───────────┬────────────────┬────────────────┬────────┐\n",
       "│ address         ┆ beds ┆ baths ┆ cars ┆ … ┆ condition ┆ property_type  ┆ construction_d ┆ floors │\n",
       "│ ---             ┆ ---  ┆ ---   ┆ ---  ┆   ┆ ---       ┆ ---            ┆ ate            ┆ ---    │\n",
       "│ struct[7]       ┆ u8   ┆ u8    ┆ u8   ┆   ┆ str       ┆ list[str]      ┆ ---            ┆ u8     │\n",
       "│                 ┆      ┆       ┆      ┆   ┆           ┆                ┆ date           ┆        │\n",
       "╞═════════════════╪══════╪═══════╪══════╪═══╪═══════════╪════════════════╪════════════════╪════════╡\n",
       "│ {null,\"1\",\"ANDE ┆ 2    ┆ 2     ┆ 2    ┆ … ┆ null      ┆ [\"free_standin ┆ null           ┆ null   │\n",
       "│ RSON            ┆      ┆       ┆      ┆   ┆           ┆ g_house\",      ┆                ┆        │\n",
       "│ STREET\",\"A…     ┆      ┆       ┆      ┆   ┆           ┆ null]          ┆                ┆        │\n",
       "│ {null,\"1\",\"LANG ┆ 2    ┆ 2     ┆ 1    ┆ … ┆ null      ┆ []             ┆ null           ┆ null   │\n",
       "│ S               ┆      ┆       ┆      ┆   ┆           ┆                ┆                ┆        │\n",
       "│ ROAD\",\"ASCOT_…  ┆      ┆       ┆      ┆   ┆           ┆                ┆                ┆        │\n",
       "│ {null,\"10\",\"ENC ┆ 2    ┆ 2     ┆ 1    ┆ … ┆ null      ┆ [\"town_house\", ┆ null           ┆ null   │\n",
       "│ LAVE            ┆      ┆       ┆      ┆   ┆           ┆ null]          ┆                ┆        │\n",
       "│ AVENUE\",\"A…     ┆      ┆       ┆      ┆   ┆           ┆                ┆                ┆        │\n",
       "│ {null,\"102B\",\"E ┆ 2    ┆ 2     ┆ 1    ┆ … ┆ null      ┆ null           ┆ null           ┆ null   │\n",
       "│ PSOM            ┆      ┆       ┆      ┆   ┆           ┆                ┆                ┆        │\n",
       "│ ROAD\",\"ASC…     ┆      ┆       ┆      ┆   ┆           ┆                ┆                ┆        │\n",
       "│ {null,\"108A\",\"E ┆ 2    ┆ 2     ┆ 1    ┆ … ┆ null      ┆ [\"town_house\", ┆ null           ┆ null   │\n",
       "│ PSOM            ┆      ┆       ┆      ┆   ┆           ┆ null]          ┆                ┆        │\n",
       "│ ROAD\",\"ASC…     ┆      ┆       ┆      ┆   ┆           ┆                ┆                ┆        │\n",
       "│ …               ┆ …    ┆ …     ┆ …    ┆ … ┆ …         ┆ …              ┆ …              ┆ …      │\n",
       "│ {\"GO7\",\"8\",\"BUR ┆ 2    ┆ 2     ┆ 1    ┆ … ┆ null      ┆ [\"apartment\",  ┆ null           ┆ null   │\n",
       "│ ROWES           ┆      ┆       ┆      ┆   ┆           ┆ null]          ┆                ┆        │\n",
       "│ STREET\",\"…      ┆      ┆       ┆      ┆   ┆           ┆                ┆                ┆        │\n",
       "│ {\"GO8\",\"8\",\"BUR ┆ 2    ┆ 2     ┆ 1    ┆ … ┆ null      ┆ [\"apartment\",  ┆ null           ┆ null   │\n",
       "│ ROWES           ┆      ┆       ┆      ┆   ┆           ┆ null]          ┆                ┆        │\n",
       "│ STREET\",\"…      ┆      ┆       ┆      ┆   ┆           ┆                ┆                ┆        │\n",
       "│ {\"T228\",\"30\",\"M ┆ 2    ┆ 2     ┆ 1    ┆ … ┆ null      ┆ [\"apartment\",  ┆ null           ┆ null   │\n",
       "│ T ALEXANDER     ┆      ┆       ┆      ┆   ┆           ┆ null]          ┆                ┆        │\n",
       "│ ROA…            ┆      ┆       ┆      ┆   ┆           ┆                ┆                ┆        │\n",
       "│ {\"TH5\",\"54\",\"ST ┆ 2    ┆ 2     ┆ 1    ┆ … ┆ null      ┆ [\"town_house\", ┆ null           ┆ null   │\n",
       "│ LEONARDS ROAD\"… ┆      ┆       ┆      ┆   ┆           ┆ null]          ┆                ┆        │\n",
       "│ {\"TH8\",\"54\",\"ST ┆ 2    ┆ 2     ┆ 1    ┆ … ┆ null      ┆ [\"town_house\", ┆ null           ┆ null   │\n",
       "│ LEONARDS ROAD\"… ┆      ┆       ┆      ┆   ┆           ┆ null]          ┆                ┆        │\n",
       "└─────────────────┴──────┴───────┴──────┴───┴───────────┴────────────────┴────────────────┴────────┘"
      ]
     },
     "execution_count": 23,
     "metadata": {},
     "output_type": "execute_result"
    }
   ],
   "source": [
    "PropertyInfo.unique(property_infos)"
   ]
  },
  {
   "cell_type": "code",
   "execution_count": 39,
   "metadata": {},
   "outputs": [
    {
     "data": {
      "text/html": [
       "<div><style>\n",
       ".dataframe > thead > tr,\n",
       ".dataframe > tbody > tr {\n",
       "  text-align: right;\n",
       "  white-space: pre-wrap;\n",
       "}\n",
       "</style>\n",
       "<small>shape: (60, 4)</small><table border=\"1\" class=\"dataframe\"><thead><tr><th>address</th><th>date</th><th>record_type</th><th>price</th></tr><tr><td>struct[7]</td><td>date</td><td>str</td><td>u32</td></tr></thead><tbody><tr><td>{&quot;14&quot;,&quot;97&quot;,&quot;ASCOT VALE ROAD&quot;,&quot;ASCOT_VALE&quot;,3032,&quot;VIC&quot;,&quot;AUS&quot;}</td><td>2007-05-01</td><td>null</td><td>329000</td></tr><tr><td>{&quot;6&quot;,&quot;14A&quot;,&quot;LEONARD CRESCENT&quot;,&quot;ASCOT_VALE&quot;,3032,&quot;VIC&quot;,&quot;AUS&quot;}</td><td>2015-06-01</td><td>null</td><td>550000</td></tr><tr><td>{null,&quot;14A&quot;,&quot;DONCASTER STREET&quot;,&quot;ASCOT_VALE&quot;,3032,&quot;VIC&quot;,&quot;AUS&quot;}</td><td>2022-06-01</td><td>&quot;enquiry&quot;</td><td>null</td></tr><tr><td>{null,&quot;4B&quot;,&quot;FERGUSON STREET&quot;,&quot;ASCOT_VALE&quot;,3032,&quot;VIC&quot;,&quot;AUS&quot;}</td><td>2022-08-01</td><td>&quot;auction&quot;</td><td>null</td></tr><tr><td>{&quot;5&quot;,&quot;54&quot;,&quot;ST LEONARDS ROAD&quot;,&quot;ASCOT_VALE&quot;,3032,&quot;VIC&quot;,&quot;AUS&quot;}</td><td>2020-03-01</td><td>null</td><td>795000</td></tr><tr><td>{&quot;113&quot;,&quot;8&quot;,&quot;BURROWES STREET&quot;,&quot;ASCOT_VALE&quot;,3032,&quot;VIC&quot;,&quot;AUS&quot;}</td><td>2013-04-01</td><td>&quot;private_sale&quot;</td><td>455000</td></tr><tr><td>{&quot;16&quot;,&quot;54&quot;,&quot;EPSOM ROAD&quot;,&quot;ASCOT_VALE&quot;,3032,&quot;VIC&quot;,&quot;AUS&quot;}</td><td>2024-05-01</td><td>null</td><td>510000</td></tr><tr><td>{&quot;11&quot;,&quot;54&quot;,&quot;EPSOM ROAD&quot;,&quot;ASCOT_VALE&quot;,3032,&quot;VIC&quot;,&quot;AUS&quot;}</td><td>2022-10-01</td><td>null</td><td>600000</td></tr><tr><td>{&quot;7&quot;,&quot;93&quot;,&quot;UNION ROAD&quot;,&quot;ASCOT_VALE&quot;,3032,&quot;VIC&quot;,&quot;AUS&quot;}</td><td>2014-09-01</td><td>null</td><td>500000</td></tr><tr><td>{&quot;GO2&quot;,&quot;8&quot;,&quot;BURROWES STREET&quot;,&quot;ASCOT_VALE&quot;,3032,&quot;VIC&quot;,&quot;AUS&quot;}</td><td>2011-01-01</td><td>null</td><td>529000</td></tr><tr><td>{&quot;309&quot;,&quot;8&quot;,&quot;BURROWES STREET&quot;,&quot;ASCOT_VALE&quot;,3032,&quot;VIC&quot;,&quot;AUS&quot;}</td><td>2011-11-01</td><td>null</td><td>null</td></tr><tr><td>{&quot;7&quot;,&quot;26&quot;,&quot;SANDOWN ROAD&quot;,&quot;ASCOT_VALE&quot;,3032,&quot;VIC&quot;,&quot;AUS&quot;}</td><td>2022-06-01</td><td>null</td><td>null</td></tr><tr><td>{&quot;11&quot;,&quot;33&quot;,&quot;FISHER PARADE&quot;,&quot;ASCOT_VALE&quot;,3032,&quot;VIC&quot;,&quot;AUS&quot;}</td><td>2011-07-01</td><td>null</td><td>550000</td></tr><tr><td>{null,&quot;1B&quot;,&quot;JAMES STREET&quot;,&quot;ASCOT_VALE&quot;,3032,&quot;VIC&quot;,&quot;AUS&quot;}</td><td>2021-07-01</td><td>null</td><td>950000</td></tr><tr><td>{&quot;107&quot;,&quot;2&quot;,&quot;MASCOMA STREET&quot;,&quot;ASCOT_VALE&quot;,3032,&quot;VIC&quot;,&quot;AUS&quot;}</td><td>2022-02-01</td><td>null</td><td>775000</td></tr><tr><td>{&quot;208&quot;,&quot;8&quot;,&quot;BURROWES STREET&quot;,&quot;ASCOT_VALE&quot;,3032,&quot;VIC&quot;,&quot;AUS&quot;}</td><td>2022-01-01</td><td>null</td><td>549500</td></tr><tr><td>{&quot;10&quot;,&quot;93&quot;,&quot;UNION ROAD&quot;,&quot;ASCOT_VALE&quot;,3032,&quot;VIC&quot;,&quot;AUS&quot;}</td><td>2010-04-01</td><td>null</td><td>532500</td></tr><tr><td>{&quot;9&quot;,&quot;190&quot;,&quot;MOUNT ALEXANDER ROAD&quot;,&quot;ASCOT_VALE&quot;,3032,&quot;VIC&quot;,&quot;AUS&quot;}</td><td>2012-08-01</td><td>null</td><td>450000</td></tr><tr><td>{&quot;11&quot;,&quot;54&quot;,&quot;EPSOM ROAD&quot;,&quot;ASCOT_VALE&quot;,3032,&quot;VIC&quot;,&quot;AUS&quot;}</td><td>2022-07-01</td><td>null</td><td>600000</td></tr><tr><td>{&quot;2&quot;,&quot;12&quot;,&quot;LEONARD CRESCENT&quot;,&quot;ASCOT_VALE&quot;,3032,&quot;VIC&quot;,&quot;AUS&quot;}</td><td>2024-01-01</td><td>null</td><td>500000</td></tr><tr><td>{&quot;301&quot;,&quot;8&quot;,&quot;BURROWES STREET&quot;,&quot;ASCOT_VALE&quot;,3032,&quot;VIC&quot;,&quot;AUS&quot;}</td><td>2017-11-01</td><td>null</td><td>525000</td></tr><tr><td>{&quot;301&quot;,&quot;8&quot;,&quot;BURROWES STREET&quot;,&quot;ASCOT_VALE&quot;,3032,&quot;VIC&quot;,&quot;AUS&quot;}</td><td>2011-04-01</td><td>null</td><td>500000</td></tr><tr><td>{&quot;305&quot;,&quot;8&quot;,&quot;BURROWES STREET&quot;,&quot;ASCOT_VALE&quot;,3032,&quot;VIC&quot;,&quot;AUS&quot;}</td><td>2010-12-01</td><td>null</td><td>null</td></tr><tr><td>{&quot;2&quot;,&quot;35&quot;,&quot;UNION ROAD&quot;,&quot;ASCOT_VALE&quot;,3032,&quot;VIC&quot;,&quot;AUS&quot;}</td><td>2007-05-01</td><td>null</td><td>360000</td></tr><tr><td>{&quot;12&quot;,&quot;57&quot;,&quot;ASCOT STREET&quot;,&quot;ASCOT_VALE&quot;,3032,&quot;VIC&quot;,&quot;AUS&quot;}</td><td>2015-03-01</td><td>null</td><td>510000</td></tr><tr><td>{null,&quot;23&quot;,&quot;BANUM CRESCENT&quot;,&quot;ASCOT_VALE&quot;,3032,&quot;VIC&quot;,&quot;AUS&quot;}</td><td>2023-10-01</td><td>null</td><td>880000</td></tr><tr><td>{&quot;11&quot;,&quot;57&quot;,&quot;ASCOT STREET&quot;,&quot;ASCOT_VALE&quot;,3032,&quot;VIC&quot;,&quot;AUS&quot;}</td><td>2022-06-01</td><td>null</td><td>740000</td></tr><tr><td>{&quot;105&quot;,&quot;8&quot;,&quot;BURROWES STREET&quot;,&quot;ASCOT_VALE&quot;,3032,&quot;VIC&quot;,&quot;AUS&quot;}</td><td>2020-01-01</td><td>null</td><td>510000</td></tr><tr><td>{&quot;1&quot;,&quot;1&quot;,&quot;FERGUSON STREET&quot;,&quot;ASCOT_VALE&quot;,3032,&quot;VIC&quot;,&quot;AUS&quot;}</td><td>2019-10-01</td><td>&quot;enquiry&quot;</td><td>null</td></tr><tr><td>{&quot;5&quot;,&quot;12&quot;,&quot;SANDOWN ROAD&quot;,&quot;ASCOT_VALE&quot;,3032,&quot;VIC&quot;,&quot;AUS&quot;}</td><td>2017-11-01</td><td>null</td><td>745000</td></tr><tr><td>{&quot;213&quot;,&quot;8&quot;,&quot;BURROWES STREET&quot;,&quot;ASCOT_VALE&quot;,3032,&quot;VIC&quot;,&quot;AUS&quot;}</td><td>2024-07-01</td><td>null</td><td>null</td></tr><tr><td>{&quot;17&quot;,&quot;32&quot;,&quot;FISHER PARADE&quot;,&quot;ASCOT_VALE&quot;,3032,&quot;VIC&quot;,&quot;AUS&quot;}</td><td>2007-07-01</td><td>&quot;enquiry&quot;</td><td>530000</td></tr><tr><td>{null,&quot;110&quot;,&quot;FRANCIS STREET&quot;,&quot;ASCOT_VALE&quot;,3032,&quot;VIC&quot;,&quot;AUS&quot;}</td><td>2020-10-01</td><td>null</td><td>null</td></tr><tr><td>{null,&quot;108A&quot;,&quot;EPSOM ROAD&quot;,&quot;ASCOT_VALE&quot;,3032,&quot;VIC&quot;,&quot;AUS&quot;}</td><td>2008-06-01</td><td>&quot;private_sale&quot;</td><td>585000</td></tr><tr><td>{&quot;12&quot;,&quot;57&quot;,&quot;ASCOT STREET&quot;,&quot;ASCOT_VALE&quot;,3032,&quot;VIC&quot;,&quot;AUS&quot;}</td><td>2015-03-01</td><td>&quot;auction&quot;</td><td>510000</td></tr><tr><td>{&quot;16&quot;,&quot;28&quot;,&quot;LEONARD CRESCENT&quot;,&quot;ASCOT_VALE&quot;,3032,&quot;VIC&quot;,&quot;AUS&quot;}</td><td>2022-02-01</td><td>null</td><td>542500</td></tr><tr><td>{&quot;108&quot;,&quot;26&quot;,&quot;LEONARD CRESCENT&quot;,&quot;ASCOT_VALE&quot;,3032,&quot;VIC&quot;,&quot;AUS&quot;}</td><td>2019-01-01</td><td>&quot;private_sale&quot;</td><td>null</td></tr><tr><td>{&quot;5&quot;,&quot;11&quot;,&quot;SANDOWN ROAD&quot;,&quot;ASCOT_VALE&quot;,3032,&quot;VIC&quot;,&quot;AUS&quot;}</td><td>2021-09-01</td><td>null</td><td>700000</td></tr><tr><td>{null,&quot;1C&quot;,&quot;MYRNONG CRESCENT&quot;,&quot;ASCOT_VALE&quot;,3032,&quot;VIC&quot;,&quot;AUS&quot;}</td><td>2018-05-01</td><td>null</td><td>815000</td></tr><tr><td>{null,&quot;28&quot;,&quot;LEONARD CRESCENT&quot;,&quot;ASCOT_VALE&quot;,3032,&quot;VIC&quot;,&quot;AUS&quot;}</td><td>2014-05-01</td><td>null</td><td>475000</td></tr><tr><td>{&quot;15&quot;,&quot;54&quot;,&quot;ST LEONARDS ROAD&quot;,&quot;ASCOT_VALE&quot;,3032,&quot;VIC&quot;,&quot;AUS&quot;}</td><td>2018-06-01</td><td>null</td><td>745000</td></tr><tr><td>{null,&quot;35&quot;,&quot;HAROLD STREET&quot;,&quot;ASCOT_VALE&quot;,3032,&quot;VIC&quot;,&quot;AUS&quot;}</td><td>2011-04-01</td><td>null</td><td>null</td></tr><tr><td>{null,&quot;133&quot;,&quot;THE PARADE&quot;,&quot;ASCOT_VALE&quot;,3032,&quot;VIC&quot;,&quot;AUS&quot;}</td><td>2017-11-01</td><td>&quot;auction&quot;</td><td>null</td></tr><tr><td>{&quot;307&quot;,&quot;8&quot;,&quot;BURROWES STREET&quot;,&quot;ASCOT_VALE&quot;,3032,&quot;VIC&quot;,&quot;AUS&quot;}</td><td>2011-01-01</td><td>null</td><td>599000</td></tr><tr><td>{&quot;10&quot;,&quot;93&quot;,&quot;UNION ROAD&quot;,&quot;ASCOT_VALE&quot;,3032,&quot;VIC&quot;,&quot;AUS&quot;}</td><td>2010-08-01</td><td>null</td><td>510000</td></tr><tr><td>{&quot;14&quot;,&quot;30&quot;,&quot;LEONARD CRESCENT&quot;,&quot;ASCOT_VALE&quot;,3032,&quot;VIC&quot;,&quot;AUS&quot;}</td><td>2019-12-01</td><td>null</td><td>512500</td></tr><tr><td>{&quot;113&quot;,&quot;8&quot;,&quot;BURROWES STREET&quot;,&quot;ASCOT_VALE&quot;,3032,&quot;VIC&quot;,&quot;AUS&quot;}</td><td>2017-11-01</td><td>&quot;private_sale&quot;</td><td>539000</td></tr><tr><td>{null,&quot;73&quot;,&quot;WALTER STREET&quot;,&quot;ASCOT_VALE&quot;,3032,&quot;VIC&quot;,&quot;AUS&quot;}</td><td>2018-10-01</td><td>&quot;auction&quot;</td><td>null</td></tr><tr><td>{&quot;18&quot;,&quot;33&quot;,&quot;FISHER PARADE&quot;,&quot;ASCOT_VALE&quot;,3032,&quot;VIC&quot;,&quot;AUS&quot;}</td><td>2007-07-01</td><td>null</td><td>372500</td></tr><tr><td>{&quot;110&quot;,&quot;1&quot;,&quot;LANGS ROAD&quot;,&quot;ASCOT_VALE&quot;,3032,&quot;VIC&quot;,&quot;AUS&quot;}</td><td>2021-06-01</td><td>null</td><td>null</td></tr><tr><td>{null,&quot;2C&quot;,&quot;FERGUSON STREET&quot;,&quot;ASCOT_VALE&quot;,3032,&quot;VIC&quot;,&quot;AUS&quot;}</td><td>2018-10-01</td><td>null</td><td>855000</td></tr><tr><td>{&quot;2&quot;,&quot;40&quot;,&quot;LANGS ROAD&quot;,&quot;ASCOT_VALE&quot;,3032,&quot;VIC&quot;,&quot;AUS&quot;}</td><td>2011-02-01</td><td>&quot;auction&quot;</td><td>null</td></tr><tr><td>{&quot;114&quot;,&quot;8&quot;,&quot;BURROWES STREET&quot;,&quot;ASCOT_VALE&quot;,3032,&quot;VIC&quot;,&quot;AUS&quot;}</td><td>2010-10-01</td><td>&quot;auction&quot;</td><td>null</td></tr><tr><td>{&quot;4&quot;,&quot;22&quot;,&quot;LEONARD CRESCENT&quot;,&quot;ASCOT_VALE&quot;,3032,&quot;VIC&quot;,&quot;AUS&quot;}</td><td>2023-07-01</td><td>null</td><td>480000</td></tr><tr><td>{null,&quot;175B&quot;,&quot;KENT STREET&quot;,&quot;ASCOT_VALE&quot;,3032,&quot;VIC&quot;,&quot;AUS&quot;}</td><td>2020-02-01</td><td>&quot;auction&quot;</td><td>null</td></tr><tr><td>{&quot;4&quot;,&quot;160&quot;,&quot;ASCOT VALE ROAD&quot;,&quot;ASCOT_VALE&quot;,3032,&quot;VIC&quot;,&quot;AUS&quot;}</td><td>2012-07-01</td><td>null</td><td>null</td></tr><tr><td>{null,&quot;65&quot;,&quot;FISHER PARADE&quot;,&quot;ASCOT_VALE&quot;,3032,&quot;VIC&quot;,&quot;AUS&quot;}</td><td>2019-01-01</td><td>null</td><td>null</td></tr><tr><td>{null,&quot;74A&quot;,&quot;FENTON STREET&quot;,&quot;ASCOT_VALE&quot;,3032,&quot;VIC&quot;,&quot;AUS&quot;}</td><td>2014-05-01</td><td>&quot;private_sale&quot;</td><td>null</td></tr><tr><td>{&quot;42&quot;,&quot;30&quot;,&quot;LEONARD CRESCENT&quot;,&quot;ASCOT_VALE&quot;,3032,&quot;VIC&quot;,&quot;AUS&quot;}</td><td>2020-02-01</td><td>null</td><td>685000</td></tr><tr><td>{&quot;103&quot;,&quot;8&quot;,&quot;BURROWES STREET&quot;,&quot;ASCOT_VALE&quot;,3032,&quot;VIC&quot;,&quot;AUS&quot;}</td><td>2017-09-01</td><td>&quot;enquiry&quot;</td><td>null</td></tr></tbody></table></div>"
      ],
      "text/plain": [
       "shape: (60, 4)\n",
       "┌─────────────────────────────────┬────────────┬──────────────┬────────┐\n",
       "│ address                         ┆ date       ┆ record_type  ┆ price  │\n",
       "│ ---                             ┆ ---        ┆ ---          ┆ ---    │\n",
       "│ struct[7]                       ┆ date       ┆ str          ┆ u32    │\n",
       "╞═════════════════════════════════╪════════════╪══════════════╪════════╡\n",
       "│ {\"14\",\"97\",\"ASCOT VALE ROAD\",\"… ┆ 2007-05-01 ┆ null         ┆ 329000 │\n",
       "│ {\"6\",\"14A\",\"LEONARD CRESCENT\",… ┆ 2015-06-01 ┆ null         ┆ 550000 │\n",
       "│ {null,\"14A\",\"DONCASTER STREET\"… ┆ 2022-06-01 ┆ enquiry      ┆ null   │\n",
       "│ {null,\"4B\",\"FERGUSON STREET\",\"… ┆ 2022-08-01 ┆ auction      ┆ null   │\n",
       "│ {\"5\",\"54\",\"ST LEONARDS ROAD\",\"… ┆ 2020-03-01 ┆ null         ┆ 795000 │\n",
       "│ {\"113\",\"8\",\"BURROWES STREET\",\"… ┆ 2013-04-01 ┆ private_sale ┆ 455000 │\n",
       "│ {\"16\",\"54\",\"EPSOM ROAD\",\"ASCOT… ┆ 2024-05-01 ┆ null         ┆ 510000 │\n",
       "│ {\"11\",\"54\",\"EPSOM ROAD\",\"ASCOT… ┆ 2022-10-01 ┆ null         ┆ 600000 │\n",
       "│ {\"7\",\"93\",\"UNION ROAD\",\"ASCOT_… ┆ 2014-09-01 ┆ null         ┆ 500000 │\n",
       "│ {\"GO2\",\"8\",\"BURROWES STREET\",\"… ┆ 2011-01-01 ┆ null         ┆ 529000 │\n",
       "│ {\"309\",\"8\",\"BURROWES STREET\",\"… ┆ 2011-11-01 ┆ null         ┆ null   │\n",
       "│ {\"7\",\"26\",\"SANDOWN ROAD\",\"ASCO… ┆ 2022-06-01 ┆ null         ┆ null   │\n",
       "│ {\"11\",\"33\",\"FISHER PARADE\",\"AS… ┆ 2011-07-01 ┆ null         ┆ 550000 │\n",
       "│ {null,\"1B\",\"JAMES STREET\",\"ASC… ┆ 2021-07-01 ┆ null         ┆ 950000 │\n",
       "│ {\"107\",\"2\",\"MASCOMA STREET\",\"A… ┆ 2022-02-01 ┆ null         ┆ 775000 │\n",
       "│ {\"208\",\"8\",\"BURROWES STREET\",\"… ┆ 2022-01-01 ┆ null         ┆ 549500 │\n",
       "│ {\"10\",\"93\",\"UNION ROAD\",\"ASCOT… ┆ 2010-04-01 ┆ null         ┆ 532500 │\n",
       "│ {\"9\",\"190\",\"MOUNT ALEXANDER RO… ┆ 2012-08-01 ┆ null         ┆ 450000 │\n",
       "│ {\"11\",\"54\",\"EPSOM ROAD\",\"ASCOT… ┆ 2022-07-01 ┆ null         ┆ 600000 │\n",
       "│ {\"2\",\"12\",\"LEONARD CRESCENT\",\"… ┆ 2024-01-01 ┆ null         ┆ 500000 │\n",
       "│ {\"301\",\"8\",\"BURROWES STREET\",\"… ┆ 2017-11-01 ┆ null         ┆ 525000 │\n",
       "│ {\"301\",\"8\",\"BURROWES STREET\",\"… ┆ 2011-04-01 ┆ null         ┆ 500000 │\n",
       "│ {\"305\",\"8\",\"BURROWES STREET\",\"… ┆ 2010-12-01 ┆ null         ┆ null   │\n",
       "│ {\"2\",\"35\",\"UNION ROAD\",\"ASCOT_… ┆ 2007-05-01 ┆ null         ┆ 360000 │\n",
       "│ {\"12\",\"57\",\"ASCOT STREET\",\"ASC… ┆ 2015-03-01 ┆ null         ┆ 510000 │\n",
       "│ {null,\"23\",\"BANUM CRESCENT\",\"A… ┆ 2023-10-01 ┆ null         ┆ 880000 │\n",
       "│ {\"11\",\"57\",\"ASCOT STREET\",\"ASC… ┆ 2022-06-01 ┆ null         ┆ 740000 │\n",
       "│ {\"105\",\"8\",\"BURROWES STREET\",\"… ┆ 2020-01-01 ┆ null         ┆ 510000 │\n",
       "│ {\"1\",\"1\",\"FERGUSON STREET\",\"AS… ┆ 2019-10-01 ┆ enquiry      ┆ null   │\n",
       "│ {\"5\",\"12\",\"SANDOWN ROAD\",\"ASCO… ┆ 2017-11-01 ┆ null         ┆ 745000 │\n",
       "│ {\"213\",\"8\",\"BURROWES STREET\",\"… ┆ 2024-07-01 ┆ null         ┆ null   │\n",
       "│ {\"17\",\"32\",\"FISHER PARADE\",\"AS… ┆ 2007-07-01 ┆ enquiry      ┆ 530000 │\n",
       "│ {null,\"110\",\"FRANCIS STREET\",\"… ┆ 2020-10-01 ┆ null         ┆ null   │\n",
       "│ {null,\"108A\",\"EPSOM ROAD\",\"ASC… ┆ 2008-06-01 ┆ private_sale ┆ 585000 │\n",
       "│ {\"12\",\"57\",\"ASCOT STREET\",\"ASC… ┆ 2015-03-01 ┆ auction      ┆ 510000 │\n",
       "│ {\"16\",\"28\",\"LEONARD CRESCENT\",… ┆ 2022-02-01 ┆ null         ┆ 542500 │\n",
       "│ {\"108\",\"26\",\"LEONARD CRESCENT\"… ┆ 2019-01-01 ┆ private_sale ┆ null   │\n",
       "│ {\"5\",\"11\",\"SANDOWN ROAD\",\"ASCO… ┆ 2021-09-01 ┆ null         ┆ 700000 │\n",
       "│ {null,\"1C\",\"MYRNONG CRESCENT\",… ┆ 2018-05-01 ┆ null         ┆ 815000 │\n",
       "│ {null,\"28\",\"LEONARD CRESCENT\",… ┆ 2014-05-01 ┆ null         ┆ 475000 │\n",
       "│ {\"15\",\"54\",\"ST LEONARDS ROAD\",… ┆ 2018-06-01 ┆ null         ┆ 745000 │\n",
       "│ {null,\"35\",\"HAROLD STREET\",\"AS… ┆ 2011-04-01 ┆ null         ┆ null   │\n",
       "│ {null,\"133\",\"THE PARADE\",\"ASCO… ┆ 2017-11-01 ┆ auction      ┆ null   │\n",
       "│ {\"307\",\"8\",\"BURROWES STREET\",\"… ┆ 2011-01-01 ┆ null         ┆ 599000 │\n",
       "│ {\"10\",\"93\",\"UNION ROAD\",\"ASCOT… ┆ 2010-08-01 ┆ null         ┆ 510000 │\n",
       "│ {\"14\",\"30\",\"LEONARD CRESCENT\",… ┆ 2019-12-01 ┆ null         ┆ 512500 │\n",
       "│ {\"113\",\"8\",\"BURROWES STREET\",\"… ┆ 2017-11-01 ┆ private_sale ┆ 539000 │\n",
       "│ {null,\"73\",\"WALTER STREET\",\"AS… ┆ 2018-10-01 ┆ auction      ┆ null   │\n",
       "│ {\"18\",\"33\",\"FISHER PARADE\",\"AS… ┆ 2007-07-01 ┆ null         ┆ 372500 │\n",
       "│ {\"110\",\"1\",\"LANGS ROAD\",\"ASCOT… ┆ 2021-06-01 ┆ null         ┆ null   │\n",
       "│ {null,\"2C\",\"FERGUSON STREET\",\"… ┆ 2018-10-01 ┆ null         ┆ 855000 │\n",
       "│ {\"2\",\"40\",\"LANGS ROAD\",\"ASCOT_… ┆ 2011-02-01 ┆ auction      ┆ null   │\n",
       "│ {\"114\",\"8\",\"BURROWES STREET\",\"… ┆ 2010-10-01 ┆ auction      ┆ null   │\n",
       "│ {\"4\",\"22\",\"LEONARD CRESCENT\",\"… ┆ 2023-07-01 ┆ null         ┆ 480000 │\n",
       "│ {null,\"175B\",\"KENT STREET\",\"AS… ┆ 2020-02-01 ┆ auction      ┆ null   │\n",
       "│ {\"4\",\"160\",\"ASCOT VALE ROAD\",\"… ┆ 2012-07-01 ┆ null         ┆ null   │\n",
       "│ {null,\"65\",\"FISHER PARADE\",\"AS… ┆ 2019-01-01 ┆ null         ┆ null   │\n",
       "│ {null,\"74A\",\"FENTON STREET\",\"A… ┆ 2014-05-01 ┆ private_sale ┆ null   │\n",
       "│ {\"42\",\"30\",\"LEONARD CRESCENT\",… ┆ 2020-02-01 ┆ null         ┆ 685000 │\n",
       "│ {\"103\",\"8\",\"BURROWES STREET\",\"… ┆ 2017-09-01 ┆ enquiry      ┆ null   │\n",
       "└─────────────────────────────────┴────────────┴──────────────┴────────┘"
      ]
     },
     "execution_count": 39,
     "metadata": {},
     "output_type": "execute_result"
    }
   ],
   "source": [
    "pl.Config.set_tbl_rows(60)\n",
    "price_records.sample(60)"
   ]
  },
  {
   "cell_type": "code",
   "execution_count": 40,
   "metadata": {},
   "outputs": [
    {
     "data": {
      "text/plain": [
       "polars.config.Config"
      ]
     },
     "execution_count": 40,
     "metadata": {},
     "output_type": "execute_result"
    }
   ],
   "source": [
    "pl.Config.set_tbl_rows(10)"
   ]
  },
  {
   "cell_type": "code",
   "execution_count": 43,
   "metadata": {},
   "outputs": [
    {
     "data": {
      "text/html": [
       "<div><style>\n",
       ".dataframe > thead > tr,\n",
       ".dataframe > tbody > tr {\n",
       "  text-align: right;\n",
       "  white-space: pre-wrap;\n",
       "}\n",
       "</style>\n",
       "<small>shape: (1_392, 13)</small><table border=\"1\" class=\"dataframe\"><thead><tr><th>beds</th><th>baths</th><th>cars</th><th>property_size_m2</th><th>land_size_m2</th><th>condition</th><th>property_type</th><th>construction_date</th><th>floors</th><th>date</th><th>record_type</th><th>price</th><th>address</th></tr><tr><td>u8</td><td>u8</td><td>u8</td><td>f32</td><td>f32</td><td>str</td><td>list[str]</td><td>date</td><td>u8</td><td>date</td><td>str</td><td>u32</td><td>struct[7]</td></tr></thead><tbody><tr><td>2</td><td>2</td><td>2</td><td>null</td><td>161.0</td><td>null</td><td>[&quot;town_house&quot;, null]</td><td>null</td><td>null</td><td>2024-09-01</td><td>null</td><td>650000</td><td>{&quot;9&quot;,&quot;57&quot;,&quot;ASCOT STREET&quot;,&quot;ASCOT_VALE&quot;,3032,&quot;VIC&quot;,&quot;AUS&quot;}</td></tr><tr><td>2</td><td>2</td><td>2</td><td>null</td><td>161.0</td><td>null</td><td>[&quot;town_house&quot;, null]</td><td>null</td><td>null</td><td>2024-09-01</td><td>null</td><td>685000</td><td>{&quot;9&quot;,&quot;57&quot;,&quot;ASCOT STREET&quot;,&quot;ASCOT_VALE&quot;,3032,&quot;VIC&quot;,&quot;AUS&quot;}</td></tr><tr><td>2</td><td>2</td><td>2</td><td>null</td><td>161.0</td><td>null</td><td>[&quot;town_house&quot;, null]</td><td>null</td><td>null</td><td>2007-05-01</td><td>&quot;auction&quot;</td><td>320000</td><td>{&quot;9&quot;,&quot;57&quot;,&quot;ASCOT STREET&quot;,&quot;ASCOT_VALE&quot;,3032,&quot;VIC&quot;,&quot;AUS&quot;}</td></tr><tr><td>2</td><td>2</td><td>1</td><td>null</td><td>null</td><td>null</td><td>null</td><td>null</td><td>null</td><td>2024-07-01</td><td>null</td><td>null</td><td>{&quot;213&quot;,&quot;8&quot;,&quot;BURROWES STREET&quot;,&quot;ASCOT_VALE&quot;,3032,&quot;VIC&quot;,&quot;AUS&quot;}</td></tr><tr><td>2</td><td>2</td><td>1</td><td>null</td><td>null</td><td>null</td><td>null</td><td>null</td><td>null</td><td>2024-07-01</td><td>null</td><td>null</td><td>{&quot;213&quot;,&quot;8&quot;,&quot;BURROWES STREET&quot;,&quot;ASCOT_VALE&quot;,3032,&quot;VIC&quot;,&quot;AUS&quot;}</td></tr><tr><td>&hellip;</td><td>&hellip;</td><td>&hellip;</td><td>&hellip;</td><td>&hellip;</td><td>&hellip;</td><td>&hellip;</td><td>&hellip;</td><td>&hellip;</td><td>&hellip;</td><td>&hellip;</td><td>&hellip;</td><td>&hellip;</td></tr><tr><td>2</td><td>2</td><td>2</td><td>null</td><td>null</td><td>null</td><td>[&quot;apartment&quot;, null]</td><td>null</td><td>null</td><td>2007-07-01</td><td>null</td><td>379500</td><td>{&quot;7&quot;,&quot;157&quot;,&quot;EPSOM ROAD&quot;,&quot;ASCOT_VALE&quot;,3032,&quot;VIC&quot;,&quot;AUS&quot;}</td></tr><tr><td>2</td><td>2</td><td>2</td><td>null</td><td>null</td><td>null</td><td>null</td><td>null</td><td>null</td><td>2007-05-01</td><td>null</td><td>329000</td><td>{&quot;14&quot;,&quot;97&quot;,&quot;ASCOT VALE ROAD&quot;,&quot;ASCOT_VALE&quot;,3032,&quot;VIC&quot;,&quot;AUS&quot;}</td></tr><tr><td>2</td><td>2</td><td>2</td><td>null</td><td>null</td><td>null</td><td>null</td><td>null</td><td>null</td><td>2007-05-01</td><td>null</td><td>329000</td><td>{&quot;14&quot;,&quot;97&quot;,&quot;ASCOT VALE ROAD&quot;,&quot;ASCOT_VALE&quot;,3032,&quot;VIC&quot;,&quot;AUS&quot;}</td></tr><tr><td>2</td><td>2</td><td>2</td><td>null</td><td>null</td><td>null</td><td>[&quot;town_house&quot;, null]</td><td>null</td><td>null</td><td>2006-12-01</td><td>null</td><td>null</td><td>{null,&quot;9B&quot;,&quot;LANGS ROAD&quot;,&quot;ASCOT_VALE&quot;,3032,&quot;VIC&quot;,&quot;AUS&quot;}</td></tr><tr><td>2</td><td>2</td><td>2</td><td>null</td><td>null</td><td>null</td><td>[&quot;town_house&quot;, null]</td><td>null</td><td>null</td><td>2006-12-01</td><td>null</td><td>null</td><td>{null,&quot;9B&quot;,&quot;LANGS ROAD&quot;,&quot;ASCOT_VALE&quot;,3032,&quot;VIC&quot;,&quot;AUS&quot;}</td></tr></tbody></table></div>"
      ],
      "text/plain": [
       "shape: (1_392, 13)\n",
       "┌──────┬───────┬──────┬──────────────────┬───┬────────────┬─────────────┬────────┬─────────────────┐\n",
       "│ beds ┆ baths ┆ cars ┆ property_size_m2 ┆ … ┆ date       ┆ record_type ┆ price  ┆ address         │\n",
       "│ ---  ┆ ---   ┆ ---  ┆ ---              ┆   ┆ ---        ┆ ---         ┆ ---    ┆ ---             │\n",
       "│ u8   ┆ u8    ┆ u8   ┆ f32              ┆   ┆ date       ┆ str         ┆ u32    ┆ struct[7]       │\n",
       "╞══════╪═══════╪══════╪══════════════════╪═══╪════════════╪═════════════╪════════╪═════════════════╡\n",
       "│ 2    ┆ 2     ┆ 2    ┆ null             ┆ … ┆ 2024-09-01 ┆ null        ┆ 650000 ┆ {\"9\",\"57\",\"ASCO │\n",
       "│      ┆       ┆      ┆                  ┆   ┆            ┆             ┆        ┆ T               │\n",
       "│      ┆       ┆      ┆                  ┆   ┆            ┆             ┆        ┆ STREET\",\"ASCO…  │\n",
       "│ 2    ┆ 2     ┆ 2    ┆ null             ┆ … ┆ 2024-09-01 ┆ null        ┆ 685000 ┆ {\"9\",\"57\",\"ASCO │\n",
       "│      ┆       ┆      ┆                  ┆   ┆            ┆             ┆        ┆ T               │\n",
       "│      ┆       ┆      ┆                  ┆   ┆            ┆             ┆        ┆ STREET\",\"ASCO…  │\n",
       "│ 2    ┆ 2     ┆ 2    ┆ null             ┆ … ┆ 2007-05-01 ┆ auction     ┆ 320000 ┆ {\"9\",\"57\",\"ASCO │\n",
       "│      ┆       ┆      ┆                  ┆   ┆            ┆             ┆        ┆ T               │\n",
       "│      ┆       ┆      ┆                  ┆   ┆            ┆             ┆        ┆ STREET\",\"ASCO…  │\n",
       "│ 2    ┆ 2     ┆ 1    ┆ null             ┆ … ┆ 2024-07-01 ┆ null        ┆ null   ┆ {\"213\",\"8\",\"BUR │\n",
       "│      ┆       ┆      ┆                  ┆   ┆            ┆             ┆        ┆ ROWES           │\n",
       "│      ┆       ┆      ┆                  ┆   ┆            ┆             ┆        ┆ STREET\",\"…      │\n",
       "│ 2    ┆ 2     ┆ 1    ┆ null             ┆ … ┆ 2024-07-01 ┆ null        ┆ null   ┆ {\"213\",\"8\",\"BUR │\n",
       "│      ┆       ┆      ┆                  ┆   ┆            ┆             ┆        ┆ ROWES           │\n",
       "│      ┆       ┆      ┆                  ┆   ┆            ┆             ┆        ┆ STREET\",\"…      │\n",
       "│ …    ┆ …     ┆ …    ┆ …                ┆ … ┆ …          ┆ …           ┆ …      ┆ …               │\n",
       "│ 2    ┆ 2     ┆ 2    ┆ null             ┆ … ┆ 2007-07-01 ┆ null        ┆ 379500 ┆ {\"7\",\"157\",\"EPS │\n",
       "│      ┆       ┆      ┆                  ┆   ┆            ┆             ┆        ┆ OM              │\n",
       "│      ┆       ┆      ┆                  ┆   ┆            ┆             ┆        ┆ ROAD\",\"ASCOT…   │\n",
       "│ 2    ┆ 2     ┆ 2    ┆ null             ┆ … ┆ 2007-05-01 ┆ null        ┆ 329000 ┆ {\"14\",\"97\",\"ASC │\n",
       "│      ┆       ┆      ┆                  ┆   ┆            ┆             ┆        ┆ OT VALE         │\n",
       "│      ┆       ┆      ┆                  ┆   ┆            ┆             ┆        ┆ ROAD\",\"…        │\n",
       "│ 2    ┆ 2     ┆ 2    ┆ null             ┆ … ┆ 2007-05-01 ┆ null        ┆ 329000 ┆ {\"14\",\"97\",\"ASC │\n",
       "│      ┆       ┆      ┆                  ┆   ┆            ┆             ┆        ┆ OT VALE         │\n",
       "│      ┆       ┆      ┆                  ┆   ┆            ┆             ┆        ┆ ROAD\",\"…        │\n",
       "│ 2    ┆ 2     ┆ 2    ┆ null             ┆ … ┆ 2006-12-01 ┆ null        ┆ null   ┆ {null,\"9B\",\"LAN │\n",
       "│      ┆       ┆      ┆                  ┆   ┆            ┆             ┆        ┆ GS              │\n",
       "│      ┆       ┆      ┆                  ┆   ┆            ┆             ┆        ┆ ROAD\",\"ASCOT…   │\n",
       "│ 2    ┆ 2     ┆ 2    ┆ null             ┆ … ┆ 2006-12-01 ┆ null        ┆ null   ┆ {null,\"9B\",\"LAN │\n",
       "│      ┆       ┆      ┆                  ┆   ┆            ┆             ┆        ┆ GS              │\n",
       "│      ┆       ┆      ┆                  ┆   ┆            ┆             ┆        ┆ ROAD\",\"ASCOT…   │\n",
       "└──────┴───────┴──────┴──────────────────┴───┴────────────┴─────────────┴────────┴─────────────────┘"
      ]
     },
     "execution_count": 43,
     "metadata": {},
     "output_type": "execute_result"
    }
   ],
   "source": [
    "from property_models.models import Address\n",
    "\n",
    "Address.join_on(property_infos, price_records)"
   ]
  }
 ],
 "metadata": {
  "kernelspec": {
   "display_name": "Python 3",
   "language": "python",
   "name": "python3"
  },
  "language_info": {
   "codemirror_mode": {
    "name": "ipython",
    "version": 3
   },
   "file_extension": ".py",
   "mimetype": "text/x-python",
   "name": "python",
   "nbconvert_exporter": "python",
   "pygments_lexer": "ipython3",
   "version": "3.12.7"
  }
 },
 "nbformat": 4,
 "nbformat_minor": 2
}
