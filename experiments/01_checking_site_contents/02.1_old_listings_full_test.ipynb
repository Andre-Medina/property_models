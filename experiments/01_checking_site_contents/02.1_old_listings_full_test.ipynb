{
 "cells": [
  {
   "cell_type": "code",
   "execution_count": 7,
   "metadata": {},
   "outputs": [
    {
     "name": "stdout",
     "output_type": "stream",
     "text": [
      "The autoreload extension is already loaded. To reload it, use:\n",
      "  %reload_ext autoreload\n"
     ]
    }
   ],
   "source": [
    "%load_ext autoreload\n",
    "%autoreload 2\n",
    "from property_models.aus.old_listings import OldListing\n",
    "from property_models.models import PriceRecord, PropertyInfo"
   ]
  },
  {
   "cell_type": "code",
   "execution_count": 2,
   "metadata": {},
   "outputs": [],
   "source": [
    "driver = OldListing.start()"
   ]
  },
  {
   "cell_type": "code",
   "execution_count": 4,
   "metadata": {},
   "outputs": [
    {
     "name": "stdout",
     "output_type": "stream",
     "text": [
      "Getting page count...\n",
      "total pages: 7\n",
      "Getting data from page: 'https://www.oldlistings.com.au/real-estate/VIC/ascot+vale/3032/buy/1/:bed:2:bedmax:2:bath:2:car:1'\n",
      "Loading page...\n"
     ]
    },
    {
     "name": "stderr",
     "output_type": "stream",
     "text": [
      "extracting raw listings: 100%|██████████| 15/15 [00:07<00:00,  2.12it/s]\n",
      "converting to data: 100%|██████████| 15/15 [00:00<00:00, 1981.06it/s]\n"
     ]
    },
    {
     "name": "stdout",
     "output_type": "stream",
     "text": [
      "Cannot process land: '161m / 0.04 acres'\n",
      "Converting to frames.\n",
      "Success downloading form page!\n",
      "Getting data from page: 'https://www.oldlistings.com.au/real-estate/VIC/ascot+vale/3032/buy/2/:bed:2:bedmax:2:bath:2:car:1'\n",
      "Loading page...\n"
     ]
    },
    {
     "name": "stderr",
     "output_type": "stream",
     "text": [
      "extracting raw listings: 100%|██████████| 15/15 [00:06<00:00,  2.15it/s]\n",
      "converting to data: 100%|██████████| 15/15 [00:00<00:00, 3229.53it/s]\n"
     ]
    },
    {
     "name": "stdout",
     "output_type": "stream",
     "text": [
      "Converting to frames.\n",
      "Success downloading form page!\n",
      "Getting data from page: 'https://www.oldlistings.com.au/real-estate/VIC/ascot+vale/3032/buy/3/:bed:2:bedmax:2:bath:2:car:1'\n",
      "Loading page...\n"
     ]
    },
    {
     "name": "stderr",
     "output_type": "stream",
     "text": [
      "extracting raw listings: 100%|██████████| 15/15 [00:05<00:00,  2.77it/s]\n",
      "converting to data: 100%|██████████| 15/15 [00:00<00:00, 1258.12it/s]"
     ]
    },
    {
     "name": "stdout",
     "output_type": "stream",
     "text": [
      "Cannot process land: '538'\n",
      "Cannot process land: '231'\n",
      "Cannot process land: '234.02 sqm'\n",
      "Converting to frames.\n",
      "Success downloading form page!\n",
      "Enough pages\n"
     ]
    },
    {
     "name": "stderr",
     "output_type": "stream",
     "text": [
      "\n"
     ]
    }
   ],
   "source": [
    "property_infos, price_records = OldListing.extract(\n",
    "    driver=driver,\n",
    "    state=\"VIC\",\n",
    "    suburb=\"ASCOT_VALE\",\n",
    "    beds=2,\n",
    "    baths=2,\n",
    "    cars=1,\n",
    "    max_pages=3,\n",
    "    listings_per_page=15,\n",
    "    errors=\"skip\",\n",
    ")"
   ]
  },
  {
   "cell_type": "code",
   "execution_count": 6,
   "metadata": {},
   "outputs": [
    {
     "data": {
      "text/html": [
       "<div><style>\n",
       ".dataframe > thead > tr,\n",
       ".dataframe > tbody > tr {\n",
       "  text-align: right;\n",
       "  white-space: pre-wrap;\n",
       "}\n",
       "</style>\n",
       "<small>shape: (8, 10)</small><table border=\"1\" class=\"dataframe\"><thead><tr><th>address</th><th>beds</th><th>baths</th><th>cars</th><th>property_size_m2</th><th>land_size_m2</th><th>condition</th><th>property_type</th><th>construction_date</th><th>floors</th></tr><tr><td>struct[7]</td><td>u8</td><td>u8</td><td>u8</td><td>f32</td><td>f32</td><td>str</td><td>list[str]</td><td>date</td><td>u8</td></tr></thead><tbody><tr><td>{&quot;110&quot;,&quot;1&quot;,&quot;LANGS ROAD&quot;,&quot;ASCOT_VALE&quot;,3032,&quot;VIC&quot;,&quot;AUS&quot;}</td><td>2</td><td>2</td><td>1</td><td>null</td><td>null</td><td>null</td><td>[&quot;apartment&quot;, null]</td><td>null</td><td>null</td></tr><tr><td>{&quot;110&quot;,&quot;1&quot;,&quot;LANGS ROAD&quot;,&quot;ASCOT_VALE&quot;,3032,&quot;VIC&quot;,&quot;AUS&quot;}</td><td>2</td><td>2</td><td>1</td><td>null</td><td>null</td><td>null</td><td>null</td><td>null</td><td>null</td></tr><tr><td>{&quot;110&quot;,&quot;1&quot;,&quot;LANGS ROAD&quot;,&quot;ASCOT_VALE&quot;,3032,&quot;VIC&quot;,&quot;AUS&quot;}</td><td>2</td><td>2</td><td>1</td><td>null</td><td>null</td><td>null</td><td>null</td><td>null</td><td>null</td></tr><tr><td>{&quot;110&quot;,&quot;1&quot;,&quot;LANGS ROAD&quot;,&quot;ASCOT_VALE&quot;,3032,&quot;VIC&quot;,&quot;AUS&quot;}</td><td>2</td><td>2</td><td>1</td><td>null</td><td>null</td><td>null</td><td>[&quot;apartment&quot;, null]</td><td>null</td><td>null</td></tr><tr><td>{&quot;204&quot;,&quot;244&quot;,&quot;UNION ROAD&quot;,&quot;ASCOT_VALE&quot;,3032,&quot;VIC&quot;,&quot;AUS&quot;}</td><td>2</td><td>2</td><td>1</td><td>null</td><td>null</td><td>null</td><td>[&quot;apartment&quot;, null]</td><td>null</td><td>null</td></tr><tr><td>{&quot;204&quot;,&quot;244&quot;,&quot;UNION ROAD&quot;,&quot;ASCOT_VALE&quot;,3032,&quot;VIC&quot;,&quot;AUS&quot;}</td><td>2</td><td>2</td><td>1</td><td>null</td><td>null</td><td>null</td><td>null</td><td>null</td><td>null</td></tr><tr><td>{&quot;206&quot;,&quot;26&quot;,&quot;LEONARD CRESCENT&quot;,&quot;ASCOT_VALE&quot;,3032,&quot;VIC&quot;,&quot;AUS&quot;}</td><td>2</td><td>2</td><td>1</td><td>null</td><td>null</td><td>null</td><td>[&quot;apartment&quot;, null]</td><td>null</td><td>null</td></tr><tr><td>{&quot;206&quot;,&quot;26&quot;,&quot;LEONARD CRESCENT&quot;,&quot;ASCOT_VALE&quot;,3032,&quot;VIC&quot;,&quot;AUS&quot;}</td><td>2</td><td>2</td><td>1</td><td>null</td><td>null</td><td>null</td><td>[&quot;apartment&quot;, null]</td><td>null</td><td>null</td></tr></tbody></table></div>"
      ],
      "text/plain": [
       "shape: (8, 10)\n",
       "┌─────────────────┬──────┬───────┬──────┬───┬───────────┬────────────────┬────────────────┬────────┐\n",
       "│ address         ┆ beds ┆ baths ┆ cars ┆ … ┆ condition ┆ property_type  ┆ construction_d ┆ floors │\n",
       "│ ---             ┆ ---  ┆ ---   ┆ ---  ┆   ┆ ---       ┆ ---            ┆ ate            ┆ ---    │\n",
       "│ struct[7]       ┆ u8   ┆ u8    ┆ u8   ┆   ┆ str       ┆ list[str]      ┆ ---            ┆ u8     │\n",
       "│                 ┆      ┆       ┆      ┆   ┆           ┆                ┆ date           ┆        │\n",
       "╞═════════════════╪══════╪═══════╪══════╪═══╪═══════════╪════════════════╪════════════════╪════════╡\n",
       "│ {\"110\",\"1\",\"LAN ┆ 2    ┆ 2     ┆ 1    ┆ … ┆ null      ┆ [\"apartment\",  ┆ null           ┆ null   │\n",
       "│ GS              ┆      ┆       ┆      ┆   ┆           ┆ null]          ┆                ┆        │\n",
       "│ ROAD\",\"ASCOT…   ┆      ┆       ┆      ┆   ┆           ┆                ┆                ┆        │\n",
       "│ {\"110\",\"1\",\"LAN ┆ 2    ┆ 2     ┆ 1    ┆ … ┆ null      ┆ null           ┆ null           ┆ null   │\n",
       "│ GS              ┆      ┆       ┆      ┆   ┆           ┆                ┆                ┆        │\n",
       "│ ROAD\",\"ASCOT…   ┆      ┆       ┆      ┆   ┆           ┆                ┆                ┆        │\n",
       "│ {\"110\",\"1\",\"LAN ┆ 2    ┆ 2     ┆ 1    ┆ … ┆ null      ┆ null           ┆ null           ┆ null   │\n",
       "│ GS              ┆      ┆       ┆      ┆   ┆           ┆                ┆                ┆        │\n",
       "│ ROAD\",\"ASCOT…   ┆      ┆       ┆      ┆   ┆           ┆                ┆                ┆        │\n",
       "│ {\"110\",\"1\",\"LAN ┆ 2    ┆ 2     ┆ 1    ┆ … ┆ null      ┆ [\"apartment\",  ┆ null           ┆ null   │\n",
       "│ GS              ┆      ┆       ┆      ┆   ┆           ┆ null]          ┆                ┆        │\n",
       "│ ROAD\",\"ASCOT…   ┆      ┆       ┆      ┆   ┆           ┆                ┆                ┆        │\n",
       "│ {\"204\",\"244\",\"U ┆ 2    ┆ 2     ┆ 1    ┆ … ┆ null      ┆ [\"apartment\",  ┆ null           ┆ null   │\n",
       "│ NION            ┆      ┆       ┆      ┆   ┆           ┆ null]          ┆                ┆        │\n",
       "│ ROAD\",\"ASC…     ┆      ┆       ┆      ┆   ┆           ┆                ┆                ┆        │\n",
       "│ {\"204\",\"244\",\"U ┆ 2    ┆ 2     ┆ 1    ┆ … ┆ null      ┆ null           ┆ null           ┆ null   │\n",
       "│ NION            ┆      ┆       ┆      ┆   ┆           ┆                ┆                ┆        │\n",
       "│ ROAD\",\"ASC…     ┆      ┆       ┆      ┆   ┆           ┆                ┆                ┆        │\n",
       "│ {\"206\",\"26\",\"LE ┆ 2    ┆ 2     ┆ 1    ┆ … ┆ null      ┆ [\"apartment\",  ┆ null           ┆ null   │\n",
       "│ ONARD           ┆      ┆       ┆      ┆   ┆           ┆ null]          ┆                ┆        │\n",
       "│ CRESCENT\"…      ┆      ┆       ┆      ┆   ┆           ┆                ┆                ┆        │\n",
       "│ {\"206\",\"26\",\"LE ┆ 2    ┆ 2     ┆ 1    ┆ … ┆ null      ┆ [\"apartment\",  ┆ null           ┆ null   │\n",
       "│ ONARD           ┆      ┆       ┆      ┆   ┆           ┆ null]          ┆                ┆        │\n",
       "│ CRESCENT\"…      ┆      ┆       ┆      ┆   ┆           ┆                ┆                ┆        │\n",
       "└─────────────────┴──────┴───────┴──────┴───┴───────────┴────────────────┴────────────────┴────────┘"
      ]
     },
     "execution_count": 6,
     "metadata": {},
     "output_type": "execute_result"
    }
   ],
   "source": [
    "import polars as pl\n",
    "\n",
    "property_infos.filter(pl.col(\"address\").is_duplicated()).sort(\"address\")"
   ]
  },
  {
   "cell_type": "code",
   "execution_count": 22,
   "metadata": {},
   "outputs": [
    {
     "data": {
      "text/plain": [
       "Address(unit_number='1', street_number='54', street_name='ST LEONARDS ROAD', suburb='ASCOT_VALE', postcode=3032, state='VIC', country='AUS')"
      ]
     },
     "execution_count": 22,
     "metadata": {},
     "output_type": "execute_result"
    }
   ],
   "source": [
    "from property_models.models import Address\n",
    "\n",
    "Address.parse(\"1 54 ST LEONARDS ROAD, ASCOT_VALE, VIC 3032\", country=\"AUS\")"
   ]
  },
  {
   "cell_type": "code",
   "execution_count": 14,
   "metadata": {},
   "outputs": [
    {
     "data": {
      "text/html": [
       "<div><style>\n",
       ".dataframe > thead > tr,\n",
       ".dataframe > tbody > tr {\n",
       "  text-align: right;\n",
       "  white-space: pre-wrap;\n",
       "}\n",
       "</style>\n",
       "<small>shape: (40, 10)</small><table border=\"1\" class=\"dataframe\"><thead><tr><th>address</th><th>beds</th><th>baths</th><th>cars</th><th>property_size_m2</th><th>land_size_m2</th><th>condition</th><th>property_type</th><th>construction_date</th><th>floors</th></tr><tr><td>struct[7]</td><td>u8</td><td>u8</td><td>u8</td><td>f32</td><td>f32</td><td>str</td><td>list[str]</td><td>date</td><td>u8</td></tr></thead><tbody><tr><td>{null,&quot;1&quot;,&quot;54 ST LEONARDS ROAD&quot;,&quot;ASCOT_VALE&quot;,3032,&quot;VIC&quot;,&quot;AUS&quot;}</td><td>2</td><td>2</td><td>1</td><td>null</td><td>null</td><td>null</td><td>null</td><td>null</td><td>null</td></tr><tr><td>{null,&quot;107&quot;,&quot;1 LANGS ROAD&quot;,&quot;ASCOT_VALE&quot;,3032,&quot;VIC&quot;,&quot;AUS&quot;}</td><td>2</td><td>2</td><td>1</td><td>null</td><td>null</td><td>null</td><td>null</td><td>null</td><td>null</td></tr><tr><td>{null,&quot;145&quot;,&quot;MARIBYRNONG ROAD&quot;,&quot;ASCOT_VALE&quot;,3032,&quot;VIC&quot;,&quot;AUS&quot;}</td><td>2</td><td>2</td><td>1</td><td>null</td><td>null</td><td>null</td><td>null</td><td>null</td><td>null</td></tr><tr><td>{null,&quot;1A&quot;,&quot;33 FISHER PARADE&quot;,&quot;ASCOT_VALE&quot;,3032,&quot;VIC&quot;,&quot;AUS&quot;}</td><td>2</td><td>2</td><td>1</td><td>null</td><td>null</td><td>null</td><td>null</td><td>null</td><td>null</td></tr><tr><td>{null,&quot;1B&quot;,&quot;ADELAIDE STREET&quot;,&quot;ASCOT_VALE&quot;,3032,&quot;VIC&quot;,&quot;AUS&quot;}</td><td>2</td><td>2</td><td>1</td><td>null</td><td>null</td><td>null</td><td>null</td><td>null</td><td>null</td></tr><tr><td>&hellip;</td><td>&hellip;</td><td>&hellip;</td><td>&hellip;</td><td>&hellip;</td><td>&hellip;</td><td>&hellip;</td><td>&hellip;</td><td>&hellip;</td><td>&hellip;</td></tr><tr><td>{&quot;8&quot;,&quot;1&quot;,&quot;LANGS ROAD&quot;,&quot;ASCOT_VALE&quot;,3032,&quot;VIC&quot;,&quot;AUS&quot;}</td><td>2</td><td>2</td><td>1</td><td>null</td><td>null</td><td>null</td><td>[&quot;apartment&quot;, null]</td><td>null</td><td>null</td></tr><tr><td>{&quot;9&quot;,&quot;1&quot;,&quot;LANGS ROAD&quot;,&quot;ASCOT_VALE&quot;,3032,&quot;VIC&quot;,&quot;AUS&quot;}</td><td>2</td><td>2</td><td>1</td><td>null</td><td>null</td><td>null</td><td>[&quot;apartment&quot;, null]</td><td>null</td><td>null</td></tr><tr><td>{&quot;9&quot;,&quot;54&quot;,&quot;ST LEONARDS ROAD&quot;,&quot;ASCOT_VALE&quot;,3032,&quot;VIC&quot;,&quot;AUS&quot;}</td><td>2</td><td>2</td><td>1</td><td>null</td><td>null</td><td>null</td><td>null</td><td>null</td><td>null</td></tr><tr><td>{&quot;9&quot;,&quot;57&quot;,&quot;ASCOT STREET&quot;,&quot;ASCOT_VALE&quot;,3032,&quot;VIC&quot;,&quot;AUS&quot;}</td><td>2</td><td>2</td><td>2</td><td>null</td><td>null</td><td>null</td><td>[&quot;apartment&quot;, null]</td><td>null</td><td>null</td></tr><tr><td>{&quot;G03&quot;,&quot;8&quot;,&quot;BURROWES STREET&quot;,&quot;ASCOT_VALE&quot;,3032,&quot;VIC&quot;,&quot;AUS&quot;}</td><td>2</td><td>2</td><td>1</td><td>null</td><td>null</td><td>null</td><td>null</td><td>null</td><td>null</td></tr></tbody></table></div>"
      ],
      "text/plain": [
       "shape: (40, 10)\n",
       "┌─────────────────┬──────┬───────┬──────┬───┬───────────┬────────────────┬────────────────┬────────┐\n",
       "│ address         ┆ beds ┆ baths ┆ cars ┆ … ┆ condition ┆ property_type  ┆ construction_d ┆ floors │\n",
       "│ ---             ┆ ---  ┆ ---   ┆ ---  ┆   ┆ ---       ┆ ---            ┆ ate            ┆ ---    │\n",
       "│ struct[7]       ┆ u8   ┆ u8    ┆ u8   ┆   ┆ str       ┆ list[str]      ┆ ---            ┆ u8     │\n",
       "│                 ┆      ┆       ┆      ┆   ┆           ┆                ┆ date           ┆        │\n",
       "╞═════════════════╪══════╪═══════╪══════╪═══╪═══════════╪════════════════╪════════════════╪════════╡\n",
       "│ {null,\"1\",\"54   ┆ 2    ┆ 2     ┆ 1    ┆ … ┆ null      ┆ null           ┆ null           ┆ null   │\n",
       "│ ST LEONARDS     ┆      ┆       ┆      ┆   ┆           ┆                ┆                ┆        │\n",
       "│ ROAD…           ┆      ┆       ┆      ┆   ┆           ┆                ┆                ┆        │\n",
       "│ {null,\"107\",\"1  ┆ 2    ┆ 2     ┆ 1    ┆ … ┆ null      ┆ null           ┆ null           ┆ null   │\n",
       "│ LANGS           ┆      ┆       ┆      ┆   ┆           ┆                ┆                ┆        │\n",
       "│ ROAD\",\"AS…      ┆      ┆       ┆      ┆   ┆           ┆                ┆                ┆        │\n",
       "│ {null,\"145\",\"MA ┆ 2    ┆ 2     ┆ 1    ┆ … ┆ null      ┆ null           ┆ null           ┆ null   │\n",
       "│ RIBYRNONG       ┆      ┆       ┆      ┆   ┆           ┆                ┆                ┆        │\n",
       "│ ROAD\"…          ┆      ┆       ┆      ┆   ┆           ┆                ┆                ┆        │\n",
       "│ {null,\"1A\",\"33  ┆ 2    ┆ 2     ┆ 1    ┆ … ┆ null      ┆ null           ┆ null           ┆ null   │\n",
       "│ FISHER          ┆      ┆       ┆      ┆   ┆           ┆                ┆                ┆        │\n",
       "│ PARADE\",…       ┆      ┆       ┆      ┆   ┆           ┆                ┆                ┆        │\n",
       "│ {null,\"1B\",\"ADE ┆ 2    ┆ 2     ┆ 1    ┆ … ┆ null      ┆ null           ┆ null           ┆ null   │\n",
       "│ LAIDE           ┆      ┆       ┆      ┆   ┆           ┆                ┆                ┆        │\n",
       "│ STREET\",\"…      ┆      ┆       ┆      ┆   ┆           ┆                ┆                ┆        │\n",
       "│ …               ┆ …    ┆ …     ┆ …    ┆ … ┆ …         ┆ …              ┆ …              ┆ …      │\n",
       "│ {\"8\",\"1\",\"LANGS ┆ 2    ┆ 2     ┆ 1    ┆ … ┆ null      ┆ [\"apartment\",  ┆ null           ┆ null   │\n",
       "│ ROAD\",\"ASCOT_V… ┆      ┆       ┆      ┆   ┆           ┆ null]          ┆                ┆        │\n",
       "│ {\"9\",\"1\",\"LANGS ┆ 2    ┆ 2     ┆ 1    ┆ … ┆ null      ┆ [\"apartment\",  ┆ null           ┆ null   │\n",
       "│ ROAD\",\"ASCOT_V… ┆      ┆       ┆      ┆   ┆           ┆ null]          ┆                ┆        │\n",
       "│ {\"9\",\"54\",\"ST   ┆ 2    ┆ 2     ┆ 1    ┆ … ┆ null      ┆ null           ┆ null           ┆ null   │\n",
       "│ LEONARDS        ┆      ┆       ┆      ┆   ┆           ┆                ┆                ┆        │\n",
       "│ ROAD\",\"…        ┆      ┆       ┆      ┆   ┆           ┆                ┆                ┆        │\n",
       "│ {\"9\",\"57\",\"ASCO ┆ 2    ┆ 2     ┆ 2    ┆ … ┆ null      ┆ [\"apartment\",  ┆ null           ┆ null   │\n",
       "│ T               ┆      ┆       ┆      ┆   ┆           ┆ null]          ┆                ┆        │\n",
       "│ STREET\",\"ASCO…  ┆      ┆       ┆      ┆   ┆           ┆                ┆                ┆        │\n",
       "│ {\"G03\",\"8\",\"BUR ┆ 2    ┆ 2     ┆ 1    ┆ … ┆ null      ┆ null           ┆ null           ┆ null   │\n",
       "│ ROWES           ┆      ┆       ┆      ┆   ┆           ┆                ┆                ┆        │\n",
       "│ STREET\",\"…      ┆      ┆       ┆      ┆   ┆           ┆                ┆                ┆        │\n",
       "└─────────────────┴──────┴───────┴──────┴───┴───────────┴────────────────┴────────────────┴────────┘"
      ]
     },
     "execution_count": 14,
     "metadata": {},
     "output_type": "execute_result"
    }
   ],
   "source": [
    "PropertyInfo.unique(property_infos)"
   ]
  },
  {
   "cell_type": "code",
   "execution_count": 12,
   "metadata": {},
   "outputs": [
    {
     "data": {
      "text/html": [
       "<div><style>\n",
       ".dataframe > thead > tr,\n",
       ".dataframe > tbody > tr {\n",
       "  text-align: right;\n",
       "  white-space: pre-wrap;\n",
       "}\n",
       "</style>\n",
       "<small>shape: (131, 4)</small><table border=\"1\" class=\"dataframe\"><thead><tr><th>address</th><th>date</th><th>record_type</th><th>price</th></tr><tr><td>struct[7]</td><td>date</td><td>str</td><td>u32</td></tr></thead><tbody><tr><td>{&quot;9&quot;,&quot;57&quot;,&quot;ASCOT STREET&quot;,&quot;ASCOT_VALE&quot;,3032,&quot;VIC&quot;,&quot;AUS&quot;}</td><td>2024-09-01</td><td>null</td><td>650000</td></tr><tr><td>{&quot;9&quot;,&quot;57&quot;,&quot;ASCOT STREET&quot;,&quot;ASCOT_VALE&quot;,3032,&quot;VIC&quot;,&quot;AUS&quot;}</td><td>2024-09-01</td><td>null</td><td>685000</td></tr><tr><td>{&quot;9&quot;,&quot;57&quot;,&quot;ASCOT STREET&quot;,&quot;ASCOT_VALE&quot;,3032,&quot;VIC&quot;,&quot;AUS&quot;}</td><td>2007-05-01</td><td>&quot;auction&quot;</td><td>320000</td></tr><tr><td>{&quot;213&quot;,&quot;8&quot;,&quot;BURROWES STREET&quot;,&quot;ASCOT_VALE&quot;,3032,&quot;VIC&quot;,&quot;AUS&quot;}</td><td>2024-07-01</td><td>null</td><td>null</td></tr><tr><td>{&quot;213&quot;,&quot;8&quot;,&quot;BURROWES STREET&quot;,&quot;ASCOT_VALE&quot;,3032,&quot;VIC&quot;,&quot;AUS&quot;}</td><td>2024-07-01</td><td>null</td><td>null</td></tr><tr><td>&hellip;</td><td>&hellip;</td><td>&hellip;</td><td>&hellip;</td></tr><tr><td>{null,&quot;42&quot;,&quot;MILTON STREET&quot;,&quot;ASCOT_VALE&quot;,3032,&quot;VIC&quot;,&quot;AUS&quot;}</td><td>2009-12-01</td><td>null</td><td>null</td></tr><tr><td>{&quot;110&quot;,&quot;1&quot;,&quot;LANGS ROAD&quot;,&quot;ASCOT_VALE&quot;,3032,&quot;VIC&quot;,&quot;AUS&quot;}</td><td>2021-06-01</td><td>null</td><td>null</td></tr><tr><td>{&quot;110&quot;,&quot;1&quot;,&quot;LANGS ROAD&quot;,&quot;ASCOT_VALE&quot;,3032,&quot;VIC&quot;,&quot;AUS&quot;}</td><td>2021-06-01</td><td>null</td><td>null</td></tr><tr><td>{&quot;110&quot;,&quot;1&quot;,&quot;LANGS ROAD&quot;,&quot;ASCOT_VALE&quot;,3032,&quot;VIC&quot;,&quot;AUS&quot;}</td><td>2021-06-01</td><td>null</td><td>null</td></tr><tr><td>{&quot;110&quot;,&quot;1&quot;,&quot;LANGS ROAD&quot;,&quot;ASCOT_VALE&quot;,3032,&quot;VIC&quot;,&quot;AUS&quot;}</td><td>2021-06-01</td><td>null</td><td>null</td></tr></tbody></table></div>"
      ],
      "text/plain": [
       "shape: (131, 4)\n",
       "┌─────────────────────────────────┬────────────┬─────────────┬────────┐\n",
       "│ address                         ┆ date       ┆ record_type ┆ price  │\n",
       "│ ---                             ┆ ---        ┆ ---         ┆ ---    │\n",
       "│ struct[7]                       ┆ date       ┆ str         ┆ u32    │\n",
       "╞═════════════════════════════════╪════════════╪═════════════╪════════╡\n",
       "│ {\"9\",\"57\",\"ASCOT STREET\",\"ASCO… ┆ 2024-09-01 ┆ null        ┆ 650000 │\n",
       "│ {\"9\",\"57\",\"ASCOT STREET\",\"ASCO… ┆ 2024-09-01 ┆ null        ┆ 685000 │\n",
       "│ {\"9\",\"57\",\"ASCOT STREET\",\"ASCO… ┆ 2007-05-01 ┆ auction     ┆ 320000 │\n",
       "│ {\"213\",\"8\",\"BURROWES STREET\",\"… ┆ 2024-07-01 ┆ null        ┆ null   │\n",
       "│ {\"213\",\"8\",\"BURROWES STREET\",\"… ┆ 2024-07-01 ┆ null        ┆ null   │\n",
       "│ …                               ┆ …          ┆ …           ┆ …      │\n",
       "│ {null,\"42\",\"MILTON STREET\",\"AS… ┆ 2009-12-01 ┆ null        ┆ null   │\n",
       "│ {\"110\",\"1\",\"LANGS ROAD\",\"ASCOT… ┆ 2021-06-01 ┆ null        ┆ null   │\n",
       "│ {\"110\",\"1\",\"LANGS ROAD\",\"ASCOT… ┆ 2021-06-01 ┆ null        ┆ null   │\n",
       "│ {\"110\",\"1\",\"LANGS ROAD\",\"ASCOT… ┆ 2021-06-01 ┆ null        ┆ null   │\n",
       "│ {\"110\",\"1\",\"LANGS ROAD\",\"ASCOT… ┆ 2021-06-01 ┆ null        ┆ null   │\n",
       "└─────────────────────────────────┴────────────┴─────────────┴────────┘"
      ]
     },
     "execution_count": 12,
     "metadata": {},
     "output_type": "execute_result"
    }
   ],
   "source": [
    "price_records"
   ]
  }
 ],
 "metadata": {
  "kernelspec": {
   "display_name": "Python 3",
   "language": "python",
   "name": "python3"
  },
  "language_info": {
   "codemirror_mode": {
    "name": "ipython",
    "version": 3
   },
   "file_extension": ".py",
   "mimetype": "text/x-python",
   "name": "python",
   "nbconvert_exporter": "python",
   "pygments_lexer": "ipython3",
   "version": "3.12.7"
  }
 },
 "nbformat": 4,
 "nbformat_minor": 2
}
