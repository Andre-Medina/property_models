{
 "cells": [
  {
   "cell_type": "code",
   "execution_count": 1,
   "metadata": {},
   "outputs": [],
   "source": [
    "%load_ext autoreload\n",
    "%autoreload 2\n",
    "from property_models.aus.old_listings import OldListing"
   ]
  },
  {
   "cell_type": "code",
   "execution_count": 2,
   "metadata": {},
   "outputs": [],
   "source": [
    "driver = OldListing.start()"
   ]
  },
  {
   "cell_type": "code",
   "execution_count": 3,
   "metadata": {},
   "outputs": [
    {
     "name": "stdout",
     "output_type": "stream",
     "text": [
      "Getting page count...\n",
      "total pages: 7\n",
      "Getting data from page: 'https://www.oldlistings.com.au/real-estate/VIC/ascot+vale/3032/buy/1/:bed:2:bedmax:2:bath:2:car:1'\n",
      "Loading page...\n"
     ]
    },
    {
     "name": "stderr",
     "output_type": "stream",
     "text": [
      "extracting raw listings: 100%|██████████| 50/50 [00:14<00:00,  3.56it/s]\n",
      "converting to data: 100%|██████████| 50/50 [00:00<00:00, 4275.80it/s]\n"
     ]
    },
    {
     "name": "stdout",
     "output_type": "stream",
     "text": [
      "Cannot process land: '161m / 0.04 acres'\n",
      "Converting to frames.\n",
      "Success downloading form page!\n",
      "Getting data from page: 'https://www.oldlistings.com.au/real-estate/VIC/ascot+vale/3032/buy/2/:bed:2:bedmax:2:bath:2:car:1'\n",
      "Loading page...\n"
     ]
    },
    {
     "name": "stderr",
     "output_type": "stream",
     "text": [
      "extracting raw listings: 100%|██████████| 50/50 [00:14<00:00,  3.43it/s]\n",
      "converting to data: 100%|██████████| 50/50 [00:00<00:00, 5098.47it/s]\n"
     ]
    },
    {
     "name": "stdout",
     "output_type": "stream",
     "text": [
      "Cannot process land: '343 m2 (approx)'\n",
      "Cannot process land: '89.00'\n",
      "Cannot process land: '564'\n",
      "Cannot process land: '200 sqm'\n",
      "Converting to frames.\n",
      "Success downloading form page!\n",
      "Getting data from page: 'https://www.oldlistings.com.au/real-estate/VIC/ascot+vale/3032/buy/3/:bed:2:bedmax:2:bath:2:car:1'\n",
      "Loading page...\n"
     ]
    },
    {
     "name": "stderr",
     "output_type": "stream",
     "text": [
      "extracting raw listings: 100%|██████████| 50/50 [00:14<00:00,  3.38it/s]\n",
      "converting to data:  20%|██        | 10/50 [00:00<00:00, 3349.55it/s]\n"
     ]
    },
    {
     "name": "stdout",
     "output_type": "stream",
     "text": [
      "Cannot process land: '538'\n",
      "Cannot process land: '231'\n"
     ]
    },
    {
     "ename": "Exception",
     "evalue": "Not Valid Address Foramt",
     "output_type": "error",
     "traceback": [
      "\u001b[0;31m---------------------------------------------------------------------------\u001b[0m",
      "\u001b[0;31mException\u001b[0m                                 Traceback (most recent call last)",
      "Cell \u001b[0;32mIn[3], line 1\u001b[0m\n\u001b[0;32m----> 1\u001b[0m data \u001b[38;5;241m=\u001b[39m \u001b[43mOldListing\u001b[49m\u001b[38;5;241;43m.\u001b[39;49m\u001b[43mextract\u001b[49m\u001b[43m(\u001b[49m\n\u001b[1;32m      2\u001b[0m \u001b[43m    \u001b[49m\u001b[43mdriver\u001b[49m\u001b[38;5;241;43m=\u001b[39;49m\u001b[43mdriver\u001b[49m\u001b[43m,\u001b[49m\n\u001b[1;32m      3\u001b[0m \u001b[43m    \u001b[49m\u001b[43mstate\u001b[49m\u001b[43m \u001b[49m\u001b[38;5;241;43m=\u001b[39;49m\u001b[43m \u001b[49m\u001b[38;5;124;43m\"\u001b[39;49m\u001b[38;5;124;43mVIC\u001b[39;49m\u001b[38;5;124;43m\"\u001b[39;49m\u001b[43m,\u001b[49m\n\u001b[1;32m      4\u001b[0m \u001b[43m    \u001b[49m\u001b[43msuburb\u001b[49m\u001b[43m \u001b[49m\u001b[38;5;241;43m=\u001b[39;49m\u001b[43m \u001b[49m\u001b[38;5;124;43m\"\u001b[39;49m\u001b[38;5;124;43mASCOT_VALE\u001b[39;49m\u001b[38;5;124;43m\"\u001b[39;49m\u001b[43m,\u001b[49m\n\u001b[1;32m      5\u001b[0m \u001b[43m    \u001b[49m\u001b[43mbeds\u001b[49m\u001b[43m \u001b[49m\u001b[38;5;241;43m=\u001b[39;49m\u001b[43m \u001b[49m\u001b[38;5;241;43m2\u001b[39;49m\u001b[43m,\u001b[49m\u001b[43m \u001b[49m\n\u001b[1;32m      6\u001b[0m \u001b[43m    \u001b[49m\u001b[43mbaths\u001b[49m\u001b[43m \u001b[49m\u001b[38;5;241;43m=\u001b[39;49m\u001b[43m \u001b[49m\u001b[38;5;241;43m2\u001b[39;49m\u001b[43m,\u001b[49m\n\u001b[1;32m      7\u001b[0m \u001b[43m    \u001b[49m\u001b[43mcars\u001b[49m\u001b[43m \u001b[49m\u001b[38;5;241;43m=\u001b[39;49m\u001b[43m \u001b[49m\u001b[38;5;241;43m1\u001b[39;49m\u001b[43m,\u001b[49m\n\u001b[1;32m      8\u001b[0m \u001b[43m    \u001b[49m\u001b[38;5;66;43;03m# max_pages=5,\u001b[39;49;00m\n\u001b[1;32m      9\u001b[0m \u001b[43m    \u001b[49m\u001b[38;5;66;43;03m# listings_per_page=15\u001b[39;49;00m\n\u001b[1;32m     10\u001b[0m \u001b[43m)\u001b[49m\n",
      "File \u001b[0;32m~/git/private/property_models/property_models/aus/old_listings/old_listings.py:64\u001b[0m, in \u001b[0;36mOldListing.extract\u001b[0;34m(cls, driver, state, suburb, beds, baths, cars, max_pages, listings_per_page)\u001b[0m\n\u001b[1;32m     60\u001b[0m \u001b[38;5;28mprint\u001b[39m(\u001b[38;5;124m\"\u001b[39m\u001b[38;5;124mLoading page...\u001b[39m\u001b[38;5;124m\"\u001b[39m)\n\u001b[1;32m     61\u001b[0m driver\u001b[38;5;241m.\u001b[39mget(page_url)\n\u001b[0;32m---> 64\u001b[0m property_infos, price_records \u001b[38;5;241m=\u001b[39m \u001b[38;5;28;43mcls\u001b[39;49m\u001b[38;5;241;43m.\u001b[39;49m\u001b[43mextract_data_from_page\u001b[49m\u001b[43m(\u001b[49m\n\u001b[1;32m     65\u001b[0m \u001b[43m    \u001b[49m\u001b[43mdriver\u001b[49m\u001b[43m,\u001b[49m\u001b[43m   \u001b[49m\n\u001b[1;32m     66\u001b[0m \u001b[43m    \u001b[49m\u001b[43mstate\u001b[49m\u001b[38;5;241;43m=\u001b[39;49m\u001b[43mnext_page_url\u001b[49m\u001b[38;5;241;43m.\u001b[39;49m\u001b[43mstate\u001b[49m\u001b[43m,\u001b[49m\n\u001b[1;32m     67\u001b[0m \u001b[43m    \u001b[49m\u001b[43mpostcode\u001b[49m\u001b[38;5;241;43m=\u001b[39;49m\u001b[43mnext_page_url\u001b[49m\u001b[38;5;241;43m.\u001b[39;49m\u001b[43mpostcode\u001b[49m\u001b[43m,\u001b[49m\n\u001b[1;32m     68\u001b[0m \u001b[43m    \u001b[49m\u001b[43mlistings_per_page\u001b[49m\u001b[38;5;241;43m=\u001b[39;49m\u001b[43mlistings_per_page\u001b[49m\u001b[43m,\u001b[49m\n\u001b[1;32m     69\u001b[0m \u001b[43m\u001b[49m\u001b[43m)\u001b[49m\n\u001b[1;32m     70\u001b[0m price_records_list\u001b[38;5;241m.\u001b[39mappend(price_records)\n\u001b[1;32m     71\u001b[0m property_infos_list\u001b[38;5;241m.\u001b[39mappend(property_infos)\n",
      "File \u001b[0;32m~/git/private/property_models/property_models/aus/old_listings/old_listings.py:103\u001b[0m, in \u001b[0;36mOldListing.extract_data_from_page\u001b[0;34m(cls, driver, state, postcode, listings_per_page)\u001b[0m\n\u001b[1;32m    101\u001b[0m price_records: \u001b[38;5;28mlist\u001b[39m[PriceRecord] \u001b[38;5;241m=\u001b[39m []\n\u001b[1;32m    102\u001b[0m \u001b[38;5;28;01mfor\u001b[39;00m raw_listing \u001b[38;5;129;01min\u001b[39;00m tqdm(raw_listings, desc\u001b[38;5;241m=\u001b[39m\u001b[38;5;124m\"\u001b[39m\u001b[38;5;124mconverting to data\u001b[39m\u001b[38;5;124m\"\u001b[39m):\n\u001b[0;32m--> 103\u001b[0m     property_info \u001b[38;5;241m=\u001b[39m \u001b[43mraw_listing\u001b[49m\u001b[38;5;241;43m.\u001b[39;49m\u001b[43mto_property_info\u001b[49m\u001b[43m(\u001b[49m\u001b[43m)\u001b[49m\n\u001b[1;32m    104\u001b[0m     property_infos\u001b[38;5;241m.\u001b[39mappend(property_info)\n\u001b[1;32m    106\u001b[0m     price_record \u001b[38;5;241m=\u001b[39m raw_listing\u001b[38;5;241m.\u001b[39mto_price_records()\n",
      "File \u001b[0;32m~/git/private/property_models/property_models/aus/old_listings/constants.py:99\u001b[0m, in \u001b[0;36mRawListing.to_property_info\u001b[0;34m(self)\u001b[0m\n\u001b[1;32m     95\u001b[0m \u001b[38;5;28;01mif\u001b[39;00m \u001b[38;5;28mself\u001b[39m\u001b[38;5;241m.\u001b[39mgeneral_info\u001b[38;5;241m.\u001b[39mland_size_m2 \u001b[38;5;129;01mis\u001b[39;00m \u001b[38;5;129;01mnot\u001b[39;00m \u001b[38;5;28;01mNone\u001b[39;00m:\n\u001b[1;32m     96\u001b[0m     \u001b[38;5;28mprint\u001b[39m(\u001b[38;5;124mf\u001b[39m\u001b[38;5;124m\"\u001b[39m\u001b[38;5;124mCannot process land: \u001b[39m\u001b[38;5;132;01m{\u001b[39;00m\u001b[38;5;28mself\u001b[39m\u001b[38;5;241m.\u001b[39mgeneral_info\u001b[38;5;241m.\u001b[39mland_size_m2\u001b[38;5;132;01m!r}\u001b[39;00m\u001b[38;5;124m\"\u001b[39m)\n\u001b[1;32m     98\u001b[0m property_info \u001b[38;5;241m=\u001b[39m PropertyInfo(\n\u001b[0;32m---> 99\u001b[0m     address\u001b[38;5;241m=\u001b[39m\u001b[43mAddress\u001b[49m\u001b[38;5;241;43m.\u001b[39;49m\u001b[43mparse\u001b[49m\u001b[43m(\u001b[49m\u001b[38;5;28;43mself\u001b[39;49m\u001b[38;5;241;43m.\u001b[39;49m\u001b[43mgeneral_info\u001b[49m\u001b[38;5;241;43m.\u001b[39;49m\u001b[43maddress\u001b[49m\u001b[43m,\u001b[49m\u001b[43m \u001b[49m\u001b[43mcountry\u001b[49m\u001b[38;5;241;43m=\u001b[39;49m\u001b[38;5;124;43m\"\u001b[39;49m\u001b[38;5;124;43mAUS\u001b[39;49m\u001b[38;5;124;43m\"\u001b[39;49m\u001b[43m)\u001b[49m,\n\u001b[1;32m    100\u001b[0m     beds\u001b[38;5;241m=\u001b[39m\u001b[38;5;28mint\u001b[39m(\u001b[38;5;28mself\u001b[39m\u001b[38;5;241m.\u001b[39mgeneral_info\u001b[38;5;241m.\u001b[39mbeds),\n\u001b[1;32m    101\u001b[0m     baths\u001b[38;5;241m=\u001b[39m\u001b[38;5;28mint\u001b[39m(\u001b[38;5;28mself\u001b[39m\u001b[38;5;241m.\u001b[39mgeneral_info\u001b[38;5;241m.\u001b[39mbaths),\n\u001b[1;32m    102\u001b[0m     cars\u001b[38;5;241m=\u001b[39m\u001b[38;5;28mint\u001b[39m(\u001b[38;5;28mself\u001b[39m\u001b[38;5;241m.\u001b[39mgeneral_info\u001b[38;5;241m.\u001b[39mcars),\n\u001b[1;32m    103\u001b[0m     property_size_m2\u001b[38;5;241m=\u001b[39m\u001b[38;5;28;01mNone\u001b[39;00m,\n\u001b[1;32m    104\u001b[0m     land_size_m2\u001b[38;5;241m=\u001b[39m\u001b[38;5;28;01mNone\u001b[39;00m,\n\u001b[1;32m    105\u001b[0m     condition\u001b[38;5;241m=\u001b[39m\u001b[38;5;28;01mNone\u001b[39;00m,\n\u001b[1;32m    106\u001b[0m     property_type\u001b[38;5;241m=\u001b[39mPropertyType\u001b[38;5;241m.\u001b[39mparse(\u001b[38;5;28mself\u001b[39m\u001b[38;5;241m.\u001b[39mgeneral_info\u001b[38;5;241m.\u001b[39mproperty_type, errors\u001b[38;5;241m=\u001b[39m\u001b[38;5;124m\"\u001b[39m\u001b[38;5;124mraise\u001b[39m\u001b[38;5;124m\"\u001b[39m),\n\u001b[1;32m    107\u001b[0m     construction_date\u001b[38;5;241m=\u001b[39m\u001b[38;5;28;01mNone\u001b[39;00m,\n\u001b[1;32m    108\u001b[0m     floors\u001b[38;5;241m=\u001b[39m\u001b[38;5;28;01mNone\u001b[39;00m,\n\u001b[1;32m    109\u001b[0m )\n\u001b[1;32m    111\u001b[0m \u001b[38;5;28;01mreturn\u001b[39;00m property_info\n",
      "File \u001b[0;32m~/git/private/property_models/property_models/models.py:89\u001b[0m, in \u001b[0;36mAddress.parse\u001b[0;34m(cls, address, country)\u001b[0m\n\u001b[1;32m     87\u001b[0m \u001b[38;5;28;01mmatch\u001b[39;00m country:\n\u001b[1;32m     88\u001b[0m     \u001b[38;5;28;01mcase\u001b[39;00m \u001b[38;5;124m\"\u001b[39m\u001b[38;5;124mAUS\u001b[39m\u001b[38;5;124m\"\u001b[39m:\n\u001b[0;32m---> 89\u001b[0m         address_object \u001b[38;5;241m=\u001b[39m \u001b[38;5;28;43mcls\u001b[39;49m\u001b[38;5;241;43m.\u001b[39;49m\u001b[43m_parse_australian_address\u001b[49m\u001b[43m(\u001b[49m\u001b[43maddress\u001b[49m\u001b[43m)\u001b[49m\n\u001b[1;32m     91\u001b[0m     \u001b[38;5;28;01mcase\u001b[39;00m\u001b[38;5;250m \u001b[39m\u001b[38;5;28;01m_\u001b[39;00m:\n\u001b[1;32m     92\u001b[0m         \u001b[38;5;28;01mraise\u001b[39;00m \u001b[38;5;167;01mNotImplementedError\u001b[39;00m(\u001b[38;5;124mf\u001b[39m\u001b[38;5;124m\"\u001b[39m\u001b[38;5;124mCannot parse address for \u001b[39m\u001b[38;5;132;01m{\u001b[39;00mcountry\u001b[38;5;132;01m!r}\u001b[39;00m\u001b[38;5;124m\"\u001b[39m)\n",
      "File \u001b[0;32m~/git/private/property_models/property_models/models.py:109\u001b[0m, in \u001b[0;36mAddress._parse_australian_address\u001b[0;34m(cls, address)\u001b[0m\n\u001b[1;32m    107\u001b[0m     exc\u001b[38;5;241m.\u001b[39madd_note(\u001b[38;5;124mf\u001b[39m\u001b[38;5;124m\"\u001b[39m\u001b[38;5;124mIssue with address: \u001b[39m\u001b[38;5;132;01m{\u001b[39;00maddress\u001b[38;5;132;01m!r}\u001b[39;00m\u001b[38;5;124m\"\u001b[39m)\n\u001b[1;32m    108\u001b[0m     exc\u001b[38;5;241m.\u001b[39madd_note(\u001b[38;5;124mf\u001b[39m\u001b[38;5;124m\"\u001b[39m\u001b[38;5;124mCleaned as: \u001b[39m\u001b[38;5;132;01m{\u001b[39;00maddress_\u001b[38;5;132;01m!r}\u001b[39;00m\u001b[38;5;124m\"\u001b[39m)\n\u001b[0;32m--> 109\u001b[0m     \u001b[38;5;28;01mraise\u001b[39;00m exc\n\u001b[1;32m    111\u001b[0m address_object \u001b[38;5;241m=\u001b[39m \u001b[38;5;28mcls\u001b[39m(\n\u001b[1;32m    112\u001b[0m     unit_number\u001b[38;5;241m=\u001b[39mparsed_address\u001b[38;5;241m.\u001b[39m_flat \u001b[38;5;28;01mif\u001b[39;00m parsed_address\u001b[38;5;241m.\u001b[39m_flat \u001b[38;5;28;01melse\u001b[39;00m \u001b[38;5;28;01mNone\u001b[39;00m,\n\u001b[1;32m    113\u001b[0m     street_number\u001b[38;5;241m=\u001b[39mparsed_address\u001b[38;5;241m.\u001b[39m_number_first,\n\u001b[0;32m   (...)\u001b[0m\n\u001b[1;32m    118\u001b[0m     country\u001b[38;5;241m=\u001b[39m\u001b[38;5;124m\"\u001b[39m\u001b[38;5;124mAUS\u001b[39m\u001b[38;5;124m\"\u001b[39m,\n\u001b[1;32m    119\u001b[0m )\n\u001b[1;32m    121\u001b[0m \u001b[38;5;28;01mreturn\u001b[39;00m address_object\n",
      "File \u001b[0;32m~/git/private/property_models/property_models/models.py:105\u001b[0m, in \u001b[0;36mAddress._parse_australian_address\u001b[0;34m(cls, address)\u001b[0m\n\u001b[1;32m    103\u001b[0m     address_ \u001b[38;5;241m=\u001b[39m re\u001b[38;5;241m.\u001b[39msub(\u001b[38;5;124mr\u001b[39m\u001b[38;5;124m'\u001b[39m\u001b[38;5;124m^([a-zA-Z\u001b[39m\u001b[38;5;124m\\\u001b[39m\u001b[38;5;124md\u001b[39m\u001b[38;5;124m\\\u001b[39m\u001b[38;5;124m.]+),\u001b[39m\u001b[38;5;124m\\\u001b[39m\u001b[38;5;124ms*\u001b[39m\u001b[38;5;124m'\u001b[39m, \u001b[38;5;124mr\u001b[39m\u001b[38;5;124m'\u001b[39m\u001b[38;5;124m\\\u001b[39m\u001b[38;5;124m1/\u001b[39m\u001b[38;5;124m'\u001b[39m, address_) \u001b[38;5;66;03m#  `unit, number` into `unit/ number`\u001b[39;00m\n\u001b[1;32m    104\u001b[0m     address_ \u001b[38;5;241m=\u001b[39m address_\u001b[38;5;241m.\u001b[39mreplace(\u001b[38;5;124m\"\u001b[39m\u001b[38;5;124m_\u001b[39m\u001b[38;5;124m\"\u001b[39m, \u001b[38;5;124m\"\u001b[39m\u001b[38;5;124m \u001b[39m\u001b[38;5;124m\"\u001b[39m) \u001b[38;5;66;03m# Fix \"SUBURB_NAME\" into \"SUBURB NAME\"\u001b[39;00m\n\u001b[0;32m--> 105\u001b[0m     parsed_address \u001b[38;5;241m=\u001b[39m \u001b[43mAbAddressUtility\u001b[49m\u001b[43m(\u001b[49m\u001b[43maddress_\u001b[49m\u001b[43m)\u001b[49m\n\u001b[1;32m    106\u001b[0m \u001b[38;5;28;01mexcept\u001b[39;00m \u001b[38;5;167;01mException\u001b[39;00m \u001b[38;5;28;01mas\u001b[39;00m exc:\n\u001b[1;32m    107\u001b[0m     exc\u001b[38;5;241m.\u001b[39madd_note(\u001b[38;5;124mf\u001b[39m\u001b[38;5;124m\"\u001b[39m\u001b[38;5;124mIssue with address: \u001b[39m\u001b[38;5;132;01m{\u001b[39;00maddress\u001b[38;5;132;01m!r}\u001b[39;00m\u001b[38;5;124m\"\u001b[39m)\n",
      "File \u001b[0;32m~/git/private/property_models/.pixi/envs/default/lib/python3.12/site-packages/au_address_parser/addr_parser.py:77\u001b[0m, in \u001b[0;36mAbAddressUtility.__init__\u001b[0;34m(self, addr_string)\u001b[0m\n\u001b[1;32m     75\u001b[0m         \u001b[38;5;28;01mraise\u001b[39;00m \u001b[38;5;167;01mException\u001b[39;00m(\u001b[38;5;124m'\u001b[39m\u001b[38;5;124mNot Valid Address Foramt\u001b[39m\u001b[38;5;124m'\u001b[39m)\n\u001b[1;32m     76\u001b[0m \u001b[38;5;28;01melse\u001b[39;00m:\n\u001b[0;32m---> 77\u001b[0m     \u001b[38;5;28;01mraise\u001b[39;00m \u001b[38;5;167;01mException\u001b[39;00m(\u001b[38;5;124m'\u001b[39m\u001b[38;5;124mNot Valid Address Foramt\u001b[39m\u001b[38;5;124m'\u001b[39m)\n\u001b[1;32m     79\u001b[0m \u001b[38;5;66;03m# Parse street part\u001b[39;00m\n\u001b[1;32m     80\u001b[0m street_part_patterns \u001b[38;5;241m=\u001b[39m [\n\u001b[1;32m     81\u001b[0m     \u001b[38;5;124mr\u001b[39m\u001b[38;5;124m\"\u001b[39m\u001b[38;5;124m(UNIT|LOT|SHOP|SUITE|U|ROOM)\u001b[39m\u001b[38;5;124m\\\u001b[39m\u001b[38;5;124ms*(?P<flat_number>[A-Z]*\u001b[39m\u001b[38;5;124m\\\u001b[39m\u001b[38;5;124md+[A-Z]*)\u001b[39m\u001b[38;5;124m\\\u001b[39m\u001b[38;5;124ms+(?P<number>[A-Z]*\u001b[39m\u001b[38;5;124m\\\u001b[39m\u001b[38;5;124md+[A-Z]*(-[A-Z]*\u001b[39m\u001b[38;5;124m\\\u001b[39m\u001b[38;5;124md*[A-Z]*)*\u001b[39m\u001b[38;5;124m\\\u001b[39m\u001b[38;5;124mb)\u001b[39m\u001b[38;5;124m\\\u001b[39m\u001b[38;5;124ms+(?P<street_name>[^,]*?)$\u001b[39m\u001b[38;5;124m\"\u001b[39m,\n\u001b[1;32m     82\u001b[0m     \u001b[38;5;124mr\u001b[39m\u001b[38;5;124m\"\u001b[39m\u001b[38;5;124m(?P<flat_number>\u001b[39m\u001b[38;5;124m\\\u001b[39m\u001b[38;5;124mb[A-Z]*\u001b[39m\u001b[38;5;124m\\\u001b[39m\u001b[38;5;124md+[A-Z]*)/(?P<number>[A-Z]*\u001b[39m\u001b[38;5;124m\\\u001b[39m\u001b[38;5;124md+[A-Z]*(-\u001b[39m\u001b[38;5;124m\\\u001b[39m\u001b[38;5;124md*[A-Z]*)*\u001b[39m\u001b[38;5;124m\\\u001b[39m\u001b[38;5;124mb)\u001b[39m\u001b[38;5;124m\\\u001b[39m\u001b[38;5;124ms+(?P<street_name>[^,]*?)$\u001b[39m\u001b[38;5;124m\"\u001b[39m,\n\u001b[1;32m     83\u001b[0m     \u001b[38;5;124mr\u001b[39m\u001b[38;5;124m\"\u001b[39m\u001b[38;5;124m(?P<number>[A-Z]*\u001b[39m\u001b[38;5;124m\\\u001b[39m\u001b[38;5;124md+[A-Z]*(-[A-Z]*\u001b[39m\u001b[38;5;124m\\\u001b[39m\u001b[38;5;124md*[A-Z]*)*\u001b[39m\u001b[38;5;124m\\\u001b[39m\u001b[38;5;124mb)\u001b[39m\u001b[38;5;124m\\\u001b[39m\u001b[38;5;124ms+(?P<street_name>[^,]*?)$\u001b[39m\u001b[38;5;124m\"\u001b[39m\n\u001b[1;32m     84\u001b[0m ]\n",
      "\u001b[0;31mException\u001b[0m: Not Valid Address Foramt",
      "\u001b[0mIssue with address: '1.02 & 1.10, 1 LANGS ROAD, ASCOT VALE, VIC 3032'",
      "\u001b[0mCleaned as: ' 110, 1 LANGS ROAD, ASCOT VALE, VIC 3032'"
     ]
    }
   ],
   "source": [
    "data = OldListing.extract(\n",
    "    driver=driver,\n",
    "    state=\"VIC\",\n",
    "    suburb=\"ASCOT_VALE\",\n",
    "    beds=2,\n",
    "    baths=2,\n",
    "    cars=1,\n",
    "    # max_pages=5,\n",
    "    # listings_per_page=15\n",
    ")"
   ]
  },
  {
   "cell_type": "code",
   "execution_count": null,
   "metadata": {},
   "outputs": [
    {
     "data": {
      "text/html": [
       "<div><style>\n",
       ".dataframe > thead > tr,\n",
       ".dataframe > tbody > tr {\n",
       "  text-align: right;\n",
       "  white-space: pre-wrap;\n",
       "}\n",
       "</style>\n",
       "<small>shape: (15, 10)</small><table border=\"1\" class=\"dataframe\"><thead><tr><th>address</th><th>beds</th><th>baths</th><th>cars</th><th>property_size_m2</th><th>land_size_m2</th><th>condition</th><th>property_type</th><th>construction_date</th><th>floors</th></tr><tr><td>struct[7]</td><td>u8</td><td>u8</td><td>u8</td><td>f32</td><td>f32</td><td>str</td><td>list[str]</td><td>date</td><td>u8</td></tr></thead><tbody><tr><td>{9,57,&quot;ASCOT STREET&quot;,&quot;ASCOT_VALE&quot;,3032,&quot;VIC&quot;,&quot;AUS&quot;}</td><td>2</td><td>2</td><td>2</td><td>null</td><td>null</td><td>null</td><td>[&quot;apartment&quot;, null]</td><td>null</td><td>null</td></tr><tr><td>{213,8,&quot;BURROWES STREET&quot;,&quot;ASCOT_VALE&quot;,3032,&quot;VIC&quot;,&quot;AUS&quot;}</td><td>2</td><td>2</td><td>1</td><td>null</td><td>null</td><td>null</td><td>null</td><td>null</td><td>null</td></tr><tr><td>{8,1,&quot;LANGS ROAD&quot;,&quot;ASCOT_VALE&quot;,3032,&quot;VIC&quot;,&quot;AUS&quot;}</td><td>2</td><td>2</td><td>1</td><td>null</td><td>null</td><td>null</td><td>[&quot;apartment&quot;, null]</td><td>null</td><td>null</td></tr><tr><td>{null,null,&quot;ADELAIDE STREET&quot;,&quot;ASCOT_VALE&quot;,3032,&quot;VIC&quot;,&quot;AUS&quot;}</td><td>2</td><td>2</td><td>1</td><td>null</td><td>null</td><td>null</td><td>null</td><td>null</td><td>null</td></tr><tr><td>{null,3,&quot;47 ROXBURGH STREET&quot;,&quot;ASCOT_VALE&quot;,3032,&quot;VIC&quot;,&quot;AUS&quot;}</td><td>2</td><td>2</td><td>1</td><td>null</td><td>null</td><td>null</td><td>null</td><td>null</td><td>null</td></tr><tr><td>&hellip;</td><td>&hellip;</td><td>&hellip;</td><td>&hellip;</td><td>&hellip;</td><td>&hellip;</td><td>&hellip;</td><td>&hellip;</td><td>&hellip;</td><td>&hellip;</td></tr><tr><td>{5,54,&quot;ST LEONARDS ROAD&quot;,&quot;ASCOT_VALE&quot;,3032,&quot;VIC&quot;,&quot;AUS&quot;}</td><td>2</td><td>2</td><td>1</td><td>null</td><td>null</td><td>null</td><td>null</td><td>null</td><td>null</td></tr><tr><td>{9,54,&quot;ST LEONARDS ROAD&quot;,&quot;ASCOT_VALE&quot;,3032,&quot;VIC&quot;,&quot;AUS&quot;}</td><td>2</td><td>2</td><td>1</td><td>null</td><td>null</td><td>null</td><td>null</td><td>null</td><td>null</td></tr><tr><td>{109,8,&quot;BURROWES STREET&quot;,&quot;ASCOT_VALE&quot;,3032,&quot;VIC&quot;,&quot;AUS&quot;}</td><td>2</td><td>2</td><td>1</td><td>null</td><td>null</td><td>null</td><td>null</td><td>null</td><td>null</td></tr><tr><td>{null,17,&quot;MOOLTAN STREET&quot;,&quot;ASCOT_VALE&quot;,3032,&quot;VIC&quot;,&quot;AUS&quot;}</td><td>2</td><td>2</td><td>1</td><td>null</td><td>null</td><td>null</td><td>[&quot;apartment&quot;, null]</td><td>null</td><td>null</td></tr><tr><td>{null,23,&quot;FENTON STREET&quot;,&quot;ASCOT_VALE&quot;,3032,&quot;VIC&quot;,&quot;AUS&quot;}</td><td>2</td><td>2</td><td>2</td><td>null</td><td>null</td><td>null</td><td>[&quot;apartment&quot;, null]</td><td>null</td><td>null</td></tr></tbody></table></div>"
      ],
      "text/plain": [
       "shape: (15, 10)\n",
       "┌─────────────────┬──────┬───────┬──────┬───┬───────────┬────────────────┬────────────────┬────────┐\n",
       "│ address         ┆ beds ┆ baths ┆ cars ┆ … ┆ condition ┆ property_type  ┆ construction_d ┆ floors │\n",
       "│ ---             ┆ ---  ┆ ---   ┆ ---  ┆   ┆ ---       ┆ ---            ┆ ate            ┆ ---    │\n",
       "│ struct[7]       ┆ u8   ┆ u8    ┆ u8   ┆   ┆ str       ┆ list[str]      ┆ ---            ┆ u8     │\n",
       "│                 ┆      ┆       ┆      ┆   ┆           ┆                ┆ date           ┆        │\n",
       "╞═════════════════╪══════╪═══════╪══════╪═══╪═══════════╪════════════════╪════════════════╪════════╡\n",
       "│ {9,57,\"ASCOT    ┆ 2    ┆ 2     ┆ 2    ┆ … ┆ null      ┆ [\"apartment\",  ┆ null           ┆ null   │\n",
       "│ STREET\",\"ASCOT_ ┆      ┆       ┆      ┆   ┆           ┆ null]          ┆                ┆        │\n",
       "│ VA…             ┆      ┆       ┆      ┆   ┆           ┆                ┆                ┆        │\n",
       "│ {213,8,\"BURROWE ┆ 2    ┆ 2     ┆ 1    ┆ … ┆ null      ┆ null           ┆ null           ┆ null   │\n",
       "│ S               ┆      ┆       ┆      ┆   ┆           ┆                ┆                ┆        │\n",
       "│ STREET\",\"ASCO…  ┆      ┆       ┆      ┆   ┆           ┆                ┆                ┆        │\n",
       "│ {8,1,\"LANGS ROA ┆ 2    ┆ 2     ┆ 1    ┆ … ┆ null      ┆ [\"apartment\",  ┆ null           ┆ null   │\n",
       "│ D\",\"ASCOT_VALE\" ┆      ┆       ┆      ┆   ┆           ┆ null]          ┆                ┆        │\n",
       "│ …               ┆      ┆       ┆      ┆   ┆           ┆                ┆                ┆        │\n",
       "│ {null,null,\"ADE ┆ 2    ┆ 2     ┆ 1    ┆ … ┆ null      ┆ null           ┆ null           ┆ null   │\n",
       "│ LAIDE           ┆      ┆       ┆      ┆   ┆           ┆                ┆                ┆        │\n",
       "│ STREET\",\"…      ┆      ┆       ┆      ┆   ┆           ┆                ┆                ┆        │\n",
       "│ {null,3,\"47     ┆ 2    ┆ 2     ┆ 1    ┆ … ┆ null      ┆ null           ┆ null           ┆ null   │\n",
       "│ ROXBURGH        ┆      ┆       ┆      ┆   ┆           ┆                ┆                ┆        │\n",
       "│ STREET\",\"…      ┆      ┆       ┆      ┆   ┆           ┆                ┆                ┆        │\n",
       "│ …               ┆ …    ┆ …     ┆ …    ┆ … ┆ …         ┆ …              ┆ …              ┆ …      │\n",
       "│ {5,54,\"ST       ┆ 2    ┆ 2     ┆ 1    ┆ … ┆ null      ┆ null           ┆ null           ┆ null   │\n",
       "│ LEONARDS        ┆      ┆       ┆      ┆   ┆           ┆                ┆                ┆        │\n",
       "│ ROAD\",\"ASCO…    ┆      ┆       ┆      ┆   ┆           ┆                ┆                ┆        │\n",
       "│ {9,54,\"ST       ┆ 2    ┆ 2     ┆ 1    ┆ … ┆ null      ┆ null           ┆ null           ┆ null   │\n",
       "│ LEONARDS        ┆      ┆       ┆      ┆   ┆           ┆                ┆                ┆        │\n",
       "│ ROAD\",\"ASCO…    ┆      ┆       ┆      ┆   ┆           ┆                ┆                ┆        │\n",
       "│ {109,8,\"BURROWE ┆ 2    ┆ 2     ┆ 1    ┆ … ┆ null      ┆ null           ┆ null           ┆ null   │\n",
       "│ S               ┆      ┆       ┆      ┆   ┆           ┆                ┆                ┆        │\n",
       "│ STREET\",\"ASCO…  ┆      ┆       ┆      ┆   ┆           ┆                ┆                ┆        │\n",
       "│ {null,17,\"MOOLT ┆ 2    ┆ 2     ┆ 1    ┆ … ┆ null      ┆ [\"apartment\",  ┆ null           ┆ null   │\n",
       "│ AN              ┆      ┆       ┆      ┆   ┆           ┆ null]          ┆                ┆        │\n",
       "│ STREET\",\"ASC…   ┆      ┆       ┆      ┆   ┆           ┆                ┆                ┆        │\n",
       "│ {null,23,\"FENTO ┆ 2    ┆ 2     ┆ 2    ┆ … ┆ null      ┆ [\"apartment\",  ┆ null           ┆ null   │\n",
       "│ N               ┆      ┆       ┆      ┆   ┆           ┆ null]          ┆                ┆        │\n",
       "│ STREET\",\"ASCO…  ┆      ┆       ┆      ┆   ┆           ┆                ┆                ┆        │\n",
       "└─────────────────┴──────┴───────┴──────┴───┴───────────┴────────────────┴────────────────┴────────┘"
      ]
     },
     "execution_count": 4,
     "metadata": {},
     "output_type": "execute_result"
    }
   ],
   "source": [
    "data[0]"
   ]
  },
  {
   "cell_type": "code",
   "execution_count": null,
   "metadata": {},
   "outputs": [
    {
     "data": {
      "text/html": [
       "<div><style>\n",
       ".dataframe > thead > tr,\n",
       ".dataframe > tbody > tr {\n",
       "  text-align: right;\n",
       "  white-space: pre-wrap;\n",
       "}\n",
       "</style>\n",
       "<small>shape: (51, 4)</small><table border=\"1\" class=\"dataframe\"><thead><tr><th>address</th><th>date</th><th>record_type</th><th>price</th></tr><tr><td>struct[7]</td><td>date</td><td>str</td><td>u32</td></tr></thead><tbody><tr><td>{9,57,&quot;ASCOT STREET&quot;,&quot;ASCOT_VALE&quot;,3032,&quot;VIC&quot;,&quot;AUS&quot;}</td><td>2024-09-01</td><td>null</td><td>650000</td></tr><tr><td>{9,57,&quot;ASCOT STREET&quot;,&quot;ASCOT_VALE&quot;,3032,&quot;VIC&quot;,&quot;AUS&quot;}</td><td>2024-09-01</td><td>null</td><td>685000</td></tr><tr><td>{9,57,&quot;ASCOT STREET&quot;,&quot;ASCOT_VALE&quot;,3032,&quot;VIC&quot;,&quot;AUS&quot;}</td><td>2007-05-01</td><td>&quot;auction&quot;</td><td>320000</td></tr><tr><td>{213,8,&quot;BURROWES STREET&quot;,&quot;ASCOT_VALE&quot;,3032,&quot;VIC&quot;,&quot;AUS&quot;}</td><td>2024-07-01</td><td>null</td><td>null</td></tr><tr><td>{213,8,&quot;BURROWES STREET&quot;,&quot;ASCOT_VALE&quot;,3032,&quot;VIC&quot;,&quot;AUS&quot;}</td><td>2024-07-01</td><td>null</td><td>null</td></tr><tr><td>&hellip;</td><td>&hellip;</td><td>&hellip;</td><td>&hellip;</td></tr><tr><td>{null,17,&quot;MOOLTAN STREET&quot;,&quot;ASCOT_VALE&quot;,3032,&quot;VIC&quot;,&quot;AUS&quot;}</td><td>2018-08-01</td><td>null</td><td>null</td></tr><tr><td>{null,17,&quot;MOOLTAN STREET&quot;,&quot;ASCOT_VALE&quot;,3032,&quot;VIC&quot;,&quot;AUS&quot;}</td><td>2018-08-01</td><td>&quot;auction&quot;</td><td>null</td></tr><tr><td>{null,23,&quot;FENTON STREET&quot;,&quot;ASCOT_VALE&quot;,3032,&quot;VIC&quot;,&quot;AUS&quot;}</td><td>2018-08-01</td><td>null</td><td>1150000</td></tr><tr><td>{null,23,&quot;FENTON STREET&quot;,&quot;ASCOT_VALE&quot;,3032,&quot;VIC&quot;,&quot;AUS&quot;}</td><td>2018-08-01</td><td>null</td><td>1200000</td></tr><tr><td>{null,23,&quot;FENTON STREET&quot;,&quot;ASCOT_VALE&quot;,3032,&quot;VIC&quot;,&quot;AUS&quot;}</td><td>2018-08-01</td><td>&quot;auction&quot;</td><td>null</td></tr></tbody></table></div>"
      ],
      "text/plain": [
       "shape: (51, 4)\n",
       "┌─────────────────────────────────┬────────────┬─────────────┬─────────┐\n",
       "│ address                         ┆ date       ┆ record_type ┆ price   │\n",
       "│ ---                             ┆ ---        ┆ ---         ┆ ---     │\n",
       "│ struct[7]                       ┆ date       ┆ str         ┆ u32     │\n",
       "╞═════════════════════════════════╪════════════╪═════════════╪═════════╡\n",
       "│ {9,57,\"ASCOT STREET\",\"ASCOT_VA… ┆ 2024-09-01 ┆ null        ┆ 650000  │\n",
       "│ {9,57,\"ASCOT STREET\",\"ASCOT_VA… ┆ 2024-09-01 ┆ null        ┆ 685000  │\n",
       "│ {9,57,\"ASCOT STREET\",\"ASCOT_VA… ┆ 2007-05-01 ┆ auction     ┆ 320000  │\n",
       "│ {213,8,\"BURROWES STREET\",\"ASCO… ┆ 2024-07-01 ┆ null        ┆ null    │\n",
       "│ {213,8,\"BURROWES STREET\",\"ASCO… ┆ 2024-07-01 ┆ null        ┆ null    │\n",
       "│ …                               ┆ …          ┆ …           ┆ …       │\n",
       "│ {null,17,\"MOOLTAN STREET\",\"ASC… ┆ 2018-08-01 ┆ null        ┆ null    │\n",
       "│ {null,17,\"MOOLTAN STREET\",\"ASC… ┆ 2018-08-01 ┆ auction     ┆ null    │\n",
       "│ {null,23,\"FENTON STREET\",\"ASCO… ┆ 2018-08-01 ┆ null        ┆ 1150000 │\n",
       "│ {null,23,\"FENTON STREET\",\"ASCO… ┆ 2018-08-01 ┆ null        ┆ 1200000 │\n",
       "│ {null,23,\"FENTON STREET\",\"ASCO… ┆ 2018-08-01 ┆ auction     ┆ null    │\n",
       "└─────────────────────────────────┴────────────┴─────────────┴─────────┘"
      ]
     },
     "execution_count": 5,
     "metadata": {},
     "output_type": "execute_result"
    }
   ],
   "source": [
    "data[1]"
   ]
  },
  {
   "cell_type": "code",
   "execution_count": null,
   "metadata": {},
   "outputs": [],
   "source": []
  }
 ],
 "metadata": {
  "kernelspec": {
   "display_name": "Python 3",
   "language": "python",
   "name": "python3"
  },
  "language_info": {
   "codemirror_mode": {
    "name": "ipython",
    "version": 3
   },
   "file_extension": ".py",
   "mimetype": "text/x-python",
   "name": "python",
   "nbconvert_exporter": "python",
   "pygments_lexer": "ipython3",
   "version": "3.12.7"
  }
 },
 "nbformat": 4,
 "nbformat_minor": 2
}
